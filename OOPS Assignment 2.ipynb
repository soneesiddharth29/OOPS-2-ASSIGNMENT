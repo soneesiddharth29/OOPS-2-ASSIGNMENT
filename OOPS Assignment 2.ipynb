{
 "cells": [
  {
   "cell_type": "markdown",
   "id": "52242ed5-f1d1-406c-8281-71361d8f392e",
   "metadata": {},
   "source": [
    "topic - Constructor:\n"
   ]
  },
  {
   "cell_type": "markdown",
   "id": "536fa8c5-294b-4940-b601-9c4ce8c6c047",
   "metadata": {},
   "source": [
    "1. What is a constructor in Python? Explain its purpose and usage."
   ]
  },
  {
   "cell_type": "markdown",
   "id": "c4b18cb1-4319-43ab-af4f-4e023a41cb3f",
   "metadata": {},
   "source": [
    "In Python, a constructor is a special method that is automatically called when an object is created from a class. It is used to initialize the attributes of the object and perform any setup that is required before the object can be used. In Python, the constructor method is named __init__.\n",
    "\n",
    "The purpose of a constructor is to ensure that the object is properly initialized with the necessary values when it is created. It allows you to set default values for attributes, perform any necessary computations or configurations, and generally prepare the object for use."
   ]
  },
  {
   "cell_type": "code",
   "execution_count": 1,
   "id": "bea8bb30-a7e9-498c-ab61-76250540984c",
   "metadata": {},
   "outputs": [
    {
     "name": "stdout",
     "output_type": "stream",
     "text": [
      "value1\n",
      "value2\n"
     ]
    }
   ],
   "source": [
    "class MyClass:\n",
    "    def __init__(self, attribute1, attribute2):\n",
    "        # This is the constructor\n",
    "        self.attribute1 = attribute1\n",
    "        self.attribute2 = attribute2\n",
    "\n",
    "# Creating an object of MyClass\n",
    "my_object = MyClass(\"value1\", \"value2\")\n",
    "\n",
    "# Accessing the attributes of the object\n",
    "print(my_object.attribute1)  # Output: value1\n",
    "print(my_object.attribute2)  # Output: value2\n"
   ]
  },
  {
   "cell_type": "markdown",
   "id": "0a115fb8-e7dd-41f6-b731-76ffe49f60d4",
   "metadata": {},
   "source": [
    "In this example, the __init__ method is the constructor, and it initializes the attribute1 and attribute2 of the object with the values passed during the object creation (my_object = MyClass(\"value1\", \"value2\")). Constructors can have default values for parameters, making them optional during object creation.\n",
    "\n",
    "By convention, the first parameter of a constructor is self, which refers to the instance of the object being created. The subsequent parameters are used to initialize the attributes of the object."
   ]
  },
  {
   "cell_type": "markdown",
   "id": "865d6df3-7d14-4404-ad47-5747e4e23f45",
   "metadata": {},
   "source": [
    "2. Differentiate between a parameterless constructor and a parameterized constructor in Python."
   ]
  },
  {
   "cell_type": "markdown",
   "id": "64a4f673-6208-4527-b6da-dd47d5d5c0c1",
   "metadata": {},
   "source": [
    "In Python, a constructor is a special method used for initializing an object. Constructors can be categorized into two main types: parameterless constructors and parameterized constructors.\n",
    "\n",
    "Parameterless Constructor:\n",
    "\n",
    "Definition: A parameterless constructor, also known as a default constructor, is a constructor that takes no parameters.\n",
    "Syntax: def __init__(self):\n",
    "Purpose: It is used to initialize the object with default values or perform any necessary setup without requiring any external information during object creation."
   ]
  },
  {
   "cell_type": "code",
   "execution_count": 2,
   "id": "3d122e19-fec6-421e-ae48-680e408d21c9",
   "metadata": {},
   "outputs": [
    {
     "name": "stdout",
     "output_type": "stream",
     "text": [
      "This is a parameterless constructor.\n"
     ]
    }
   ],
   "source": [
    "class ParameterlessConstructorExample:\n",
    "    def __init__(self):\n",
    "        print(\"This is a parameterless constructor.\")\n",
    "\n",
    "# Creating an object of the class\n",
    "obj = ParameterlessConstructorExample()\n"
   ]
  },
  {
   "cell_type": "markdown",
   "id": "1b060608-2556-449e-8f6d-6e9d015c3e9e",
   "metadata": {},
   "source": [
    "Parameterized Constructor:\n",
    "\n",
    "Definition: A parameterized constructor is a constructor that takes one or more parameters.\n",
    "Syntax: def __init__(self, parameter1, parameter2, ...):\n",
    "Purpose: It is used to initialize the object with specific values passed as parameters during object creation. It allows customization and flexibility in setting initial values."
   ]
  },
  {
   "cell_type": "code",
   "execution_count": 3,
   "id": "f398d9ae-06a9-483f-a972-e5045e25b29e",
   "metadata": {},
   "outputs": [],
   "source": [
    "class ParameterizedConstructorExample:\n",
    "    def __init__(self, value1, value2):\n",
    "        self.attribute1 = value1\n",
    "        self.attribute2 = value2\n",
    "\n",
    "# Creating an object of the class with specific values\n",
    "obj = ParameterizedConstructorExample(\"some_value\", 42)\n"
   ]
  },
  {
   "cell_type": "markdown",
   "id": "05294619-82ca-4d0d-8c65-62d32ab7ae27",
   "metadata": {},
   "source": [
    "In summary, the main difference lies in the presence or absence of parameters in the constructor. Parameterless constructors are used when default initialization is sufficient, while parameterized constructors are used when you need to customize the initialization of the object with specific values.\n",
    "\n",
    "\n",
    "\n",
    "\n",
    "\n"
   ]
  },
  {
   "cell_type": "markdown",
   "id": "d8b2f1bf-7092-4f99-ad3d-ae08e59e4304",
   "metadata": {},
   "source": [
    "3. How do you define a constructor in a Python class? Provide an example"
   ]
  },
  {
   "cell_type": "markdown",
   "id": "a4e372f3-56d1-4c27-acde-428063f7fa0d",
   "metadata": {},
   "source": [
    "In Python, a constructor is defined using a special method called __init__. This method is automatically called when an object is created from a class, and it is used to initialize the object's attributes. The self parameter in the constructor refers to the instance of the object being created."
   ]
  },
  {
   "cell_type": "code",
   "execution_count": 4,
   "id": "9888ae76-4e26-4423-ada5-c287db7454c8",
   "metadata": {},
   "outputs": [
    {
     "name": "stdout",
     "output_type": "stream",
     "text": [
      "value1\n",
      "value2\n"
     ]
    }
   ],
   "source": [
    "class MyClass:\n",
    "    def __init__(self, attribute1, attribute2):\n",
    "        # This is the constructor\n",
    "        self.attribute1 = attribute1\n",
    "        self.attribute2 = attribute2\n",
    "\n",
    "# Creating an object of MyClass\n",
    "my_object = MyClass(\"value1\", \"value2\")\n",
    "\n",
    "# Accessing the attributes of the object\n",
    "print(my_object.attribute1)  # Output: value1\n",
    "print(my_object.attribute2)  # Output: value2\n"
   ]
  },
  {
   "cell_type": "markdown",
   "id": "875266f1-48d0-4b9f-ae13-370bb918b038",
   "metadata": {},
   "source": [
    "In this example, the __init__ method is the constructor. It takes three parameters: self (a reference to the instance being created), attribute1, and attribute2. Inside the constructor, the attributes attribute1 and attribute2 of the object are initialized with the values passed during the object creation (my_object = MyClass(\"value1\", \"value2\"))."
   ]
  },
  {
   "cell_type": "markdown",
   "id": "9993dcfb-3909-47f3-9bbc-84bb9f70a80c",
   "metadata": {},
   "source": [
    "4. Explain the `__init__` method in Python and its role in constructors."
   ]
  },
  {
   "cell_type": "markdown",
   "id": "923f6d5a-8d8b-4a51-b87c-1c9fb5925188",
   "metadata": {},
   "source": [
    "In Python, the __init__ method is a special method that is automatically called when an object is created from a class. It is also known as the constructor method. The primary role of the __init__ method is to initialize the attributes of the object and perform any setup that is required before the object can be used.\n",
    "\n",
    "Here are some key points about the __init__ method and its role in constructors:\n",
    "\n",
    "1 Initialization: The __init__ method is used to initialize the attributes of the object. Inside this method, you can set the initial values of instance variables, perform computations, or execute any code that should run when the object is created.\n",
    "\n",
    "2 Automatic Invocation: The __init__ method is automatically called when an object is instantiated from a class. When you create an object using the class name followed by parentheses (e.g., my_object = MyClass()), Python internally calls the __init__ method to initialize the object.\n",
    "\n",
    "3 self Parameter: The first parameter of the __init__ method is always self. It is a reference to the instance of the object being created. By convention, it is named self, but you can choose any name for this parameter. This parameter allows you to refer to the instance's attributes within the method.\n",
    "\n",
    "4 Role in Constructors: The __init__ method plays a crucial role in constructors. While constructors can perform various tasks, such as setting default values or performing setup operations, the __init__ method is where the core initialization takes place"
   ]
  },
  {
   "cell_type": "code",
   "execution_count": 5,
   "id": "5e285c74-8350-4f35-b7d0-06bbd2e60e83",
   "metadata": {},
   "outputs": [
    {
     "name": "stdout",
     "output_type": "stream",
     "text": [
      "value1\n",
      "value2\n"
     ]
    }
   ],
   "source": [
    "class MyClass:\n",
    "    def __init__(self, attribute1, attribute2):\n",
    "        # This is the constructor\n",
    "        self.attribute1 = attribute1\n",
    "        self.attribute2 = attribute2\n",
    "\n",
    "# Creating an object of MyClass\n",
    "my_object = MyClass(\"value1\", \"value2\")\n",
    "\n",
    "# Accessing the attributes of the object\n",
    "print(my_object.attribute1)  # Output: value1\n",
    "print(my_object.attribute2)  # Output: value2\n"
   ]
  },
  {
   "cell_type": "markdown",
   "id": "dc153467-effe-4629-aa23-3b27fbebc864",
   "metadata": {},
   "source": [
    "5. In a class named `Person`, create a constructor that initializes the `name` and `age` attributes. Provide an\n",
    "example of creating an object of this class."
   ]
  },
  {
   "cell_type": "code",
   "execution_count": 6,
   "id": "2c7133ee-cdac-4eaa-9ab2-889609c2f48a",
   "metadata": {},
   "outputs": [
    {
     "name": "stdout",
     "output_type": "stream",
     "text": [
      "Name: John Doe\n",
      "Age: 25\n"
     ]
    }
   ],
   "source": [
    "class Person:\n",
    "    def __init__(self, name, age):\n",
    "        # Constructor to initialize attributes\n",
    "        self.name = name\n",
    "        self.age = age\n",
    "\n",
    "# Creating an object of the Person class\n",
    "person_object = Person(\"John Doe\", 25)\n",
    "\n",
    "# Accessing the attributes of the object\n",
    "print(\"Name:\", person_object.name)\n",
    "print(\"Age:\", person_object.age)\n"
   ]
  },
  {
   "cell_type": "markdown",
   "id": "544a7968-ba19-47a3-a85d-8c7d7d02a246",
   "metadata": {},
   "source": [
    "In this example, the __init__ method in the Person class is the constructor. It takes two parameters (name and age) along with the implicit self parameter. During the creation of the person_object, the name is set to \"John Doe\", and the age is set to 25. The subsequent print statements demonstrate how to access the attributes of the created object.\n",
    "\n",
    "This is a basic example, and you can extend the Person class with additional methods and attributes as needed for your application."
   ]
  },
  {
   "cell_type": "markdown",
   "id": "0a1dc989-9a34-4558-b235-24900c1b5af2",
   "metadata": {},
   "source": [
    "6. How can you call a constructor explicitly in Python? Give an example."
   ]
  },
  {
   "cell_type": "markdown",
   "id": "33e9b673-1013-476c-a819-521963e30f68",
   "metadata": {},
   "source": [
    "In Python, you generally don't call the constructor explicitly. The constructor (__init__ method) is automatically invoked when you create an object of a class. However, you can indirectly influence its execution by calling it through other methods or by inheriting from another class that has a constructor."
   ]
  },
  {
   "cell_type": "code",
   "execution_count": 7,
   "id": "5ecc480e-4fe0-4c4c-bd6c-71fae6cad70d",
   "metadata": {},
   "outputs": [
    {
     "name": "stdout",
     "output_type": "stream",
     "text": [
      "Constructor called with value: 42\n",
      "Object value: 42\n",
      "Constructor called with value: 99\n"
     ]
    }
   ],
   "source": [
    "class MyClass:\n",
    "    def __init__(self, value):\n",
    "        self.value = value\n",
    "        print(\"Constructor called with value:\", value)\n",
    "\n",
    "    def explicit_constructor_call(self, new_value):\n",
    "        # You can call the constructor explicitly within another method\n",
    "        self.__init__(new_value)\n",
    "\n",
    "# Creating an object of MyClass\n",
    "obj = MyClass(42)\n",
    "\n",
    "# Accessing the attribute set in the constructor\n",
    "print(\"Object value:\", obj.value)\n",
    "\n",
    "# Calling a method that explicitly calls the constructor\n",
    "obj.explicit_constructor_call(99)\n"
   ]
  },
  {
   "cell_type": "markdown",
   "id": "e2916733-60c3-47ce-bad0-c5e0cb5e43a0",
   "metadata": {},
   "source": [
    "In this example, the constructor is automatically called when the MyClass object is created. The explicit_constructor_call method, however, calls the constructor explicitly using self.__init__(new_value). Keep in mind that explicitly calling the constructor in this manner might have unexpected consequences, and it's generally not a recommended practice unless you have a specific use case."
   ]
  },
  {
   "cell_type": "markdown",
   "id": "af8f0980-ac2d-4f5e-b29b-a95d64e9c986",
   "metadata": {},
   "source": [
    "7. What is the significance of the `self` parameter in Python constructors? Explain with an example."
   ]
  },
  {
   "cell_type": "markdown",
   "id": "ce96c8d5-cdac-440f-a177-3ae2d823364d",
   "metadata": {},
   "source": [
    "In Python, the self parameter in constructors (and other instance methods) is a convention that refers to the instance of the object being created or manipulated. It allows you to access and modify the attributes and methods of the object within the class. The use of self helps differentiate instance variables from local variables and allows you to work with the specific instance of the class."
   ]
  },
  {
   "cell_type": "code",
   "execution_count": 8,
   "id": "557d296a-1ed2-40e3-9763-a0c3bde5faa2",
   "metadata": {},
   "outputs": [
    {
     "name": "stdout",
     "output_type": "stream",
     "text": [
      "Buddy is 3 years old.\n",
      "Buddy says Woof!\n",
      "Max is 5 years old.\n",
      "Max says Woof!\n"
     ]
    }
   ],
   "source": [
    "class Dog:\n",
    "    def __init__(self, name, age):\n",
    "        # Constructor to initialize attributes\n",
    "        self.name = name\n",
    "        self.age = age\n",
    "\n",
    "    def bark(self):\n",
    "        # A method that uses the instance variables\n",
    "        print(f\"{self.name} says Woof!\")\n",
    "\n",
    "# Creating two objects of the Dog class\n",
    "dog1 = Dog(\"Buddy\", 3)\n",
    "dog2 = Dog(\"Max\", 5)\n",
    "\n",
    "# Accessing attributes and calling methods using the instances\n",
    "print(f\"{dog1.name} is {dog1.age} years old.\")\n",
    "dog1.bark()\n",
    "\n",
    "print(f\"{dog2.name} is {dog2.age} years old.\")\n",
    "dog2.bark()\n"
   ]
  },
  {
   "cell_type": "markdown",
   "id": "4312226c-1f3b-48b0-ac80-93c548755d6c",
   "metadata": {},
   "source": [
    "The __init__ method (constructor) takes three parameters: self, name, and age. The self parameter refers to the instance being created, while name and age are used to initialize the attributes of the object.\n",
    "\n",
    "The bark method is defined to demonstrate the usage of self. Within this method, self.name and self.age refer to the attributes of the specific instance on which the method is called.\n",
    "\n",
    "Two instances of the Dog class, dog1 and dog2, are created with different values for name and age.\n",
    "\n",
    "The attributes and methods of each instance are accessed using the instance variables (dog1.name, dog2.age) and methods (dog1.bark(), dog2.bark()).\n",
    "\n",
    "The self parameter allows you to work with the specific instance's attributes and methods, making it possible to create and manipulate multiple objects with the same class definition.\n",
    "\n",
    "\n",
    "\n",
    "\n",
    "\n"
   ]
  },
  {
   "cell_type": "markdown",
   "id": "329e73b7-fd35-41d3-9124-497af14b793b",
   "metadata": {},
   "source": [
    "8. Discuss the concept of default constructors in Python. When are they used?"
   ]
  },
  {
   "cell_type": "markdown",
   "id": "ede419bf-841d-4a0d-afa6-33cb9e820fc4",
   "metadata": {},
   "source": [
    "In Python, a default constructor is a constructor that is automatically provided by the language when a class is defined without an explicit constructor. It's also known as the default initializer. If you don't provide a constructor (__init__ method) in your class, Python will create a default constructor for you. The default constructor takes no arguments and does nothing, but it's still present and can be used to create objects of the class."
   ]
  },
  {
   "cell_type": "code",
   "execution_count": 9,
   "id": "b317b998-3d8e-4d3e-bc7f-8ea37310e43d",
   "metadata": {},
   "outputs": [],
   "source": [
    "class MyClass:\n",
    "    pass  # No explicit constructor is provided\n",
    "\n",
    "# Creating an object of MyClass without an explicit constructor\n",
    "obj = MyClass()\n",
    "\n",
    "# The default constructor does nothing, but the object is still created\n"
   ]
  },
  {
   "cell_type": "markdown",
   "id": "a414fc22-eca7-40cc-ad84-dba13ffb9b89",
   "metadata": {},
   "source": [
    "In this example, MyClass does not have an explicit __init__ method, so Python provides a default constructor for it. When you create an object (obj) of MyClass, the default constructor is called, even though it doesn't perform any specific initialization.\n",
    "\n",
    "Default constructors are used:\n",
    "\n",
    "When no explicit constructor is defined: If you do not define a constructor in your class, Python will automatically use a default constructor.\n",
    "\n",
    "When you want a minimal constructor: If your class doesn't require any specific initialization, you can rely on the default constructor provided by Python.\n",
    "\n",
    "It's important to note that if you provide an explicit constructor in your class, the default constructor will be overridden. In that case, the behavior of the constructor will be determined by the code you write in your explicit constructor.\n",
    "\n",
    "\n",
    "\n",
    "\n",
    "\n"
   ]
  },
  {
   "cell_type": "markdown",
   "id": "e1ad1753-0076-4b0b-83b9-197686269857",
   "metadata": {},
   "source": [
    "9. Create a Python class called `Rectangle` with a constructor that initializes the `width` and `height`\n",
    "attributes. Provide a method to calculate the area of the rectangle."
   ]
  },
  {
   "cell_type": "code",
   "execution_count": 10,
   "id": "04c98b3e-cd15-4389-91fc-d647cb055010",
   "metadata": {},
   "outputs": [
    {
     "name": "stdout",
     "output_type": "stream",
     "text": [
      "Rectangle width: 5\n",
      "Rectangle height: 8\n",
      "Area of the rectangle: 40\n"
     ]
    }
   ],
   "source": [
    "class Rectangle:\n",
    "    def __init__(self, width, height):\n",
    "        # Constructor to initialize attributes\n",
    "        self.width = width\n",
    "        self.height = height\n",
    "\n",
    "    def calculate_area(self):\n",
    "        # Method to calculate the area of the rectangle\n",
    "        area = self.width * self.height\n",
    "        return area\n",
    "\n",
    "# Creating an object of the Rectangle class\n",
    "rectangle_obj = Rectangle(width=5, height=8)\n",
    "\n",
    "# Accessing attributes and calling the method\n",
    "print(f\"Rectangle width: {rectangle_obj.width}\")\n",
    "print(f\"Rectangle height: {rectangle_obj.height}\")\n",
    "print(f\"Area of the rectangle: {rectangle_obj.calculate_area()}\")\n"
   ]
  },
  {
   "cell_type": "markdown",
   "id": "c796870b-3aba-48a9-9b37-3af2912ad66c",
   "metadata": {},
   "source": [
    "The __init__ method (constructor) takes three parameters: self, width, and height. The self parameter refers to the instance being created, while width and height are used to initialize the attributes of the object.\n",
    "\n",
    "The calculate_area method is defined to calculate the area of the rectangle using the formula width * height. Within this method, self.width and self.height refer to the attributes of the specific instance on which the method is called.\n",
    "\n",
    "An instance of the Rectangle class, rectangle_obj, is created with specified values for width and height.\n",
    "\n",
    "The attributes and methods of the instance are accessed and printed.\n",
    "\n",
    "This example demonstrates how to use a constructor to initialize attributes and how to create a method to perform a calculation using those attributes."
   ]
  },
  {
   "cell_type": "markdown",
   "id": "3d4c0347-0611-42a7-924e-438d7ecad285",
   "metadata": {},
   "source": [
    "10. How can you have multiple constructors in a Python class? Explain with an example."
   ]
  },
  {
   "cell_type": "code",
   "execution_count": 11,
   "id": "81959c02-a7d7-4df7-9e8e-e36a50fef5a7",
   "metadata": {},
   "outputs": [
    {
     "name": "stdout",
     "output_type": "stream",
     "text": [
      "Rectangle width: 5\n",
      "Rectangle height: 8\n",
      "Area of the rectangle: 40\n",
      "Square width: 4\n",
      "Square height: 4\n",
      "Area of the square: 16\n"
     ]
    }
   ],
   "source": [
    "class Rectangle:\n",
    "    def __init__(self, width=None, height=None):\n",
    "        # Constructor to initialize attributes\n",
    "        self.width = width\n",
    "        self.height = height\n",
    "\n",
    "    @classmethod\n",
    "    def create_square(cls, side_length):\n",
    "        # Alternative constructor to create a square\n",
    "        return cls(width=side_length, height=side_length)\n",
    "\n",
    "    def calculate_area(self):\n",
    "        # Method to calculate the area of the rectangle\n",
    "        if self.width is None or self.height is None:\n",
    "            raise ValueError(\"Both width and height must be set to calculate the area.\")\n",
    "        area = self.width * self.height\n",
    "        return area\n",
    "\n",
    "# Creating an object of the Rectangle class using the default constructor\n",
    "rectangle_obj = Rectangle(width=5, height=8)\n",
    "\n",
    "# Creating an object of the Rectangle class using an alternative constructor for a square\n",
    "square_obj = Rectangle.create_square(side_length=4)\n",
    "\n",
    "# Accessing attributes and calling the method for the rectangle\n",
    "print(f\"Rectangle width: {rectangle_obj.width}\")\n",
    "print(f\"Rectangle height: {rectangle_obj.height}\")\n",
    "print(f\"Area of the rectangle: {rectangle_obj.calculate_area()}\")\n",
    "\n",
    "# Accessing attributes and calling the method for the square\n",
    "print(f\"Square width: {square_obj.width}\")\n",
    "print(f\"Square height: {square_obj.height}\")\n",
    "print(f\"Area of the square: {square_obj.calculate_area()}\")\n"
   ]
  },
  {
   "cell_type": "markdown",
   "id": "ba96f186-99fe-460f-8915-8e5a4f8d294d",
   "metadata": {},
   "source": [
    "In Python, you can't have multiple constructors with different signatures in the same way you can in some other languages. However, you can achieve similar functionality by using default parameter values and providing alternative ways to instantiate the object."
   ]
  },
  {
   "cell_type": "markdown",
   "id": "e8fa7237-dc9d-430d-9b79-d675ad38a58c",
   "metadata": {},
   "source": [
    "The __init__ method is the default constructor, and it initializes the width and height attributes. Both parameters have default values of None.\n",
    "\n",
    "The create_square class method is an alternative constructor that creates a square by setting both width and height to the same value.\n",
    "\n",
    "The calculate_area method calculates the area of the rectangle but raises a ValueError if either width or height is None.\n",
    "\n",
    "This approach allows you to create objects using either the default constructor or the alternative constructor, providing flexibility in how objects are instantiated."
   ]
  },
  {
   "cell_type": "markdown",
   "id": "ef8cc55a-b7c8-4273-8635-4433fee60347",
   "metadata": {},
   "source": [
    "q.11 What is method overloading, and how is it related to constructors in Python?"
   ]
  },
  {
   "cell_type": "markdown",
   "id": "b368fdee-3f71-4bdb-a3f3-42ace5e99ddc",
   "metadata": {},
   "source": [
    "Method overloading refers to the ability of a class to define multiple methods with the same name but with different parameters. The parameters could differ in terms of their number, types, or both. In some programming languages, like Java and C++, method overloading is supported explicitly, and the compiler or interpreter can differentiate between the overloaded methods based on the provided arguments.\n",
    "\n",
    "In Python, method overloading is not supported in the traditional sense as it is in languages like Java. However, Python provides a flexible way to achieve similar functionality through default values for function parameters and variable-length argument lists. This allows a function or method to be called with different numbers or types of arguments.\n",
    "\n",
    "Now, when it comes to constructors in Python, constructors are special methods in a class that are used for initializing objects of that class. In Python, the constructor method is named __init__. While Python does not support method overloading in the traditional sense, you can still achieve some level of flexibility in constructor behavior."
   ]
  },
  {
   "cell_type": "code",
   "execution_count": 2,
   "id": "24e2dbe7-55cb-44c7-9029-0bf11c03b4a2",
   "metadata": {},
   "outputs": [
    {
     "name": "stdout",
     "output_type": "stream",
     "text": [
      "Value1 Default\n",
      "Value1 Value2\n"
     ]
    }
   ],
   "source": [
    "class MyClass:\n",
    "    def __init__(self, param1, param2=None):\n",
    "        if param2 is None:\n",
    "            # If param2 is not provided, set a default value\n",
    "            self.param2 = \"Default\"\n",
    "        else:\n",
    "            self.param2 = param2\n",
    "\n",
    "        self.param1 = param1\n",
    "\n",
    "# Creating objects with different constructor signatures\n",
    "obj1 = MyClass(\"Value1\")\n",
    "obj2 = MyClass(\"Value1\", \"Value2\")\n",
    "\n",
    "print(obj1.param1, obj1.param2)  # Output: Value1 Default\n",
    "print(obj2.param1, obj2.param2)  # Output: Value1 Value2\n"
   ]
  },
  {
   "cell_type": "markdown",
   "id": "96019cf9-ac1e-40ed-9ea7-0ad2467934ca",
   "metadata": {},
   "source": [
    "12. Explain the use of the `super()` function in Python constructors. Provide an example."
   ]
  },
  {
   "cell_type": "markdown",
   "id": "51c0cbf4-210d-4267-afae-1f05bedcdab1",
   "metadata": {},
   "source": [
    "In Python, the super() function is used to call a method from a parent class. It is often used within the constructor (__init__ method) of a subclass to invoke the constructor of its parent class. This allows the subclass to initialize its own attributes and then leverage the initialization logic of the parent class."
   ]
  },
  {
   "cell_type": "code",
   "execution_count": 4,
   "id": "e1d4a71e-8b8e-4c3e-a1b0-69fe06bedfc3",
   "metadata": {},
   "outputs": [
    {
     "name": "stdout",
     "output_type": "stream",
     "text": [
      "Parent Class - Param1: Value1\n",
      "Child Class - Param2: Value2\n"
     ]
    }
   ],
   "source": [
    "class ParentClass:\n",
    "    def __init__(self, param1):\n",
    "        self.param1 = param1\n",
    "\n",
    "    def display(self):\n",
    "        print(\"Parent Class - Param1:\", self.param1)\n",
    "\n",
    "\n",
    "class ChildClass(ParentClass):\n",
    "    def __init__(self, param1, param2):\n",
    "        super().__init__(param1)\n",
    "        self.param2 = param2\n",
    "\n",
    "    def display(self):\n",
    "        super().display()\n",
    "        print(\"Child Class - Param2:\", self.param2)\n",
    "\n",
    "\n",
    "# Creating an object of the ChildClass\n",
    "child_obj = ChildClass(\"Value1\", \"Value2\")\n",
    "\n",
    "# Calling the display method of the ChildClass\n",
    "child_obj.display()\n"
   ]
  },
  {
   "cell_type": "markdown",
   "id": "6eb8ed6e-a531-4068-bbb4-361801aae5c9",
   "metadata": {},
   "source": [
    "ParentClass has a constructor __init__ that takes one parameter (param1) and a display method to print the value of param1.\n",
    "\n",
    "ChildClass is a subclass of ParentClass and has its own constructor __init__ that takes two parameters (param1 and param2). Inside the __init__ method of ChildClass, super().__init__(param1) is used to call the constructor of the parent class (ParentClass) and initialize param1. The param2 is then initialized for the child class.\n",
    "\n",
    "The display method in ChildClass uses super().display() to call the display method of the parent class and then prints the value of param2 for the child class.\n",
    "\n",
    "When you create an object of ChildClass and call its display method, it invokes both the display method of the parent class and the child class, demonstrating the use of super() in the constructor to leverage the functionality of the parent class."
   ]
  },
  {
   "cell_type": "markdown",
   "id": "e3d328d6-1ef1-4ac0-a0a7-75c8f6f04100",
   "metadata": {},
   "source": [
    "13. Create a class called `Book` with a constructor that initializes the `title`, `author`, and `published_year`\n",
    "attributes. Provide a method to display book details."
   ]
  },
  {
   "cell_type": "code",
   "execution_count": 5,
   "id": "72ac3277-9ddc-4e25-9b69-e2f7d8ef5e9b",
   "metadata": {},
   "outputs": [
    {
     "name": "stdout",
     "output_type": "stream",
     "text": [
      "Title: The Great Gatsby\n",
      "Author: F. Scott Fitzgerald\n",
      "Published Year: 1925\n"
     ]
    }
   ],
   "source": [
    "class Book:\n",
    "    def __init__(self, title, author, published_year):\n",
    "        self.title = title\n",
    "        self.author = author\n",
    "        self.published_year = published_year\n",
    "\n",
    "    def display_details(self):\n",
    "        print(f\"Title: {self.title}\")\n",
    "        print(f\"Author: {self.author}\")\n",
    "        print(f\"Published Year: {self.published_year}\")\n",
    "\n",
    "\n",
    "# Creating an instance of the Book class\n",
    "book1 = Book(\"The Great Gatsby\", \"F. Scott Fitzgerald\", 1925)\n",
    "\n",
    "# Displaying the details of the book\n",
    "book1.display_details()\n"
   ]
  },
  {
   "cell_type": "markdown",
   "id": "3b0cf228-1f24-472b-9387-97832ac5a43c",
   "metadata": {},
   "source": [
    "The Book class has a constructor (__init__) that takes three parameters (title, author, and published_year) and initializes the corresponding attributes.\n",
    "\n",
    "The display_details method prints the details of the book using the values stored in the attributes.\n",
    "\n",
    "An instance of the Book class (book1) is created, and then its display_details method is called to print the book details."
   ]
  },
  {
   "cell_type": "markdown",
   "id": "759352b4-57a4-4ebf-8dff-d320df195ec9",
   "metadata": {},
   "source": [
    "14. Discuss the differences between constructors and regular methods in Python classes."
   ]
  },
  {
   "cell_type": "markdown",
   "id": "c9c4af2b-be5e-4fba-ad9c-1f8acc880bf3",
   "metadata": {},
   "source": [
    "Constructors and regular methods in Python classes serve different purposes and have distinct characteristics. Here are the key differences between constructors and regular methods:\n",
    "\n",
    "Purpose and Invocation:\n",
    "\n",
    "Constructor (__init__): It is a special method used for initializing the attributes of an object when it is created. The constructor is automatically called when an object is instantiated from the class.\n",
    "Regular Methods: These are regular functions defined within a class. They perform specific actions or operations on the object and are called explicitly on instances of the class.\n",
    "Name:\n",
    "\n",
    "Constructor (__init__): The constructor method always has the special name __init__.\n",
    "Regular Methods: They can have any valid method name.\n",
    "Return Value:\n",
    "\n",
    "Constructor (`init): It doesn't return any value explicitly. Its primary purpose is to initialize object attributes.\n",
    "Regular Methods: They can have a return statement, and their return value depends on the logic defined within the method.\n",
    "Invocation:\n",
    "\n",
    "Constructor (__init__): Automatically invoked when an object is created. It is used for initializing attributes.\n",
    "Regular Methods: Need to be called explicitly on an instance of the class.\n",
    "Initialization:\n",
    "\n",
    "Constructor (__init__): Used for initializing instance variables or attributes.\n",
    "Regular Methods: Can perform various tasks, including attribute manipulation, calculations, or any other operation.\n",
    "Multiple Constructors:\n",
    "\n",
    "Constructor (__init__): There can be only one __init__ method in a class. However, it can be designed to handle different sets of parameters by using default values or optional parameters.\n",
    "Regular Methods: Multiple regular methods with different names can exist in a class."
   ]
  },
  {
   "cell_type": "code",
   "execution_count": 6,
   "id": "1f23b43f-b32d-4b82-b278-8bea9b57449a",
   "metadata": {},
   "outputs": [
    {
     "name": "stdout",
     "output_type": "stream",
     "text": [
      "Value1\n",
      "Value2\n",
      "Regular Method: Value1, Value2\n"
     ]
    }
   ],
   "source": [
    "class MyClass:\n",
    "    def __init__(self, attribute1, attribute2):\n",
    "        self.attribute1 = attribute1\n",
    "        self.attribute2 = attribute2\n",
    "\n",
    "    def regular_method(self):\n",
    "        return f\"Regular Method: {self.attribute1}, {self.attribute2}\"\n",
    "\n",
    "# Creating an instance of MyClass\n",
    "obj = MyClass(\"Value1\", \"Value2\")\n",
    "\n",
    "# Constructor is automatically called during object creation\n",
    "print(obj.attribute1)  # Output: Value1\n",
    "print(obj.attribute2)  # Output: Value2\n",
    "\n",
    "# Calling a regular method\n",
    "result = obj.regular_method()\n",
    "print(result)  # Output: Regular Method: Value1, Value2\n"
   ]
  },
  {
   "cell_type": "markdown",
   "id": "4e765237-9dc0-46c8-94c8-7698f99c51d1",
   "metadata": {},
   "source": [
    "15. Explain the role of the `self` parameter in instance variable initialization within a constructor."
   ]
  },
  {
   "cell_type": "markdown",
   "id": "a834be55-dcc5-4443-992e-81387a5dab7a",
   "metadata": {},
   "source": [
    "In Python, the self parameter in a constructor (or any other instance method) plays a crucial role in instance variable initialization. The self parameter refers to the instance of the class itself, and it allows you to access and manipulate the instance variables (attributes) of that particular object.\n",
    "\n",
    "Here's a breakdown of the role of self in instance variable initialization within a constructor:\n",
    "\n",
    "Instance Binding:\n",
    "\n",
    "When a method is called on an instance of a class, the instance is passed automatically as the first parameter (self) to that method. This allows the method to know on which instance it is operating.\n",
    "Accessing Instance Variables:\n",
    "\n",
    "Inside the constructor (__init__) or any other instance method, you can use self to access and initialize instance variables. Instance variables are attributes that belong to a specific instance of the class.\n",
    "Attribute Initialization:\n",
    "\n",
    "The self parameter is used to initialize instance variables within the constructor. By using self.variable_name = initial_value, you set the initial values for the attributes of the instance"
   ]
  },
  {
   "cell_type": "code",
   "execution_count": 7,
   "id": "f0a31f86-6d2c-4d79-bbe4-d14c695bad02",
   "metadata": {},
   "outputs": [
    {
     "name": "stdout",
     "output_type": "stream",
     "text": [
      "Attribute1: Value1\n",
      "Attribute2: Value2\n"
     ]
    }
   ],
   "source": [
    "class MyClass:\n",
    "    def __init__(self, attribute1, attribute2):\n",
    "        # Using self to initialize instance variables\n",
    "        self.attribute1 = attribute1\n",
    "        self.attribute2 = attribute2\n",
    "\n",
    "    def display_attributes(self):\n",
    "        # Accessing instance variables using self\n",
    "        print(\"Attribute1:\", self.attribute1)\n",
    "        print(\"Attribute2:\", self.attribute2)\n",
    "\n",
    "# Creating an instance of MyClass\n",
    "obj = MyClass(\"Value1\", \"Value2\")\n",
    "\n",
    "# Displaying the attributes using a regular method\n",
    "obj.display_attributes()\n"
   ]
  },
  {
   "cell_type": "markdown",
   "id": "c2c2d46d-faeb-4d7b-ae02-809c9ab6ab23",
   "metadata": {},
   "source": [
    "16. How do you prevent a class from having multiple instances by using constructors in Python? Provide an\n",
    "example."
   ]
  },
  {
   "cell_type": "markdown",
   "id": "463f1415-18c3-4021-aca2-5ac37babdbf8",
   "metadata": {},
   "source": [
    "In Python, you can prevent a class from having multiple instances by implementing a design pattern called the Singleton pattern. The Singleton pattern ensures that a class has only one instance and provides a global point of access to that instance."
   ]
  },
  {
   "cell_type": "code",
   "execution_count": 8,
   "id": "36dddfaf-5461-4ac6-b1bb-30b4142c09f3",
   "metadata": {},
   "outputs": [
    {
     "name": "stdout",
     "output_type": "stream",
     "text": [
      "True\n",
      "This is a singleton class instance.\n",
      "This is a singleton class instance.\n"
     ]
    }
   ],
   "source": [
    "class SingletonClass:\n",
    "    # Class variable to store the instance\n",
    "    _instance = None\n",
    "\n",
    "    def __new__(cls):\n",
    "        # Create a new instance only if it doesn't exist\n",
    "        if cls._instance is None:\n",
    "            cls._instance = super(SingletonClass, cls).__new__(cls)\n",
    "        return cls._instance\n",
    "\n",
    "    def __init__(self):\n",
    "        # Initialization logic (will be called only once)\n",
    "        if not hasattr(self, '_initialized'):\n",
    "            self._initialized = True\n",
    "            # Other instance variables can be initialized here\n",
    "\n",
    "    def display_message(self):\n",
    "        print(\"This is a singleton class instance.\")\n",
    "\n",
    "# Creating instances of SingletonClass\n",
    "singleton_obj1 = SingletonClass()\n",
    "singleton_obj2 = SingletonClass()\n",
    "\n",
    "# Checking if both instances are the same\n",
    "print(singleton_obj1 == singleton_obj2)  # Output: True\n",
    "\n",
    "# Displaying a message using the singleton instance\n",
    "singleton_obj1.display_message()\n",
    "singleton_obj2.display_message()\n"
   ]
  },
  {
   "cell_type": "markdown",
   "id": "a681f009-ffc7-49ca-aa17-e2d3a1e49219",
   "metadata": {},
   "source": [
    "The _instance class variable is used to store the single instance of the class.\n",
    "\n",
    "The __new__ method is overridden to control the creation of new instances. It creates a new instance only if _instance is None, ensuring that only one instance exists.\n",
    "\n",
    "The __init__ method is used for initialization logic and is called only once during the creation of the first instance.\n",
    "\n",
    "The display_message method is a regular method that can be called on any instance of the class.\n",
    "\n",
    "When you create multiple instances of SingletonClass, they refer to the same object, as indicated by the equality check (singleton_obj1 == singleton_obj2). This prevents the class from having multiple instances and enforces the Singleton pattern."
   ]
  },
  {
   "cell_type": "markdown",
   "id": "7856af3d-6ba2-4ed6-ae1b-f5395bd52e37",
   "metadata": {},
   "source": [
    "17. Create a Python class called `Student` with a constructor that takes a list of subjects as a parameter and\n",
    "initializes the `subjects` attribute."
   ]
  },
  {
   "cell_type": "code",
   "execution_count": 9,
   "id": "995fc74f-90b9-4992-aa32-c74dae3d16bb",
   "metadata": {},
   "outputs": [
    {
     "name": "stdout",
     "output_type": "stream",
     "text": [
      "Subjects: ['Math', 'English', 'Science']\n"
     ]
    }
   ],
   "source": [
    "class Student:\n",
    "    def __init__(self, subjects):\n",
    "        self.subjects = subjects\n",
    "\n",
    "    def display_subjects(self):\n",
    "        print(\"Subjects:\", self.subjects)\n",
    "\n",
    "# Creating an instance of the Student class\n",
    "student1 = Student([\"Math\", \"English\", \"Science\"])\n",
    "\n",
    "# Displaying the subjects using the display_subjects method\n",
    "student1.display_subjects()\n"
   ]
  },
  {
   "cell_type": "markdown",
   "id": "eae7f1ad-115e-43da-a68f-383f8fe998da",
   "metadata": {},
   "source": [
    "The Student class has a constructor (__init__) that takes a list of subjects as a parameter and initializes the subjects attribute with the provided list.\n",
    "\n",
    "The display_subjects method is a regular method that can be used to display the subjects stored in the subjects attribute.\n",
    "\n",
    "An instance of the Student class (student1) is created, and the display_subjects method is called to print the subjects."
   ]
  },
  {
   "cell_type": "markdown",
   "id": "fe031d16-994f-4d2f-9763-99c857a5eedd",
   "metadata": {},
   "source": [
    "18. What is the purpose of the `__del__` method in Python classes, and how does it relate to constructors?"
   ]
  },
  {
   "cell_type": "markdown",
   "id": "1334ee07-6017-4b93-ba79-2f05c18551b4",
   "metadata": {},
   "source": [
    "In Python, the __del__ method is a special method that is called when an object is about to be destroyed or deleted. Its purpose is to define the actions or clean-up operations that should be performed before the object is removed from memory. However, the use of the __del__ method is less common and can be tricky, so it's often recommended to use other techniques for resource cleanup, such as context managers (with statement) or the __enter__ and __exit__ methods.\n",
    "\n",
    "Here's a brief overview of the purpose of the __del__ method:\n",
    "\n",
    "Object Cleanup:\n",
    "\n",
    "The __del__ method is intended for performing clean-up activities or releasing resources associated with an object before it is deleted.\n",
    "Automatic Garbage Collection:\n",
    "\n",
    "In Python, memory management is handled by a garbage collector, which automatically deallocates memory when an object is no longer in use. The __del__ method is called by the garbage collector just before the object is removed from memory.\n",
    "Relationship to Constructors (__init__):\n",
    "\n",
    "While the __init__ method is used for object initialization, the __del__ method is used for clean-up. They are related in the sense that they both deal with the lifecycle of an object: __init__ is called during object creation, and __del__ is called before object destruction.\n",
    "However, it's important to note that relying on the __del__ method for resource cleanup has some drawbacks. One major concern is that the time of execution of __del__ is not guaranteed, and it may not be called at all in certain situations. Therefore, it's often better to use other mechanisms for resource management, such as context managers (with statement) or implementing the __enter__ and __exit__ methods in the context of the with statement."
   ]
  },
  {
   "cell_type": "code",
   "execution_count": 10,
   "id": "947b7528-3081-4e7e-b6fa-ee2e07eccff8",
   "metadata": {},
   "outputs": [
    {
     "name": "stdout",
     "output_type": "stream",
     "text": [
      "Object 1 created\n",
      "Object 2 created\n",
      "Object 1 is being destroyed\n"
     ]
    }
   ],
   "source": [
    "class MyClass:\n",
    "    def __init__(self, name):\n",
    "        self.name = name\n",
    "        print(f\"{self.name} created\")\n",
    "\n",
    "    def __del__(self):\n",
    "        print(f\"{self.name} is being destroyed\")\n",
    "\n",
    "# Creating instances of MyClass\n",
    "obj1 = MyClass(\"Object 1\")\n",
    "obj2 = MyClass(\"Object 2\")\n",
    "\n",
    "# Deleting one of the instances\n",
    "del obj1\n"
   ]
  },
  {
   "cell_type": "markdown",
   "id": "d591c42f-a430-4ea8-bb84-2cc2cd1fafee",
   "metadata": {},
   "source": [
    "In this example, the __del__ method prints a message indicating that the object is being destroyed. When you run this code and delete an instance (e.g., del obj1), the __del__ method of that instance is called. Keep in mind that relying on __del__ for critical cleanup is generally discouraged, and alternative approaches are often recommended."
   ]
  },
  {
   "cell_type": "markdown",
   "id": "a4ce6440-c885-4b2e-8aa3-7231a6ce491a",
   "metadata": {},
   "source": [
    "19. Explain the use of constructor chaining in Python. Provide a practical example."
   ]
  },
  {
   "cell_type": "code",
   "execution_count": 11,
   "id": "98bdabea-9ed8-4457-beb6-98fbeef814f9",
   "metadata": {},
   "outputs": [
    {
     "name": "stdout",
     "output_type": "stream",
     "text": [
      "Name: John Doe, Age: 20\n",
      "Student ID: S12345\n"
     ]
    }
   ],
   "source": [
    "class Person:\n",
    "    def __init__(self, name, age):\n",
    "        self.name = name\n",
    "        self.age = age\n",
    "\n",
    "    def display_details(self):\n",
    "        print(f\"Name: {self.name}, Age: {self.age}\")\n",
    "\n",
    "\n",
    "class Student(Person):\n",
    "    def __init__(self, name, age, student_id):\n",
    "        super().__init__(name, age)  # Calling the constructor of the parent class\n",
    "        self.student_id = student_id\n",
    "\n",
    "    def display_details(self):\n",
    "        super().display_details()  # Calling the display_details method of the parent class\n",
    "        print(f\"Student ID: {self.student_id}\")\n",
    "\n",
    "\n",
    "# Creating an instance of the Student class\n",
    "student = Student(\"John Doe\", 20, \"S12345\")\n",
    "\n",
    "# Calling the display_details method of the Student class\n",
    "student.display_details()\n"
   ]
  },
  {
   "cell_type": "markdown",
   "id": "2eead055-651f-4797-8441-81bfb1ab6244",
   "metadata": {},
   "source": [
    "The Person class has a constructor __init__ that initializes name and age attributes, and a display_details method to print these details.\n",
    "\n",
    "The Student class is a subclass of Person and has its own constructor __init__. Inside the __init__ method of the Student class, super().__init__(name, age) is used to call the constructor of the parent class (Person) and initialize name and age. The Student class introduces an additional attribute student_id.\n",
    "\n",
    "The display_details method in the Student class uses super().display_details() to call the display_details method of the parent class and then prints the student_id.\n",
    "\n",
    "When you create an instance of the Student class and call its display_details method, both the display_details method of the Person class and the Student class are executed, demonstrating constructor chaining. The super() function ensures that the constructor of the parent class is invoked, allowing for shared initialization logic"
   ]
  },
  {
   "cell_type": "markdown",
   "id": "f55d70f5-05fc-4f46-a789-6b36fc58c790",
   "metadata": {},
   "source": [
    "20. Create a Python class called `Car` with a default constructor that initializes the `make` and `model`\n",
    "attributes. Provide a method to display car information."
   ]
  },
  {
   "cell_type": "code",
   "execution_count": 12,
   "id": "c28f0656-77f7-4445-8630-75d4a09b67ea",
   "metadata": {},
   "outputs": [
    {
     "name": "stdout",
     "output_type": "stream",
     "text": [
      "Make: Unknown Make\n",
      "Model: Unknown Model\n"
     ]
    }
   ],
   "source": [
    "class Car:\n",
    "    def __init__(self, make=\"Unknown Make\", model=\"Unknown Model\"):\n",
    "        self.make = make\n",
    "        self.model = model\n",
    "\n",
    "    def display_info(self):\n",
    "        print(f\"Make: {self.make}\")\n",
    "        print(f\"Model: {self.model}\")\n",
    "\n",
    "# Creating an instance of the Car class with default values\n",
    "car1 = Car()\n",
    "\n",
    "# Displaying car information using the display_info method\n",
    "car1.display_info()\n"
   ]
  },
  {
   "cell_type": "markdown",
   "id": "a7e79ede-311d-4c2d-b6ec-24c202b05beb",
   "metadata": {},
   "source": [
    "The Car class has a default constructor (__init__) that takes two parameters (make and model) with default values. If no values are provided during object creation, the default values (\"Unknown Make\" and \"Unknown Model\") will be used.\n",
    "\n",
    "The display_info method is a regular method that prints the make and model attributes of the car.\n",
    "\n",
    "An instance of the Car class (car1) is created without providing specific values, so the default values are used."
   ]
  },
  {
   "cell_type": "markdown",
   "id": "6f823d1f-4e3e-4634-b16f-16d32575a5fb",
   "metadata": {},
   "source": [
    "TOPIC INHERITANCE :\n",
    "1. What is inheritance in Python? Explain its significance in object-oriented programming."
   ]
  },
  {
   "cell_type": "markdown",
   "id": "e71223db-8a83-40b8-8d87-9e090e4d2348",
   "metadata": {},
   "source": [
    "\n",
    "Inheritance is a fundamental concept in object-oriented programming (OOP) that allows a class (called the subclass or derived class) to inherit the properties and behaviors of another class (called the superclass or base class). This mechanism enables code reuse, promotes a hierarchical structure, and facilitates the creation of more specialized classes based on existing ones.\n",
    "\n",
    "Key concepts related to inheritance in Python:\n",
    "\n",
    "Superclass and Subclass:\n",
    "\n",
    "The class whose properties and behaviors are inherited is the superclass or base class.\n",
    "The class that inherits from a superclass is the subclass or derived class.\n",
    "Syntax for Inheritance in Python:\n",
    "\n",
    "To create a subclass that inherits from a superclass, you use the following syntax: class Subclass(Superclass):.\n",
    "The subclass then has access to the attributes and methods of the superclass.\n",
    "Code Reusability:\n",
    "\n",
    "Inheritance promotes code reusability by allowing the reuse of existing code from the superclass in the subclass.\n",
    "Common attributes and methods can be defined in the superclass, and subclasses can inherit and extend them.\n",
    "Overriding Methods:\n",
    "\n",
    "Subclasses have the option to override (redefine) methods inherited from the superclass to provide specialized behavior.\n",
    "This allows customization of functionality while maintaining a common interface.\n",
    "Polymorphism:\n",
    "\n",
    "Inheritance contributes to polymorphism, allowing objects of a subclass to be used wherever objects of the superclass are expected.\n",
    "Polymorphism simplifies code and makes it more flexible.\n",
    "Hierarchical Structure:\n",
    "\n",
    "Inheritance facilitates the creation of a hierarchical structure of classes, where more specific classes (subclasses) can be derived from more general ones (superclasses).\n",
    "It helps in organizing and conceptualizing the relationships between classes."
   ]
  },
  {
   "cell_type": "code",
   "execution_count": 13,
   "id": "6860880a-d70a-4a14-ae54-dede9376e1c6",
   "metadata": {},
   "outputs": [
    {
     "name": "stdout",
     "output_type": "stream",
     "text": [
      "Buddy barks\n",
      "Whiskers meows\n"
     ]
    }
   ],
   "source": [
    "class Animal:\n",
    "    def __init__(self, name):\n",
    "        self.name = name\n",
    "\n",
    "    def speak(self):\n",
    "        print(f\"{self.name} makes a sound\")\n",
    "\n",
    "class Dog(Animal):\n",
    "    def speak(self):\n",
    "        print(f\"{self.name} barks\")\n",
    "\n",
    "class Cat(Animal):\n",
    "    def speak(self):\n",
    "        print(f\"{self.name} meows\")\n",
    "\n",
    "# Creating instances of subclasses\n",
    "dog = Dog(\"Buddy\")\n",
    "cat = Cat(\"Whiskers\")\n",
    "\n",
    "# Calling the speak method on instances\n",
    "dog.speak()  # Output: Buddy barks\n",
    "cat.speak()  # Output: Whiskers meows\n"
   ]
  },
  {
   "cell_type": "markdown",
   "id": "e7d1da19-f19c-4f7b-8dd3-bea8f7986641",
   "metadata": {},
   "source": [
    "2. Differentiate between single inheritance and multiple inheritance in Python. Provide examples for each."
   ]
  },
  {
   "cell_type": "markdown",
   "id": "9aeae172-f75e-4207-97d8-a7752e81a53d",
   "metadata": {},
   "source": [
    "Single Inheritance:\n",
    "In single inheritance, a class inherits from one superclass. This is a simpler form of inheritance, and it encourages a linear or hierarchical structure."
   ]
  },
  {
   "cell_type": "code",
   "execution_count": 14,
   "id": "a36c270e-70ec-4a2c-8f6c-b066171477e2",
   "metadata": {},
   "outputs": [
    {
     "name": "stdout",
     "output_type": "stream",
     "text": [
      "Animal speaks\n",
      "Dog barks\n"
     ]
    }
   ],
   "source": [
    "class Animal:\n",
    "    def speak(self):\n",
    "        print(\"Animal speaks\")\n",
    "\n",
    "class Dog(Animal):\n",
    "    def bark(self):\n",
    "        print(\"Dog barks\")\n",
    "\n",
    "# Creating an instance of Dog\n",
    "dog = Dog()\n",
    "\n",
    "# Using methods from both Animal and Dog\n",
    "dog.speak()  # Output: Animal speaks\n",
    "dog.bark()   # Output: Dog barks\n"
   ]
  },
  {
   "cell_type": "markdown",
   "id": "896ea011-c12b-4042-927a-fab27c7e3f4e",
   "metadata": {},
   "source": [
    "Multiple Inheritance:\n",
    "In multiple inheritance, a class inherits from more than one superclass. This allows the class to inherit attributes and methods from multiple sources."
   ]
  },
  {
   "cell_type": "code",
   "execution_count": 15,
   "id": "d5110fff-3b0f-481a-a679-76a5cdcc007c",
   "metadata": {},
   "outputs": [
    {
     "name": "stdout",
     "output_type": "stream",
     "text": [
      "Animal speaks\n",
      "Bird chirps\n",
      "Parrot flies\n"
     ]
    }
   ],
   "source": [
    "class Animal:\n",
    "    def speak(self):\n",
    "        print(\"Animal speaks\")\n",
    "\n",
    "class Bird:\n",
    "    def chirp(self):\n",
    "        print(\"Bird chirps\")\n",
    "\n",
    "class Parrot(Animal, Bird):\n",
    "    def fly(self):\n",
    "        print(\"Parrot flies\")\n",
    "\n",
    "# Creating an instance of Parrot\n",
    "parrot = Parrot()\n",
    "\n",
    "# Using methods from Animal, Bird, and Parrot\n",
    "parrot.speak()  # Output: Animal speaks\n",
    "parrot.chirp()  # Output: Bird chirps\n",
    "parrot.fly()    # Output: Parrot flies\n"
   ]
  },
  {
   "cell_type": "markdown",
   "id": "294d50bb-7101-4e75-934a-f9de0d30de6b",
   "metadata": {},
   "source": [
    "Key Differences:\n",
    "Number of Superclasses:\n",
    "\n",
    "Single Inheritance: Inherits from only one superclass.\n",
    "Multiple Inheritance: Inherits from more than one superclass.\n",
    "Syntax:\n",
    "\n",
    "Single Inheritance: class Subclass(Superclass):\n",
    "Multiple Inheritance: class Subclass(Superclass1, Superclass2, ...):\n",
    "Structure:\n",
    "\n",
    "Single Inheritance: Encourages a linear or hierarchical structure.\n",
    "Multiple Inheritance: Allows for a more complex structure with multiple sources of inheritance.\n",
    "Ambiguity:\n",
    "\n",
    "Single Inheritance: Avoids the issue of method name conflicts between superclasses.\n",
    "Multiple Inheritance: May lead to ambiguity if there are method name conflicts between the superclasses. The method resolution order (MRO) is used to determine the order in which the superclasses are searched.\n",
    "While multiple inheritance provides more flexibility, it also requires careful consideration to avoid potential issues related to method name conflicts and code complexity. Choosing between single and multiple inheritance depends on the specific requirements of the application and the design considerations"
   ]
  },
  {
   "cell_type": "markdown",
   "id": "8035e1d1-cf5e-452a-b384-690029802219",
   "metadata": {},
   "source": [
    "3. Create a Python class called `Vehicle` with attributes `color` and `speed`. Then, create a child class called\n",
    "`Car` that inherits from `Vehicle` and adds a `brand` attribute. Provide an example of creating a `Car` object."
   ]
  },
  {
   "cell_type": "code",
   "execution_count": 16,
   "id": "dfdd88c1-576a-4cd0-9026-7c28b185614e",
   "metadata": {},
   "outputs": [
    {
     "name": "stdout",
     "output_type": "stream",
     "text": [
      "Color: Blue\n",
      "Speed: 60 km/h\n",
      "Brand: Toyota\n"
     ]
    }
   ],
   "source": [
    "class Vehicle:\n",
    "    def __init__(self, color, speed):\n",
    "        self.color = color\n",
    "        self.speed = speed\n",
    "\n",
    "    def display_info(self):\n",
    "        print(f\"Color: {self.color}\")\n",
    "        print(f\"Speed: {self.speed} km/h\")\n",
    "\n",
    "\n",
    "class Car(Vehicle):\n",
    "    def __init__(self, color, speed, brand):\n",
    "        super().__init__(color, speed)\n",
    "        self.brand = brand\n",
    "\n",
    "    def display_info(self):\n",
    "        super().display_info()\n",
    "        print(f\"Brand: {self.brand}\")\n",
    "\n",
    "\n",
    "# Creating a Car object\n",
    "car1 = Car(color=\"Blue\", speed=60, brand=\"Toyota\")\n",
    "\n",
    "# Displaying information about the Car\n",
    "car1.display_info()\n"
   ]
  },
  {
   "cell_type": "markdown",
   "id": "d323fb25-be9d-414a-8e6a-6d148d8cc7eb",
   "metadata": {},
   "source": [
    "The Vehicle class has a constructor (__init__) that initializes color and speed attributes and a display_info method to print these attributes.\n",
    "\n",
    "The Car class is a subclass of Vehicle and has its own constructor (__init__). Inside the __init__ method of the Car class, super().__init__(color, speed) is used to call the constructor of the parent class (Vehicle) and initialize color and speed. The Car class introduces an additional attribute, brand.\n",
    "\n",
    "The display_info method in the Car class uses super().display_info() to call the display_info method of the parent class and then prints the brand attribute."
   ]
  },
  {
   "cell_type": "markdown",
   "id": "95d08456-da61-4a0d-adb2-f4b717037931",
   "metadata": {},
   "source": [
    "4. Explain the concept of method overriding in inheritance. Provide a practical example."
   ]
  },
  {
   "cell_type": "markdown",
   "id": "0e4f45b5-705d-4aa6-aeaf-a65e25d9758e",
   "metadata": {},
   "source": [
    "\n",
    "Method overriding is a concept in inheritance where a subclass provides a specific implementation for a method that is already defined in its superclass. When a subclass defines a method with the same name, parameters, and return type as a method in its superclass, the method in the subclass overrides the method in the superclass. This allows the subclass to provide a customized behavior for that particular method.\n",
    "\n",
    "Key points about method overriding:\n",
    "\n",
    "Same Method Signature:\n",
    "\n",
    "The overriding method in the subclass must have the same method signature (name, parameters, and return type) as the method in the superclass.\n",
    "Access Modifier:\n",
    "\n",
    "The access modifier of the overriding method in the subclass should be the same as or less restrictive than the access modifier of the overridden method in the superclass.\n",
    "Inheritance Relationship:\n",
    "\n",
    "Method overriding is applicable only when there is an inheritance relationship between the superclass and the subclass.\n",
    "Purpose:\n",
    "\n",
    "Method overriding is used to provide a specific implementation of a method in the subclass that is different from the implementation in the superclass"
   ]
  },
  {
   "cell_type": "code",
   "execution_count": 17,
   "id": "edb0fd0e-1038-4d36-8f55-ea46cca18124",
   "metadata": {},
   "outputs": [
    {
     "name": "stdout",
     "output_type": "stream",
     "text": [
      "Dog barks\n",
      "Cat meows\n"
     ]
    }
   ],
   "source": [
    "class Animal:\n",
    "    def speak(self):\n",
    "        print(\"Animal speaks\")\n",
    "\n",
    "class Dog(Animal):\n",
    "    def speak(self):\n",
    "        print(\"Dog barks\")\n",
    "\n",
    "class Cat(Animal):\n",
    "    def speak(self):\n",
    "        print(\"Cat meows\")\n",
    "\n",
    "# Creating instances of Dog and Cat\n",
    "dog = Dog()\n",
    "cat = Cat()\n",
    "\n",
    "# Using the speak method of both Dog and Cat\n",
    "dog.speak()  # Output: Dog barks\n",
    "cat.speak()  # Output: Cat meows\n"
   ]
  },
  {
   "cell_type": "markdown",
   "id": "60292b34-e2c6-4edb-b6ee-fd5f14411158",
   "metadata": {},
   "source": [
    "5. How can you access the methods and attributes of a parent class from a child class in Python? Give an\n",
    "example."
   ]
  },
  {
   "cell_type": "markdown",
   "id": "a353183a-5627-45f0-9eae-ddac64b57648",
   "metadata": {},
   "source": [
    "In Python, you can access the methods and attributes of a parent class from a child class using the super() function. The super() function returns a temporary object of the superclass, which allows you to call its methods and access its attributes."
   ]
  },
  {
   "cell_type": "code",
   "execution_count": 1,
   "id": "8ccfd9f2-b530-4592-9265-ecea895f6f76",
   "metadata": {},
   "outputs": [
    {
     "name": "stdout",
     "output_type": "stream",
     "text": [
      "Parent class - Name: John\n",
      "Child class - Age: 10\n"
     ]
    }
   ],
   "source": [
    "class Parent:\n",
    "    def __init__(self, name):\n",
    "        self.name = name\n",
    "\n",
    "    def display_info(self):\n",
    "        print(f\"Parent class - Name: {self.name}\")\n",
    "\n",
    "class Child(Parent):\n",
    "    def __init__(self, name, age):\n",
    "        super().__init__(name)\n",
    "        self.age = age\n",
    "\n",
    "    def display_info(self):\n",
    "        super().display_info()\n",
    "        print(f\"Child class - Age: {self.age}\")\n",
    "\n",
    "# Create an instance of the Child class\n",
    "child_instance = Child(\"John\", 10)\n",
    "\n",
    "# Accessing the methods and attributes of the parent class\n",
    "child_instance.display_info()\n"
   ]
  },
  {
   "cell_type": "markdown",
   "id": "e329bde7-1a41-4718-a5a3-80c9cf4b236d",
   "metadata": {},
   "source": [
    "In this example, the Child class inherits from the Parent class. The Child class has its own __init__ method, but it uses super() to call the __init__ method of the parent class, ensuring that both the name attribute from the parent and the age attribute from the child are properly initialized.\n",
    "\n",
    "The display_info method in the Child class also uses super().display_info() to call the display_info method of the parent class before printing information specific to the child class. This way, you can leverage and extend the functionality of the parent class in the child class."
   ]
  },
  {
   "cell_type": "markdown",
   "id": "fa8ec10f-424a-4ce0-a5f1-22e0f6bb67eb",
   "metadata": {},
   "source": [
    "6. Discuss the use of the `super()` function in Python inheritance. When and why is it used? Provide an\n",
    "example."
   ]
  },
  {
   "cell_type": "markdown",
   "id": "cb279069-35df-4390-baa8-a512192e8150",
   "metadata": {},
   "source": [
    "The super() function in Python is used in the context of inheritance to refer to the parent class or a temporary object of the parent class. It allows you to call methods and access attributes of the parent class within the child class. The primary purpose of using super() is to extend or override the functionality of the parent class in a more maintainable and flexible way.\n",
    "\n",
    "Here are some key points about the use of super():\n",
    "\n",
    "Method Resolution Order (MRO): In Python, when a method is called on an object, the interpreter looks for the method in the class of the object. If it doesn't find the method, it searches the parent classes in a specific order known as the Method Resolution Order (MRO). super() is aware of the MRO and ensures that the method is called from the next class in the hierarchy.\n",
    "\n",
    "Initialization of Parent Class: When a child class inherits from a parent class, the child class can have its own constructor (__init__) method. By using super().__init__() within the child class constructor, you can invoke the constructor of the parent class and ensure that the parent class is properly initialized.\n",
    "\n",
    "Extending Parent Class Methods: You can use super() to call methods from the parent class and then add or modify behavior in the child class. This allows you to reuse and extend functionality without duplicating code"
   ]
  },
  {
   "cell_type": "code",
   "execution_count": 2,
   "id": "2a85ffb1-03de-471a-ba4a-56ac81f68e39",
   "metadata": {},
   "outputs": [
    {
     "name": "stdout",
     "output_type": "stream",
     "text": [
      "Generic animal sound\n",
      "Bark bark!\n"
     ]
    }
   ],
   "source": [
    "class Animal:\n",
    "    def __init__(self, name):\n",
    "        self.name = name\n",
    "\n",
    "    def make_sound(self):\n",
    "        print(\"Generic animal sound\")\n",
    "\n",
    "class Dog(Animal):\n",
    "    def __init__(self, name, breed):\n",
    "        super().__init__(name)\n",
    "        self.breed = breed\n",
    "\n",
    "    def make_sound(self):\n",
    "        super().make_sound()  # Call the make_sound method of the parent class\n",
    "        print(\"Bark bark!\")\n",
    "\n",
    "# Create an instance of the Dog class\n",
    "my_dog = Dog(\"Buddy\", \"Golden Retriever\")\n",
    "\n",
    "# Accessing methods using super()\n",
    "my_dog.make_sound()\n"
   ]
  },
  {
   "cell_type": "markdown",
   "id": "99058d9b-3bf4-4142-b8cd-a31007793348",
   "metadata": {},
   "source": [
    "In this example, the Dog class inherits from the Animal class. The __init__ method of the Dog class uses super() to call the __init__ method of the Animal class, ensuring that the name attribute is properly initialized. The make_sound method in the Dog class uses super().make_sound() to call the make_sound method of the Animal class before adding the specific sound for a dog."
   ]
  },
  {
   "cell_type": "markdown",
   "id": "f9d07169-e021-46b9-b001-a9c544e0723b",
   "metadata": {},
   "source": [
    "7. Create a Python class called `Animal` with a method `speak()`. Then, create child classes `Dog` and `Cat`"
   ]
  },
  {
   "cell_type": "markdown",
   "id": "1d2584eb-67aa-4897-9444-311737e3818b",
   "metadata": {},
   "source": [
    "7. Create a Python class called `Animal` with a method `speak()`. Then, create child classes `Dog` and `Cat` that inherit from `Animal` and override the `speak()` method. Provide an example of using these classes."
   ]
  },
  {
   "cell_type": "code",
   "execution_count": 1,
   "id": "2368dc01-d96b-4c3b-87a3-eed6012faf0d",
   "metadata": {},
   "outputs": [
    {
     "name": "stdout",
     "output_type": "stream",
     "text": [
      "Woof!\n",
      "Meow!\n"
     ]
    }
   ],
   "source": [
    "class Animal:\n",
    "    def speak(self):\n",
    "        raise NotImplementedError(\"Subclasses must implement the speak method\")\n",
    "\n",
    "\n",
    "class Dog(Animal):\n",
    "    def speak(self):\n",
    "        return \"Woof!\"\n",
    "\n",
    "\n",
    "class Cat(Animal):\n",
    "    def speak(self):\n",
    "        return \"Meow!\"\n",
    "\n",
    "\n",
    "# Example usage\n",
    "dog_instance = Dog()\n",
    "cat_instance = Cat()\n",
    "\n",
    "print(dog_instance.speak())  # Output: Woof!\n",
    "print(cat_instance.speak())  # Output: Meow!\n"
   ]
  },
  {
   "cell_type": "markdown",
   "id": "f128f30c-76e9-403f-bbca-42443a8c88a5",
   "metadata": {},
   "source": [
    "In this example:\n",
    "\n",
    "The Animal class has a method speak(), but it raises a NotImplementedError to ensure that subclasses must provide their own implementation.\n",
    "The Dog and Cat classes inherit from the Animal class and override the speak() method with their own implementations.\n",
    "Instances of Dog and Cat are created, and their speak() methods are called to demonstrate polymorphism."
   ]
  },
  {
   "cell_type": "markdown",
   "id": "3d01d320-d59c-454b-9f14-97dd4bfa03bb",
   "metadata": {},
   "source": [
    "8. Explain the role of the `isinstance()` function in Python and how it relates to inheritance."
   ]
  },
  {
   "cell_type": "markdown",
   "id": "454c0cf0-961c-4908-aebc-c18767821e9d",
   "metadata": {},
   "source": [
    "The isinstance() function in Python is used to check if an object is an instance of a specified class or a tuple of classes. It is particularly useful when working with inheritance, as it allows you to determine whether an object belongs to a certain class or any of its subclasses.\n",
    "\n",
    "Here's a brief explanation of the isinstance() function and its relationship with inheritance:\n",
    "\n",
    "Syntax:"
   ]
  },
  {
   "cell_type": "markdown",
   "id": "30df64f4-2b29-45e7-ae10-7569b482c00c",
   "metadata": {},
   "source": [
    "object: The object to be checked.\n",
    "classinfo: A class or a tuple of classes to check against.\n",
    "Role of isinstance() in Inheritance:\n",
    "\n",
    "When working with inheritance, a subclass inherits attributes and behaviors from its superclass.\n",
    "The isinstance() function helps in checking if an object is an instance of a specific class or any of its subclasses.\n",
    "It allows you to perform type checking dynamically, which is especially useful when dealing with polymorphism and abstract classes."
   ]
  },
  {
   "cell_type": "code",
   "execution_count": 2,
   "id": "03f5b7ad-52df-453a-91e8-e199650995c9",
   "metadata": {},
   "outputs": [
    {
     "name": "stdout",
     "output_type": "stream",
     "text": [
      "True\n",
      "True\n",
      "True\n"
     ]
    }
   ],
   "source": [
    "class Animal:\n",
    "    pass\n",
    "\n",
    "class Dog(Animal):\n",
    "    pass\n",
    "\n",
    "class Cat(Animal):\n",
    "    pass\n",
    "\n",
    "# Usage of isinstance()\n",
    "dog_instance = Dog()\n",
    "cat_instance = Cat()\n",
    "\n",
    "print(isinstance(dog_instance, Dog))   # Output: True\n",
    "print(isinstance(cat_instance, Cat))   # Output: True\n",
    "print(isinstance(dog_instance, Animal)) # Output: True\n"
   ]
  },
  {
   "cell_type": "markdown",
   "id": "a434b8dc-a3e8-4d01-81fa-1da23a216f87",
   "metadata": {},
   "source": [
    "In this example, dog_instance is an instance of both Dog and Animal, and cat_instance is an instance of both Cat and Animal.\n",
    "\n",
    "Inheritance and isinstance() for Polymorphism:\n",
    "\n",
    "The isinstance() function is often used in conjunction with polymorphism to write code that can work with objects of multiple related classes.\n",
    "This helps in writing more flexible and generic code by relying on the common interface provided by a superclass.\n",
    "In summary, the isinstance() function plays a key role in dynamically checking the type of objects, particularly in scenarios involving inheritance. It enables you to write code that is more adaptable to different types of objects within an inheritance hierarchy."
   ]
  },
  {
   "cell_type": "markdown",
   "id": "a42ed9a7-4c11-4045-b59d-3fc396b8942d",
   "metadata": {},
   "source": [
    "9. What is the purpose of the `issubclass()` function in Python? Provide an example."
   ]
  },
  {
   "cell_type": "markdown",
   "id": "4e25c24a-6cd7-4a4e-8cc2-32cf7aed8fb7",
   "metadata": {},
   "source": [
    "The issubclass() function in Python is used to check whether a class is a subclass of another class. It returns True if the class is a subclass of the specified class, and False otherwise. This function is part of Python's built-in functions and is often used for checking class hierarchies and inheritance relationships."
   ]
  },
  {
   "cell_type": "code",
   "execution_count": 1,
   "id": "ea29d461-e2aa-46e4-a533-41203955ad13",
   "metadata": {},
   "outputs": [
    {
     "name": "stdout",
     "output_type": "stream",
     "text": [
      "True\n",
      "True\n",
      "True\n",
      "False\n"
     ]
    }
   ],
   "source": [
    "class Animal:\n",
    "    pass\n",
    "\n",
    "class Mammal(Animal):\n",
    "    pass\n",
    "\n",
    "class Dog(Mammal):\n",
    "    pass\n",
    "\n",
    "# Using issubclass() to check if a class is a subclass of another class\n",
    "print(issubclass(Mammal, Animal))  # True, as Mammal is a subclass of Animal\n",
    "print(issubclass(Dog, Animal))     # True, as Dog is a subclass of Animal\n",
    "print(issubclass(Dog, Mammal))     # True, as Dog is a subclass of Mammal\n",
    "print(issubclass(Animal, Dog))     # False, as Animal is not a subclass of Dog\n"
   ]
  },
  {
   "cell_type": "markdown",
   "id": "7e9a2001-68fd-4f65-a4cd-91a951b9260a",
   "metadata": {},
   "source": [
    "In this example, Mammal is a subclass of Animal, and Dog is a subclass of Mammal. The issubclass() function is used to verify these relationships. Note that a class is considered a subclass of itself, so issubclass(Animal, Animal) would also return True."
   ]
  },
  {
   "cell_type": "markdown",
   "id": "c23df98a-d94e-4b32-bc76-d0463b944ad1",
   "metadata": {},
   "source": [
    "10. Discuss the concept of constructor inheritance in Python. How are constructors inherited in child classes?"
   ]
  },
  {
   "cell_type": "markdown",
   "id": "568301f8-91d9-4c53-8865-ea9ee3b64988",
   "metadata": {},
   "source": [
    "In Python, constructor inheritance refers to the way in which a child class can inherit the constructor (also known as the initializer) of its parent class. The constructor is a special method in a class that is called when an object is instantiated from that class. Inheritance allows a child class to reuse and extend the functionality of its parent class, including its constructor.\n",
    "\n",
    "Here are the key points regarding constructor inheritance in Python:\n",
    "\n",
    "Automatic Inheritance:\n",
    "\n",
    "By default, if a child class doesn't have its own constructor, it automatically inherits the constructor of its parent class.\n",
    "Calling the Parent Constructor:\n",
    " \n",
    "Calling the Parent Constructor: In a child class constructor, you can explicitly call the constructor of the parent class using the super() function. This is usually done within the child class constructor using super().__init__(). This ensures that both the child and parent class initializations are performed.\n",
    "Overriding the Constructor:\n",
    "\n",
    "If a child class defines its own constructor, it overrides the constructor of the parent class. However, you can still call the parent class constructor within the child class constructor using super()"
   ]
  },
  {
   "cell_type": "code",
   "execution_count": 2,
   "id": "d26bdf6e-f795-4528-8f7b-ffcc3ad7cb53",
   "metadata": {},
   "outputs": [
    {
     "name": "stdout",
     "output_type": "stream",
     "text": [
      "An Dog is created.\n",
      "The sound of this Dog is Woof.\n",
      "This Dog is a Labrador.\n"
     ]
    }
   ],
   "source": [
    "class Animal:\n",
    "    def __init__(self, species):\n",
    "        self.species = species\n",
    "        print(f\"An {self.species} is created.\")\n",
    "\n",
    "class Mammal(Animal):\n",
    "    def __init__(self, species, sound):\n",
    "        super().__init__(species)  # Call the constructor of the parent class\n",
    "        self.sound = sound\n",
    "        print(f\"The sound of this {self.species} is {self.sound}.\")\n",
    "\n",
    "class Dog(Mammal):\n",
    "    def __init__(self, species, sound, breed):\n",
    "        super().__init__(species, sound)  # Call the constructor of the parent class\n",
    "        self.breed = breed\n",
    "        print(f\"This {self.species} is a {self.breed}.\")\n",
    "\n",
    "# Creating an object of the child class\n",
    "my_dog = Dog(species=\"Dog\", sound=\"Woof\", breed=\"Labrador\")\n"
   ]
  },
  {
   "cell_type": "markdown",
   "id": "a1e951da-0d42-4b07-ab21-cf3455f9f52d",
   "metadata": {},
   "source": [
    "11. Create a Python class called `Shape` with a method `area()` that calculates the area of a shape. Then, create child classes `Circle` and `Rectangle` that inherit from `Shape` and implement the `area()` method\n",
    "accordingly. Provide an example."
   ]
  },
  {
   "cell_type": "code",
   "execution_count": 3,
   "id": "02cfa473-09bd-4b1a-b7fd-c9dd38fa75d7",
   "metadata": {},
   "outputs": [
    {
     "name": "stdout",
     "output_type": "stream",
     "text": [
      "Area of the Circle: 78.54\n",
      "Area of the Rectangle: 24\n"
     ]
    }
   ],
   "source": [
    "import math\n",
    "\n",
    "class Shape:\n",
    "    def area(self):\n",
    "        pass  # This method will be overridden by child classes\n",
    "\n",
    "class Circle(Shape):\n",
    "    def __init__(self, radius):\n",
    "        self.radius = radius\n",
    "\n",
    "    def area(self):\n",
    "        return math.pi * self.radius**2\n",
    "\n",
    "class Rectangle(Shape):\n",
    "    def __init__(self, width, height):\n",
    "        self.width = width\n",
    "        self.height = height\n",
    "\n",
    "    def area(self):\n",
    "        return self.width * self.height\n",
    "\n",
    "# Example usage\n",
    "circle = Circle(radius=5)\n",
    "rectangle = Rectangle(width=4, height=6)\n",
    "\n",
    "print(f\"Area of the Circle: {circle.area():.2f}\")\n",
    "print(f\"Area of the Rectangle: {rectangle.area()}\")\n"
   ]
  },
  {
   "cell_type": "markdown",
   "id": "75ddad38-21c2-40c4-9001-83b0ee511d56",
   "metadata": {},
   "source": [
    "12. Explain the use of abstract base classes (ABCs) in Python and how they relate to inheritance. Provide an\n",
    "example using the `abc` module."
   ]
  },
  {
   "cell_type": "markdown",
   "id": "88de863a-1231-43d5-8222-9697f1ff515e",
   "metadata": {},
   "source": [
    "Abstract Base Classes (ABCs) in Python are a way to define abstract classes and abstract methods. An abstract class is a class that cannot be instantiated directly; it is meant to be subclassed by other classes. Abstract methods are methods that must be implemented by any concrete (non-abstract) subclass. ABCs provide a form of interface enforcement in Python.\n",
    "\n",
    "The abc module in Python provides the ABC class, which can be used as a metaclass for creating abstract classes. Abstract methods are defined using the @abstractmethod decorator. When a class contains an abstract method, it must be marked as abstract using the ABC metaclass, and any concrete subclass must implement all abstract methods to be considered valid."
   ]
  },
  {
   "cell_type": "code",
   "execution_count": 4,
   "id": "6e1042e2-5d36-47eb-bdb3-dfebe05b7f6a",
   "metadata": {},
   "outputs": [
    {
     "name": "stdout",
     "output_type": "stream",
     "text": [
      "Area of the Circle: 78.50\n",
      "Area of the Rectangle: 24\n"
     ]
    }
   ],
   "source": [
    "from abc import ABC, abstractmethod\n",
    "\n",
    "# Define an abstract class using ABC as the metaclass\n",
    "class Shape(ABC):\n",
    "    @abstractmethod\n",
    "    def area(self):\n",
    "        pass\n",
    "\n",
    "# Concrete subclass Circle that inherits from Shape\n",
    "class Circle(Shape):\n",
    "    def __init__(self, radius):\n",
    "        self.radius = radius\n",
    "\n",
    "    def area(self):\n",
    "        return 3.14 * self.radius**2\n",
    "\n",
    "# Concrete subclass Rectangle that inherits from Shape\n",
    "class Rectangle(Shape):\n",
    "    def __init__(self, width, height):\n",
    "        self.width = width\n",
    "        self.height = height\n",
    "\n",
    "    def area(self):\n",
    "        return self.width * self.height\n",
    "\n",
    "# Attempt to instantiate the abstract class (will raise an error)\n",
    "# shape = Shape()  # Uncommenting this line will result in a TypeError\n",
    "\n",
    "# Instantiate concrete subclasses\n",
    "circle = Circle(radius=5)\n",
    "rectangle = Rectangle(width=4, height=6)\n",
    "\n",
    "# Use the area method\n",
    "print(f\"Area of the Circle: {circle.area():.2f}\")\n",
    "print(f\"Area of the Rectangle: {rectangle.area()}\")\n"
   ]
  },
  {
   "cell_type": "markdown",
   "id": "49de8c93-cdda-448b-bb15-5aed75ec954f",
   "metadata": {},
   "source": [
    "13. How can you prevent a child class from modifying certain attributes or methods inherited from a parent\n",
    "class in Python?"
   ]
  },
  {
   "cell_type": "markdown",
   "id": "93f0c79c-d56f-4087-8aa4-364ef8fc7532",
   "metadata": {},
   "source": [
    "In Python, you can control the access to attributes and methods in a class by using encapsulation and access modifiers. While Python does not have strict access modifiers like some other programming languages, it follows the principle of \"we are all consenting adults here,\" meaning that it trusts the developer to follow conventions.\n",
    "\n",
    "However, you can achieve a level of protection by using naming conventions and indicating that certain attributes or methods are intended for internal use only. Here are a few strategies:\n",
    "\n",
    "Name Mangling:\n",
    "You can use name mangling by adding a double underscore prefix to an attribute or method. This makes it harder for external code to accidentally override it, but it's not a foolproof security measure."
   ]
  },
  {
   "cell_type": "code",
   "execution_count": 5,
   "id": "0ddf41e8-c78f-4291-961d-7e974b361123",
   "metadata": {},
   "outputs": [
    {
     "name": "stdout",
     "output_type": "stream",
     "text": [
      "Child class modifying the protected method.\n",
      "None\n"
     ]
    },
    {
     "ename": "AttributeError",
     "evalue": "'Child' object has no attribute '__protected_attribute'",
     "output_type": "error",
     "traceback": [
      "\u001b[0;31m---------------------------------------------------------------------------\u001b[0m",
      "\u001b[0;31mAttributeError\u001b[0m                            Traceback (most recent call last)",
      "Cell \u001b[0;32mIn[5], line 21\u001b[0m\n\u001b[1;32m     19\u001b[0m child \u001b[38;5;241m=\u001b[39m Child()\n\u001b[1;32m     20\u001b[0m \u001b[38;5;28mprint\u001b[39m(child\u001b[38;5;241m.\u001b[39m_protected_method())  \u001b[38;5;66;03m# Outputs: Child class modifying the protected method.\u001b[39;00m\n\u001b[0;32m---> 21\u001b[0m \u001b[38;5;28mprint\u001b[39m(\u001b[43mchild\u001b[49m\u001b[38;5;241;43m.\u001b[39;49m\u001b[43m__protected_attribute\u001b[49m)  \u001b[38;5;66;03m# This will raise an AttributeError\u001b[39;00m\n",
      "\u001b[0;31mAttributeError\u001b[0m: 'Child' object has no attribute '__protected_attribute'"
     ]
    }
   ],
   "source": [
    "class Parent:\n",
    "    def __init__(self):\n",
    "        self.__protected_attribute = 42\n",
    "\n",
    "    def _protected_method(self):\n",
    "        print(\"This method is protected.\")\n",
    "\n",
    "class Child(Parent):\n",
    "    def __init__(self):\n",
    "        super().__init__()\n",
    "\n",
    "        # Attempting to override the protected attribute\n",
    "        self.__protected_attribute = 100  # This creates a new attribute, not modifying the parent's attribute\n",
    "\n",
    "    def _protected_method(self):\n",
    "        print(\"Child class modifying the protected method.\")\n",
    "\n",
    "# Example\n",
    "child = Child()\n",
    "print(child._protected_method())  # Outputs: Child class modifying the protected method.\n",
    "print(child.__protected_attribute)  # This will raise an AttributeError\n"
   ]
  },
  {
   "cell_type": "markdown",
   "id": "393543ca-4712-4d7d-b10d-849021feedba",
   "metadata": {},
   "source": [
    "Using a Single Underscore Prefix:\n",
    "By convention, a single leading underscore (_) is used to indicate that an attribute or method is intended for internal use. This is more of a suggestion to other developers rather than a strict enforcement."
   ]
  },
  {
   "cell_type": "code",
   "execution_count": 6,
   "id": "07f55f45-9c74-4686-8498-15e67eea9f8a",
   "metadata": {},
   "outputs": [],
   "source": [
    "class Parent:\n",
    "    def __init__(self):\n",
    "        self._protected_attribute = 42\n",
    "\n",
    "    def _protected_method(self):\n",
    "        print(\"This method is protected.\")\n"
   ]
  },
  {
   "cell_type": "markdown",
   "id": "a761c553-35e4-4ea7-a0ed-dd1ac12bda86",
   "metadata": {},
   "source": [
    "14. Create a Python class called `Employee` with attributes `name` and `salary`. Then, create a child class\n",
    "`Manager` that inherits from `Employee` and adds an attribute `department`. Provide an example."
   ]
  },
  {
   "cell_type": "code",
   "execution_count": 7,
   "id": "a1eee030-4aea-42a2-ad4d-39b0be585d3b",
   "metadata": {},
   "outputs": [
    {
     "name": "stdout",
     "output_type": "stream",
     "text": [
      "Employee Information:\n",
      "Name: John Doe, Salary: $50000.00\n",
      "\n",
      "Manager Information:\n",
      "Name: Alice Smith, Salary: $70000.00\n",
      "Department: HR\n"
     ]
    }
   ],
   "source": [
    "class Employee:\n",
    "    def __init__(self, name, salary):\n",
    "        self.name = name\n",
    "        self.salary = salary\n",
    "\n",
    "    def display_info(self):\n",
    "        print(f\"Name: {self.name}, Salary: ${self.salary:.2f}\")\n",
    "\n",
    "class Manager(Employee):\n",
    "    def __init__(self, name, salary, department):\n",
    "        # Call the constructor of the parent class to initialize name and salary\n",
    "        super().__init__(name, salary)\n",
    "        self.department = department\n",
    "\n",
    "    # Override the display_info method to include department information\n",
    "    def display_info(self):\n",
    "        super().display_info()  # Call the display_info method of the parent class\n",
    "        print(f\"Department: {self.department}\")\n",
    "\n",
    "# Example usage\n",
    "employee1 = Employee(name=\"John Doe\", salary=50000.0)\n",
    "manager1 = Manager(name=\"Alice Smith\", salary=70000.0, department=\"HR\")\n",
    "\n",
    "# Display information\n",
    "print(\"Employee Information:\")\n",
    "employee1.display_info()\n",
    "\n",
    "print(\"\\nManager Information:\")\n",
    "manager1.display_info()\n"
   ]
  },
  {
   "cell_type": "markdown",
   "id": "60d47181-854c-4b32-ac75-d1cccc74441f",
   "metadata": {},
   "source": [
    "15. Discuss the concept of method overloading in Python inheritance. How does it differ from method\n",
    "overriding?"
   ]
  },
  {
   "cell_type": "markdown",
   "id": "51a52560-9b10-456f-b6ba-9787e3ceaae2",
   "metadata": {},
   "source": [
    "Method overloading and method overriding are related but distinct concepts in the context of Python inheritance.\n",
    "\n",
    "Method Overloading:\n",
    "\n",
    "Method overloading refers to defining multiple methods in the same class with the same name but different parameter lists (number or type of parameters). Python does not support traditional method overloading like some other programming languages (e.g., Java or C++), where you can have multiple methods with the same name but different parameter types or numbers. However, you can achieve a form of method overloading using default parameter values and variable-length argument lists (*args and **kwargs).\n",
    "In Python, the last defined method with a given name in a class will override any previously defined methods with the same name. The concept of method overloading is more about providing default values or handling different parameter cases within the same method."
   ]
  },
  {
   "cell_type": "code",
   "execution_count": 8,
   "id": "e1325b70-7d02-4af4-b75c-8e916c15a413",
   "metadata": {},
   "outputs": [
    {
     "name": "stdout",
     "output_type": "stream",
     "text": [
      "1\n",
      "3\n",
      "6\n"
     ]
    }
   ],
   "source": [
    "class MathOperations:\n",
    "    def add(self, a, b=0, c=0):\n",
    "        return a + b + c\n",
    "\n",
    "math_obj = MathOperations()\n",
    "print(math_obj.add(1))        # Outputs: 1\n",
    "print(math_obj.add(1, 2))     # Outputs: 3\n",
    "print(math_obj.add(1, 2, 3))  # Outputs: 6\n"
   ]
  },
  {
   "cell_type": "markdown",
   "id": "29d3d1ca-afa2-4bd3-92ff-278b07c41c48",
   "metadata": {},
   "source": [
    "Method Overriding:\n",
    "\n",
    "Method overriding occurs when a subclass provides a specific implementation for a method that is already defined in its superclass. The overridden method in the subclass must have the same signature (name and parameters) as the method in the superclass.\n",
    "Method overriding allows a subclass to provide its own implementation for a method, effectively replacing or extending the behavior inherited from the parent class."
   ]
  },
  {
   "cell_type": "code",
   "execution_count": 9,
   "id": "1bb9fa9b-1f8a-408d-a95d-3de7af2eb495",
   "metadata": {},
   "outputs": [
    {
     "name": "stdout",
     "output_type": "stream",
     "text": [
      "Bark\n"
     ]
    }
   ],
   "source": [
    "class Animal:\n",
    "    def make_sound(self):\n",
    "        print(\"Generic animal sound\")\n",
    "\n",
    "class Dog(Animal):\n",
    "    def make_sound(self):\n",
    "        print(\"Bark\")\n",
    "\n",
    "dog = Dog()\n",
    "dog.make_sound()  # Outputs: Bark\n"
   ]
  },
  {
   "cell_type": "markdown",
   "id": "315087d9-0a82-4d2c-b7e2-e47c9007dcda",
   "metadata": {},
   "source": [
    "16. Explain the purpose of the `__init__()` method in Python inheritance and how it is utilized in child classes."
   ]
  },
  {
   "cell_type": "markdown",
   "id": "6ce30c3e-4018-4a8e-be1c-2a968db7d316",
   "metadata": {},
   "source": [
    "The __init__() method in Python is a special method, also known as the constructor. It is automatically called when an object of a class is created. The primary purpose of the __init__() method is to initialize the attributes or properties of an object.\n",
    "\n",
    "In the context of inheritance, the __init__() method plays a crucial role in initializing attributes of both the parent and child classes. When a child class is created, its __init__() method can call the __init__() method of the parent class using super() to ensure that attributes defined in the parent class are properly initialized. This process is known as constructor chaining"
   ]
  },
  {
   "cell_type": "code",
   "execution_count": 10,
   "id": "de84b1b0-533a-4f40-be8d-de5fe811ca90",
   "metadata": {},
   "outputs": [
    {
     "name": "stdout",
     "output_type": "stream",
     "text": [
      "An Dog is created.\n",
      "The sound of this Dog is Woof.\n",
      "This Dog is a Labrador.\n"
     ]
    }
   ],
   "source": [
    "class Animal:\n",
    "    def __init__(self, species):\n",
    "        self.species = species\n",
    "        print(f\"An {self.species} is created.\")\n",
    "\n",
    "class Mammal(Animal):\n",
    "    def __init__(self, species, sound):\n",
    "        super().__init__(species)  # Call the constructor of the parent class\n",
    "        self.sound = sound\n",
    "        print(f\"The sound of this {self.species} is {self.sound}.\")\n",
    "\n",
    "class Dog(Mammal):\n",
    "    def __init__(self, species, sound, breed):\n",
    "        super().__init__(species, sound)  # Call the constructor of the parent class\n",
    "        self.breed = breed\n",
    "        print(f\"This {self.species} is a {self.breed}.\")\n",
    "\n",
    "# Example usage\n",
    "my_dog = Dog(species=\"Dog\", sound=\"Woof\", breed=\"Labrador\")\n"
   ]
  },
  {
   "cell_type": "markdown",
   "id": "5a4e79a0-4809-47c1-b809-9931c65d83b7",
   "metadata": {},
   "source": [
    "17. Create a Python class called `Bird` with a method `fly()`. Then, create child classes `Eagle` and `Sparrow` that inherit from `Bird` and implement the `fly()` method differently. Provide an example of using these\n",
    "classes."
   ]
  },
  {
   "cell_type": "code",
   "execution_count": 11,
   "id": "05147a58-ffd8-4a38-bf92-2bc2e417a2a8",
   "metadata": {},
   "outputs": [
    {
     "name": "stdout",
     "output_type": "stream",
     "text": [
      "Generic Bird:\n",
      "Generic bird can fly.\n",
      "\n",
      "Eagle:\n",
      "Eagle soars high in the sky.\n",
      "\n",
      "Sparrow:\n",
      "Sparrow flits from branch to branch.\n"
     ]
    }
   ],
   "source": [
    "class Bird:\n",
    "    def fly(self):\n",
    "        print(\"Generic bird can fly.\")\n",
    "\n",
    "class Eagle(Bird):\n",
    "    def fly(self):\n",
    "        print(\"Eagle soars high in the sky.\")\n",
    "\n",
    "class Sparrow(Bird):\n",
    "    def fly(self):\n",
    "        print(\"Sparrow flits from branch to branch.\")\n",
    "\n",
    "# Example usage\n",
    "generic_bird = Bird()\n",
    "eagle = Eagle()\n",
    "sparrow = Sparrow()\n",
    "\n",
    "# Using the fly() method for each type of bird\n",
    "print(\"Generic Bird:\")\n",
    "generic_bird.fly()\n",
    "\n",
    "print(\"\\nEagle:\")\n",
    "eagle.fly()\n",
    "\n",
    "print(\"\\nSparrow:\")\n",
    "sparrow.fly()\n"
   ]
  },
  {
   "cell_type": "code",
   "execution_count": 12,
   "id": "92c9fa33-bf13-41db-afb8-d215d0b24ace",
   "metadata": {},
   "outputs": [
    {
     "ename": "SyntaxError",
     "evalue": "invalid syntax (1084609273.py, line 1)",
     "output_type": "error",
     "traceback": [
      "\u001b[0;36m  Cell \u001b[0;32mIn[12], line 1\u001b[0;36m\u001b[0m\n\u001b[0;31m    Generic Bird:\u001b[0m\n\u001b[0m            ^\u001b[0m\n\u001b[0;31mSyntaxError\u001b[0m\u001b[0;31m:\u001b[0m invalid syntax\n"
     ]
    }
   ],
   "source": [
    "Generic Bird:\n",
    "Generic bird can fly.\n",
    "\n",
    "Eagle:\n",
    "Eagle soars high in the sky.\n",
    "\n",
    "Sparrow:\n",
    "Sparrow flits from branch to branch.\n"
   ]
  },
  {
   "cell_type": "markdown",
   "id": "26b12f98-5919-4196-8bf1-087a4f38bff6",
   "metadata": {},
   "source": [
    "18. What is the \"diamond problem\" in multiple inheritance, and how does Python address it?"
   ]
  },
  {
   "cell_type": "markdown",
   "id": "a7980d31-03f6-47a1-8b26-24083e527ca5",
   "metadata": {},
   "source": [
    "The \"diamond problem\" is a term used in the context of multiple inheritance, which occurs when a class inherits from two classes that have a common ancestor. This common ancestor is referred to twice through the inheritance hierarchy, forming a diamond shape.\n",
    "\n",
    "Consider the following hierarchy:"
   ]
  },
  {
   "cell_type": "code",
   "execution_count": 13,
   "id": "8bb04985-b2ed-45d8-bc43-0ced181a9805",
   "metadata": {},
   "outputs": [
    {
     "ename": "IndentationError",
     "evalue": "unexpected indent (4012023324.py, line 2)",
     "output_type": "error",
     "traceback": [
      "\u001b[0;36m  Cell \u001b[0;32mIn[13], line 2\u001b[0;36m\u001b[0m\n\u001b[0;31m    (B, C)\u001b[0m\n\u001b[0m    ^\u001b[0m\n\u001b[0;31mIndentationError\u001b[0m\u001b[0;31m:\u001b[0m unexpected indent\n"
     ]
    }
   ],
   "source": [
    "      A\n",
    "     / \\\n",
    "    B   C\n",
    "     \\ /\n",
    "      D\n"
   ]
  },
  {
   "cell_type": "markdown",
   "id": "46982231-c893-4d24-8d18-bf32c3e100fa",
   "metadata": {},
   "source": [
    "Python addresses the diamond problem through its method resolution order (MRO) and a mechanism called C3 linearization. Python uses the C3 linearization algorithm to determine the order in which base classes are considered when resolving method and attribute lookups in multiple inheritance scenarios.\n",
    "\n",
    "The C3 linearization algorithm follows these principles:\n",
    "\n",
    "The order in which base classes are defined matters. The class listed first has higher priority in the MRO.\n",
    "The MRO preserves the order of inheritance specified in the class definition.\n",
    "The MRO avoids duplicating classes in the hierarchy.\n",
    "Python's super() function is used to call methods from the next class in the MRO. It allows for cooperative multiple inheritance by ensuring that each class in the hierarchy is called exactly once."
   ]
  },
  {
   "cell_type": "code",
   "execution_count": 14,
   "id": "dd1fc974-d144-4b0c-a89e-581b01b13488",
   "metadata": {},
   "outputs": [
    {
     "name": "stdout",
     "output_type": "stream",
     "text": [
      "Class B's foo()\n",
      "Class C's foo()\n",
      "Class A's foo()\n"
     ]
    }
   ],
   "source": [
    "class A:\n",
    "    def foo(self):\n",
    "        print(\"Class A's foo()\")\n",
    "\n",
    "class B(A):\n",
    "    def foo(self):\n",
    "        print(\"Class B's foo()\")\n",
    "        super().foo()\n",
    "\n",
    "class C(A):\n",
    "    def foo(self):\n",
    "        print(\"Class C's foo()\")\n",
    "        super().foo()\n",
    "\n",
    "class D(B, C):\n",
    "    pass\n",
    "\n",
    "# Example usage\n",
    "obj_d = D()\n",
    "obj_d.foo()\n"
   ]
  },
  {
   "cell_type": "markdown",
   "id": "b4da2e5d-5ad3-4cae-b8dc-6d1decfb07c7",
   "metadata": {},
   "source": [
    "19. Discuss the concept of \"is-a\" and \"has-a\" relationships in inheritance, and provide examples of each."
   ]
  },
  {
   "cell_type": "markdown",
   "id": "40a61540-851f-4f8e-9f45-c031fc4cb7a5",
   "metadata": {},
   "source": [
    "The concepts of \"is-a\" and \"has-a\" relationships are fundamental concepts in object-oriented programming, particularly when dealing with inheritance and composition.\n",
    "\n",
    "\"Is-a\" Relationship (Inheritance):\n",
    "\n",
    "The \"is-a\" relationship represents an inheritance relationship, where a subclass is a specialized version of its superclass. It indicates that an object of the subclass is also an object of the superclass.\n",
    "Inheritance allows a subclass to inherit attributes and methods from its superclass, promoting code reuse and supporting polymorphism."
   ]
  },
  {
   "cell_type": "code",
   "execution_count": 15,
   "id": "78471d0a-6198-4f8b-97be-b3449f6b3db3",
   "metadata": {},
   "outputs": [
    {
     "name": "stdout",
     "output_type": "stream",
     "text": [
      "Woof!\n",
      "Meow!\n"
     ]
    }
   ],
   "source": [
    "class Animal:\n",
    "    def speak(self):\n",
    "        pass\n",
    "\n",
    "class Dog(Animal):\n",
    "    def speak(self):\n",
    "        return \"Woof!\"\n",
    "\n",
    "class Cat(Animal):\n",
    "    def speak(self):\n",
    "        return \"Meow!\"\n",
    "\n",
    "my_dog = Dog()\n",
    "my_cat = Cat()\n",
    "\n",
    "print(my_dog.speak())  # Outputs: Woof!\n",
    "print(my_cat.speak())  # Outputs: Meow!\n"
   ]
  },
  {
   "cell_type": "markdown",
   "id": "05b53087-61db-4971-a4b8-cfc3a48bf635",
   "metadata": {},
   "source": [
    "\"Has-a\" Relationship (Composition):\n",
    "\n",
    "The \"has-a\" relationship represents composition, where an object contains another object as part of its implementation. It indicates that an object has a component or is composed of other objects.\n",
    "Composition allows for flexibility and modularity, as objects can be combined to create more complex structures"
   ]
  },
  {
   "cell_type": "code",
   "execution_count": 16,
   "id": "19833342-aaa4-4806-887f-ab12ec3e0992",
   "metadata": {},
   "outputs": [
    {
     "name": "stdout",
     "output_type": "stream",
     "text": [
      "Car started. Engine started.\n"
     ]
    }
   ],
   "source": [
    "class Engine:\n",
    "    def start(self):\n",
    "        return \"Engine started.\"\n",
    "\n",
    "class Car:\n",
    "    def __init__(self):\n",
    "        self.engine = Engine()\n",
    "\n",
    "    def start(self):\n",
    "        return f\"Car started. {self.engine.start()}\"\n",
    "\n",
    "my_car = Car()\n",
    "print(my_car.start())  # Outputs: Car started. Engine started.\n"
   ]
  },
  {
   "cell_type": "markdown",
   "id": "4815b8c7-7cb3-43f7-bfe9-95bf43634f3c",
   "metadata": {},
   "source": [
    "In summary:\n",
    "\n",
    "\"Is-a\" relationship is expressed through inheritance, where a subclass is a specialized version of its superclass.\n",
    "\"Has-a\" relationship is expressed through composition, where an object contains another object as part of its implementation."
   ]
  },
  {
   "cell_type": "markdown",
   "id": "309aa904-96e0-4c2f-adb3-2c67300de39d",
   "metadata": {},
   "source": [
    "20. Create a Python class hierarchy for a university system. Start with a base class `Person` and create child\n",
    "classes `Student` and `Professor`, each with their own attributes and methods. Provide an example of using\n",
    "these classes in a university context."
   ]
  },
  {
   "cell_type": "code",
   "execution_count": 17,
   "id": "9a24e1ee-33e1-45f5-920e-f760fdf8656d",
   "metadata": {},
   "outputs": [
    {
     "name": "stdout",
     "output_type": "stream",
     "text": [
      "Student Information:\n",
      "Name: John Doe, Age: 20\n",
      "Student ID: S12345\n",
      "Student is studying.\n",
      "\n",
      "Professor Information:\n",
      "Name: Dr. Smith, Age: 40\n",
      "Employee ID: P98765\n",
      "Professor is teaching.\n"
     ]
    }
   ],
   "source": [
    "class Person:\n",
    "    def __init__(self, name, age):\n",
    "        self.name = name\n",
    "        self.age = age\n",
    "\n",
    "    def display_info(self):\n",
    "        print(f\"Name: {self.name}, Age: {self.age}\")\n",
    "\n",
    "class Student(Person):\n",
    "    def __init__(self, name, age, student_id):\n",
    "        super().__init__(name, age)\n",
    "        self.student_id = student_id\n",
    "\n",
    "    def display_info(self):\n",
    "        super().display_info()\n",
    "        print(f\"Student ID: {self.student_id}\")\n",
    "\n",
    "    def study(self):\n",
    "        print(\"Student is studying.\")\n",
    "\n",
    "class Professor(Person):\n",
    "    def __init__(self, name, age, employee_id):\n",
    "        super().__init__(name, age)\n",
    "        self.employee_id = employee_id\n",
    "\n",
    "    def display_info(self):\n",
    "        super().display_info()\n",
    "        print(f\"Employee ID: {self.employee_id}\")\n",
    "\n",
    "    def teach(self):\n",
    "        print(\"Professor is teaching.\")\n",
    "\n",
    "# Example usage\n",
    "student1 = Student(name=\"John Doe\", age=20, student_id=\"S12345\")\n",
    "professor1 = Professor(name=\"Dr. Smith\", age=40, employee_id=\"P98765\")\n",
    "\n",
    "# Display information about students and professors\n",
    "print(\"Student Information:\")\n",
    "student1.display_info()\n",
    "student1.study()\n",
    "\n",
    "print(\"\\nProfessor Information:\")\n",
    "professor1.display_info()\n",
    "professor1.teach()\n"
   ]
  },
  {
   "cell_type": "markdown",
   "id": "f717e0b9-36d8-43a2-aa22-44ca7690ac30",
   "metadata": {},
   "source": [
    "TOPIC - ENCAPSULATION"
   ]
  },
  {
   "cell_type": "markdown",
   "id": "14053679-afd0-4af8-af2f-d3c0a103594e",
   "metadata": {},
   "source": [
    "1. Explain the concept of encapsulation in Python. What is its role in object-oriented programming?"
   ]
  },
  {
   "cell_type": "markdown",
   "id": "2ee3676a-527e-4bb3-8803-fda65f3135a8",
   "metadata": {},
   "source": [
    "Encapsulation is one of the four fundamental principles of object-oriented programming (OOP) and is a concept that refers to the bundling of data (attributes) and methods (functions) that operate on that data into a single unit known as a class. It restricts access to some of the object's components and can prevent unintended interference or misuse, providing a way to control the visibility and access to the internal state of an object.\n",
    "\n",
    "Key aspects of encapsulation in Python include:\n",
    "\n",
    "Access Modifiers:\n",
    "\n",
    "Access modifiers, such as public, private, and protected, are used to control the visibility of attributes and methods within a class.\n",
    "In Python, attributes and methods are public by default, but you can use a single leading underscore (_) to indicate that an attribute or method is intended for internal use (protected), and a double leading underscore (__) to make it private.\n",
    "Getters and Setters:\n",
    "\n",
    "Encapsulation often involves providing getter and setter methods to access and modify the values of private or protected attributes.\n",
    "This allows for controlled access to the internal state of an object and provides an additional layer of abstraction."
   ]
  },
  {
   "cell_type": "code",
   "execution_count": 18,
   "id": "b177ce13-25f9-4aea-9083-4057c46a67b8",
   "metadata": {},
   "outputs": [
    {
     "name": "stdout",
     "output_type": "stream",
     "text": [
      "Account Number: 123456789\n",
      "Balance: 1000.0\n",
      "New Balance: 1500.0\n",
      "Invalid balance. Balance cannot be negative.\n",
      "Balance after invalid set: 1500.0\n"
     ]
    }
   ],
   "source": [
    "class BankAccount:\n",
    "    def __init__(self, account_number, balance):\n",
    "        self._account_number = account_number  # protected attribute\n",
    "        self.__balance = balance  # private attribute\n",
    "\n",
    "    # Getter method for balance\n",
    "    def get_balance(self):\n",
    "        return self.__balance\n",
    "\n",
    "    # Setter method for balance\n",
    "    def set_balance(self, new_balance):\n",
    "        if new_balance >= 0:\n",
    "            self.__balance = new_balance\n",
    "        else:\n",
    "            print(\"Invalid balance. Balance cannot be negative.\")\n",
    "\n",
    "# Example usage\n",
    "account = BankAccount(account_number=\"123456789\", balance=1000.0)\n",
    "\n",
    "# Accessing the protected attribute using a getter method\n",
    "print(f\"Account Number: {account._account_number}\")  # Not recommended but possible\n",
    "\n",
    "# Accessing the private attribute using a getter method\n",
    "print(f\"Balance: {account.get_balance()}\")\n",
    "\n",
    "# Modifying the private attribute using a setter method\n",
    "account.set_balance(1500.0)\n",
    "print(f\"New Balance: {account.get_balance()}\")\n",
    "\n",
    "# Attempting to set a negative balance (setter method enforces constraints)\n",
    "account.set_balance(-500.0)  # Outputs: Invalid balance. Balance cannot be negative.\n",
    "print(f\"Balance after invalid set: {account.get_balance()}\")\n"
   ]
  },
  {
   "cell_type": "markdown",
   "id": "b4449f2d-13ee-48ac-83d8-4850766bfd37",
   "metadata": {},
   "source": [
    "2. Describe the key principles of encapsulation, including access control and data hiding."
   ]
  },
  {
   "cell_type": "markdown",
   "id": "01e66967-21f4-4d74-bfd8-12ab37516d48",
   "metadata": {},
   "source": [
    "Encapsulation is one of the core principles of object-oriented programming (OOP) and involves bundling the data (attributes) and methods (functions) that operate on that data into a single unit known as a class. The key principles of encapsulation include access control and data hiding:\n",
    "\n",
    "Access Control:\n",
    "\n",
    "Public Access (No Modifier): Attributes and methods with public access are accessible from outside the class. This means they can be freely accessed and modified by external code."
   ]
  },
  {
   "cell_type": "code",
   "execution_count": 1,
   "id": "3d3677d2-74a4-4760-a3a3-b117e5dae3c9",
   "metadata": {},
   "outputs": [
    {
     "name": "stdout",
     "output_type": "stream",
     "text": [
      "This method is public.\n"
     ]
    }
   ],
   "source": [
    "class MyClass:\n",
    "    def public_method(self):\n",
    "        print(\"This method is public.\")\n",
    "\n",
    "obj = MyClass()\n",
    "obj.public_method()  # Accessible from outside\n"
   ]
  },
  {
   "cell_type": "markdown",
   "id": "5aba2cd0-7008-4c31-b5e5-31b34ea90dc8",
   "metadata": {},
   "source": [
    "Protected Access (Single Leading Underscore _): Attributes and methods with protected access are considered internal but can still be accessed from outside the class. However, it is a convention and not enforced by the Python interpreter."
   ]
  },
  {
   "cell_type": "code",
   "execution_count": 2,
   "id": "268035b5-8cc8-4a2a-bcc5-ed99e15ce1f5",
   "metadata": {},
   "outputs": [
    {
     "name": "stdout",
     "output_type": "stream",
     "text": [
      "This method is protected.\n"
     ]
    }
   ],
   "source": [
    "class MyClass:\n",
    "    def _protected_method(self):\n",
    "        print(\"This method is protected.\")\n",
    "\n",
    "obj = MyClass()\n",
    "obj._protected_method()  # Accessible (but not recommended) from outside\n"
   ]
  },
  {
   "cell_type": "markdown",
   "id": "a855f382-63df-420c-9c9a-af12599b8bf7",
   "metadata": {},
   "source": [
    "Private Access (Double Leading Underscore __): Attributes and methods with private access are not accessible from outside the class. Python name mangling allows limited access using _classname__attribute."
   ]
  },
  {
   "cell_type": "code",
   "execution_count": 3,
   "id": "3ff039d0-4c35-497f-8dcc-fd91c09f5acd",
   "metadata": {},
   "outputs": [
    {
     "name": "stdout",
     "output_type": "stream",
     "text": [
      "This method is private.\n"
     ]
    }
   ],
   "source": [
    "class MyClass:\n",
    "    def __private_method(self):\n",
    "        print(\"This method is private.\")\n",
    "\n",
    "obj = MyClass()\n",
    "# obj.__private_method()  # Not directly accessible from outside\n",
    "obj._MyClass__private_method()  # Limited access using name mangling\n"
   ]
  },
  {
   "cell_type": "markdown",
   "id": "b9d95d96-5399-491c-aa36-645628e8d412",
   "metadata": {},
   "source": [
    "Data Hiding:\n",
    "\n",
    "Data hiding involves restricting direct access to the internal state of an object (attributes) from outside the class. This is achieved by marking attributes as private or protected and providing controlled access using getter and setter methods"
   ]
  },
  {
   "cell_type": "code",
   "execution_count": 4,
   "id": "5ae4f4be-1558-4744-9fba-15b357fb41d0",
   "metadata": {},
   "outputs": [],
   "source": [
    "class BankAccount:\n",
    "    def __init__(self, account_number, balance):\n",
    "        self.__account_number = account_number  # private attribute\n",
    "        self.__balance = balance  # private attribute\n",
    "\n",
    "    def get_balance(self):  # getter method\n",
    "        return self.__balance\n",
    "\n",
    "    def set_balance(self, new_balance):  # setter method\n",
    "        if new_balance >= 0:\n",
    "            self.__balance = new_balance\n",
    "        else:\n",
    "            print(\"Invalid balance. Balance cannot be negative.\")\n"
   ]
  },
  {
   "cell_type": "markdown",
   "id": "21f72038-5995-4770-9883-8e56353a3ce1",
   "metadata": {},
   "source": [
    "3. How can you achieve encapsulation in Python classes? Provide an example."
   ]
  },
  {
   "cell_type": "code",
   "execution_count": 5,
   "id": "f4444e70-63ee-46f2-89ca-872a6c0ee4b5",
   "metadata": {},
   "outputs": [
    {
     "name": "stdout",
     "output_type": "stream",
     "text": [
      "Account Number: 123456789\n",
      "Balance: 1000.0\n",
      "New Balance: 1500.0\n",
      "Invalid balance. Balance cannot be negative.\n",
      "Balance after invalid set: 1500.0\n"
     ]
    }
   ],
   "source": [
    "class BankAccount:\n",
    "    def __init__(self, account_number, balance):\n",
    "        self._account_number = account_number  # protected attribute\n",
    "        self.__balance = balance  # private attribute\n",
    "\n",
    "    # Getter method for balance\n",
    "    def get_balance(self):\n",
    "        return self.__balance\n",
    "\n",
    "    # Setter method for balance\n",
    "    def set_balance(self, new_balance):\n",
    "        if new_balance >= 0:\n",
    "            self.__balance = new_balance\n",
    "        else:\n",
    "            print(\"Invalid balance. Balance cannot be negative.\")\n",
    "\n",
    "# Example usage\n",
    "account = BankAccount(account_number=\"123456789\", balance=1000.0)\n",
    "\n",
    "# Accessing the protected attribute using a getter method\n",
    "print(f\"Account Number: {account._account_number}\")  # Not recommended but possible\n",
    "\n",
    "# Accessing the private attribute using a getter method\n",
    "print(f\"Balance: {account.get_balance()}\")\n",
    "\n",
    "# Modifying the private attribute using a setter method\n",
    "account.set_balance(1500.0)\n",
    "print(f\"New Balance: {account.get_balance()}\")\n",
    "\n",
    "# Attempting to set a negative balance (setter method enforces constraints)\n",
    "account.set_balance(-500.0)  # Outputs: Invalid balance. Balance cannot be negative.\n",
    "print(f\"Balance after invalid set: {account.get_balance()}\")\n"
   ]
  },
  {
   "cell_type": "markdown",
   "id": "b449e4e4-806c-4914-a74a-2efb9478acfc",
   "metadata": {},
   "source": [
    "This example illustrates how encapsulation is achieved in Python:\n",
    "\n",
    "Access Control:\n",
    "\n",
    "_account_number is a protected attribute (single leading underscore), and __balance is a private attribute (double leading underscore).\n",
    "Although access to these attributes is possible, it is recommended to use getter and setter methods for controlled access.\n",
    "Data Hiding:\n",
    "\n",
    "The __balance attribute is not directly accessible from outside the class, and access is provided through getter and setter methods.\n",
    "This ensures that the internal state of the BankAccount object is hidden from external code, and modifications are done through controlled interfaces."
   ]
  },
  {
   "cell_type": "markdown",
   "id": "aef182bf-6032-41c1-902c-e2f5095926e3",
   "metadata": {},
   "source": [
    "4. Discuss the difference between public, private, and protected access modifiers in Python."
   ]
  },
  {
   "cell_type": "markdown",
   "id": "03a33d2b-5b09-4612-821b-797a657fc883",
   "metadata": {},
   "source": [
    "In Python, access modifiers are used to control the visibility and accessibility of attributes and methods within a class. The three main access modifiers are public, private, and protected. Here's a brief overview of each:\n",
    "\n",
    "Public Access (No Modifier):\n",
    "\n",
    "Members (attributes and methods) with no access modifier are considered public by default.\n",
    "Public members are accessible from anywhere, both within the class and from outside the class.\n",
    "Public members can be freely accessed and modified by external code."
   ]
  },
  {
   "cell_type": "code",
   "execution_count": 6,
   "id": "06e99389-18fd-4d8a-a63e-cc145adcd891",
   "metadata": {},
   "outputs": [],
   "source": [
    "class MyClass:\n",
    "    def public_method(self):\n",
    "        print(\"This method is public.\")\n"
   ]
  },
  {
   "cell_type": "markdown",
   "id": "a395ab7b-9e54-40fd-8173-647a8abca425",
   "metadata": {},
   "source": [
    "Protected Access (Single Leading Underscore _):\n",
    "\n",
    "Members with a single leading underscore (_) are considered protected.\n",
    "Protected members are intended for internal use within the class and its subclasses.\n",
    "While access to protected members is not enforced by the interpreter, it is a convention that signals that the member is intended for internal use."
   ]
  },
  {
   "cell_type": "code",
   "execution_count": 7,
   "id": "5b8253c4-1be9-466e-9a06-55ba128d7734",
   "metadata": {},
   "outputs": [],
   "source": [
    "class MyClass:\n",
    "    def _protected_method(self):\n",
    "        print(\"This method is protected.\")\n"
   ]
  },
  {
   "cell_type": "markdown",
   "id": "3eaf1b08-24fe-4399-9aa1-e2240713ebd7",
   "metadata": {},
   "source": [
    "5. Create a Python class called `Person` with a private attribute `__name`. Provide methods to get and set the\n",
    "name attribute."
   ]
  },
  {
   "cell_type": "code",
   "execution_count": 9,
   "id": "9a6e1ed8-220a-46c8-abff-6a4f14bfc1f9",
   "metadata": {},
   "outputs": [
    {
     "name": "stdout",
     "output_type": "stream",
     "text": [
      "Current Name: John Doe\n",
      "Updated Name: Jane Doe\n"
     ]
    }
   ],
   "source": [
    "class Person:\n",
    "    def __init__(self, name):\n",
    "        self.__name = name  # private attribute\n",
    "\n",
    "    # Getter method for name\n",
    "    def get_name(self):\n",
    "        return self.__name\n",
    "\n",
    "    # Setter method for name\n",
    "    def set_name(self, new_name):\n",
    "        self.__name = new_name\n",
    "\n",
    "# Example usage\n",
    "person = Person(name=\"John Doe\")\n",
    "\n",
    "# Accessing the private attribute using the getter method\n",
    "current_name = person.get_name()\n",
    "print(f\"Current Name: {current_name}\")\n",
    "\n",
    "# Modifying the private attribute using the setter method\n",
    "person.set_name(\"Jane Doe\")\n",
    "\n",
    "# Accessing the updated name using the getter method\n",
    "updated_name = person.get_name()\n",
    "print(f\"Updated Name: {updated_name}\")\n"
   ]
  },
  {
   "cell_type": "markdown",
   "id": "051849e7-3fe5-4650-9414-bc056ce6a952",
   "metadata": {},
   "source": [
    "6. Explain the purpose of getter and setter methods in encapsulation. Provide examples."
   ]
  },
  {
   "cell_type": "markdown",
   "id": "ed425eac-efa3-4cd9-90f9-f2c98ee61e15",
   "metadata": {},
   "source": [
    "Getter and setter methods play a crucial role in encapsulation by providing controlled access to the internal state (attributes) of a class. They allow you to retrieve (get) and modify (set) the values of private or protected attributes, enabling you to enforce validation, perform additional logic, and maintain the integrity of the object's state. Here's an explanation of the purpose of getter and setter methods, along with examples:\n",
    "\n",
    "Purpose of Getter Methods:\n",
    "Controlled Access:\n",
    "\n",
    "Getter methods are used to retrieve the values of private or protected attributes.\n",
    "They provide a controlled interface for external code to access the internal state of an object.\n",
    "Abstraction:\n",
    "\n",
    "Getter methods abstract the implementation details of how an attribute is stored or calculated.\n",
    "External code doesn't need to know the internal structure of the class; it can rely on the getter method to obtain the attribute value.\n",
    "Validation and Computation:\n",
    "\n",
    "Getter methods can include validation checks or perform computations before returning the attribute value.\n",
    "This allows for additional logic to ensure that the returned value meets certain criteria"
   ]
  },
  {
   "cell_type": "markdown",
   "id": "05aa8b5f-c07b-4700-b066-edcd6827c4db",
   "metadata": {},
   "source": [
    "Purpose of Setter Methods:\n",
    "Controlled Modification:\n",
    "\n",
    "Setter methods are used to modify the values of private or protected attributes.\n",
    "They provide a controlled interface for external code to update the internal state of an object.\n",
    "Validation:\n",
    "\n",
    "Setter methods often include validation checks to ensure that the new value being set is valid.\n",
    "This helps in maintaining the integrity of the object and prevents the object from entering an inconsistent or invalid state.\n",
    "Encapsulation:\n",
    "\n",
    "Setter methods encapsulate the logic for modifying attributes within the class.\n",
    "This encapsulation allows for future modifications to the internal implementation without affecting the external code."
   ]
  },
  {
   "cell_type": "code",
   "execution_count": 10,
   "id": "a948b4c3-d4da-4e6b-a6c5-a9d49d7ee79a",
   "metadata": {},
   "outputs": [
    {
     "name": "stdout",
     "output_type": "stream",
     "text": [
      "Current Name: John Doe, Current Age: 25\n",
      "Updated Name: Jane Doe, Updated Age: 30\n"
     ]
    }
   ],
   "source": [
    "class Person:\n",
    "    def __init__(self, name, age):\n",
    "        self.__name = name  # private attribute\n",
    "        self.__age = age    # private attribute\n",
    "\n",
    "    # Getter methods\n",
    "    def get_name(self):\n",
    "        return self.__name\n",
    "\n",
    "    def get_age(self):\n",
    "        return self.__age\n",
    "\n",
    "    # Setter methods\n",
    "    def set_name(self, new_name):\n",
    "        if isinstance(new_name, str):\n",
    "            self.__name = new_name\n",
    "        else:\n",
    "            print(\"Invalid name. Please provide a string.\")\n",
    "\n",
    "    def set_age(self, new_age):\n",
    "        if isinstance(new_age, int) and new_age >= 0:\n",
    "            self.__age = new_age\n",
    "        else:\n",
    "            print(\"Invalid age. Please provide a non-negative integer.\")\n",
    "\n",
    "# Example usage\n",
    "person = Person(name=\"John Doe\", age=25)\n",
    "\n",
    "# Using getter methods\n",
    "current_name = person.get_name()\n",
    "current_age = person.get_age()\n",
    "print(f\"Current Name: {current_name}, Current Age: {current_age}\")\n",
    "\n",
    "# Using setter methods\n",
    "person.set_name(\"Jane Doe\")\n",
    "person.set_age(30)\n",
    "\n",
    "# Accessing the updated attributes using getter methods\n",
    "updated_name = person.get_name()\n",
    "updated_age = person.get_age()\n",
    "print(f\"Updated Name: {updated_name}, Updated Age: {updated_age}\")\n"
   ]
  },
  {
   "cell_type": "markdown",
   "id": "6b24c509-f437-4064-9c1c-3b01e6a5788d",
   "metadata": {},
   "source": [
    "7. What is name mangling in Python, and how does it affect encapsulation?"
   ]
  },
  {
   "cell_type": "markdown",
   "id": "0d9ef8c8-8f37-497a-8e35-ab14ffc239d0",
   "metadata": {},
   "source": [
    "Name mangling in Python is a mechanism used to make the names of attributes and methods in a class more difficult to access from outside the class. It involves adding a prefix to the names of private attributes and methods, specifically those with a double leading underscore (__). The purpose of name mangling is to reduce the risk of naming conflicts in subclasses and to discourage direct access to private members from external code.\n",
    "\n",
    "When name mangling is applied, the interpreter modifies the name of the private attribute or method by adding an underscore and the name of the class. This modified name helps prevent accidental name clashes with names used in subclasses"
   ]
  },
  {
   "cell_type": "code",
   "execution_count": 1,
   "id": "21da2f2b-b31d-4d6d-aa4d-7c723b6d142e",
   "metadata": {},
   "outputs": [
    {
     "name": "stdout",
     "output_type": "stream",
     "text": [
      "42\n",
      "This method is private.\n"
     ]
    }
   ],
   "source": [
    "class MyClass:\n",
    "    def __init__(self):\n",
    "        self.__private_attribute = 42  # private attribute with double leading underscore\n",
    "\n",
    "    def __private_method(self):\n",
    "        print(\"This method is private.\")\n",
    "\n",
    "# Example usage\n",
    "obj = MyClass()\n",
    "\n",
    "# Accessing the private attribute without name mangling (raises AttributeError)\n",
    "# print(obj.__private_attribute)  # Uncommenting this line will result in an AttributeError\n",
    "\n",
    "# Accessing the private attribute with name mangling\n",
    "print(obj._MyClass__private_attribute)  # Outputs: 42\n",
    "\n",
    "# Accessing the private method without name mangling (raises AttributeError)\n",
    "# obj.__private_method()  # Uncommenting this line will result in an AttributeError\n",
    "\n",
    "# Accessing the private method with name mangling\n",
    "obj._MyClass__private_method()  # Outputs: This method is private.\n"
   ]
  },
  {
   "cell_type": "markdown",
   "id": "c3efe6cc-6b7b-4a18-9a16-90c0cc128a2e",
   "metadata": {},
   "source": [
    "How Name Mangling Affects Encapsulation:\n",
    "Limited Access:\n",
    "\n",
    "Name mangling makes it more challenging for external code to access private attributes and methods directly.\n",
    "It limits direct access, promoting encapsulation and preventing unintentional interference.\n",
    "Subclass Safety:\n",
    "\n",
    "Name mangling helps avoid naming conflicts in subclasses by incorporating the class name into the attribute or method name.\n",
    "This ensures that private members in the superclass do not clash with identically named members in a subclass.\n",
    "Encourages Proper Usage:\n",
    "\n",
    "While name mangling does not make access to private members impossible, it signals that these members are intended for internal use.\n",
    "It encourages developers to use public interfaces (getter and setter methods) rather than directly accessing or modifying private members."
   ]
  },
  {
   "cell_type": "markdown",
   "id": "e3ae73b2-3350-4a56-939a-e6e24265edf1",
   "metadata": {},
   "source": [
    "It's important to note that name mangling is a convention, not a strict security feature. Developers are trusted to follow best practices, and it is still possible to access private members with name mangling if needed. However, doing so is discouraged to maintain clean and encapsulated code.\n",
    "\n",
    "\n",
    "\n",
    "\n",
    "\n"
   ]
  },
  {
   "cell_type": "markdown",
   "id": "7647f007-c75a-4879-bf39-e7f4cf91e9c2",
   "metadata": {},
   "source": [
    "8. Create a Python class called `BankAccount` with private attributes for the account balance (`__balance`)"
   ]
  },
  {
   "cell_type": "code",
   "execution_count": 2,
   "id": "3e422702-c2eb-4cda-ba28-f6fcb5149414",
   "metadata": {},
   "outputs": [
    {
     "name": "stdout",
     "output_type": "stream",
     "text": [
      "Account Number: 123456789, Balance: 1000.0\n",
      "Deposit successful. New balance: 2000.0\n",
      "Withdrawal successful. New balance: 1800.0\n"
     ]
    }
   ],
   "source": [
    "class BankAccount:\n",
    "    def __init__(self, account_number, initial_balance=0.0):\n",
    "        self.__account_number = account_number  # private attribute\n",
    "        self.__balance = initial_balance        # private attribute\n",
    "\n",
    "    # Getter method for account number\n",
    "    def get_account_number(self):\n",
    "        return self.__account_number\n",
    "\n",
    "    # Getter method for balance\n",
    "    def get_balance(self):\n",
    "        return self.__balance\n",
    "\n",
    "    # Setter method for balance\n",
    "    def set_balance(self, new_balance):\n",
    "        if isinstance(new_balance, (int, float)):\n",
    "            self.__balance = new_balance\n",
    "        else:\n",
    "            print(\"Invalid balance. Please provide a numeric value.\")\n",
    "\n",
    "    # Method to deposit money\n",
    "    def deposit(self, amount):\n",
    "        if amount > 0:\n",
    "            self.__balance += amount\n",
    "            print(f\"Deposit successful. New balance: {self.__balance}\")\n",
    "        else:\n",
    "            print(\"Invalid deposit amount. Please provide a positive value.\")\n",
    "\n",
    "    # Method to withdraw money\n",
    "    def withdraw(self, amount):\n",
    "        if amount > 0 and amount <= self.__balance:\n",
    "            self.__balance -= amount\n",
    "            print(f\"Withdrawal successful. New balance: {self.__balance}\")\n",
    "        else:\n",
    "            print(\"Invalid withdrawal amount or insufficient funds.\")\n",
    "\n",
    "# Example usage\n",
    "account = BankAccount(account_number=\"123456789\", initial_balance=1000.0)\n",
    "\n",
    "# Accessing private attributes using getter methods\n",
    "account_number = account.get_account_number()\n",
    "balance = account.get_balance()\n",
    "print(f\"Account Number: {account_number}, Balance: {balance}\")\n",
    "\n",
    "# Modifying the private attribute using the setter method\n",
    "account.set_balance(1500.0)\n",
    "\n",
    "# Performing deposit and withdrawal\n",
    "account.deposit(500.0)\n",
    "account.withdraw(200.0)\n"
   ]
  },
  {
   "cell_type": "markdown",
   "id": "2458b9e1-8543-4538-8f34-31ec1aed6fdf",
   "metadata": {},
   "source": [
    "9. Discuss the advantages of encapsulation in terms of code maintainability and security."
   ]
  },
  {
   "cell_type": "markdown",
   "id": "239fbc61-c39d-4ad0-bf29-7ea3d49e70a0",
   "metadata": {},
   "source": [
    "Encapsulation, as one of the fundamental principles of object-oriented programming (OOP), offers several advantages in terms of code maintainability and security:\n",
    "\n",
    "Advantages of Encapsulation:\n",
    "Code Maintainability:\n",
    "\n",
    "Modularity: Encapsulation promotes modularity by encapsulating the implementation details of a class. This allows for changes to the internal structure without affecting the external code.\n",
    "Code Organization: It helps organize code by providing a clear separation between the public interface (methods) and the internal implementation (attributes and private methods).\n",
    "Ease of Updates: Modifications to the internal implementation can be made without impacting the external code that relies on the class."
   ]
  },
  {
   "cell_type": "markdown",
   "id": "b393be6e-ffa3-4e37-a309-0df86161ce34",
   "metadata": {},
   "source": [
    "Reduced Code Complexity:\n",
    "\n",
    "Abstraction: Encapsulation allows developers to think at a higher level of abstraction. External code interacts with the class through well-defined interfaces without needing to know the intricate details of the implementation.\n",
    "Hidden Complexity: Internal details and complexities are hidden, making it easier for developers to understand and use classes without delving into unnecessary details.\n",
    "Security:\n",
    "\n",
    "Access Control: Encapsulation provides control over the visibility and accessibility of class members. Private and protected attributes/methods are not directly accessible from outside the class, limiting potential security vulnerabilities.\n",
    "Data Hiding: By hiding the internal state (attributes) of an object, encapsulation prevents unauthorized access and modification. External code interacts with the object through controlled interfaces (getter and setter methods)."
   ]
  },
  {
   "cell_type": "markdown",
   "id": "afed120b-3c8d-4d89-8f24-e3ca83efde91",
   "metadata": {},
   "source": [
    "Flexibility and Future Modifications:\n",
    "\n",
    "Ease of Updates: Encapsulation makes it easier to update the internal implementation of a class without affecting the external code. This is particularly valuable in large projects where different parts of the codebase may evolve independently.\n",
    "Subclassing: Encapsulation supports the concept of inheritance. Subclasses can inherit the interface and behavior of a superclass without being concerned with the details of its implementation.\n",
    "Code Reusability:\n",
    "\n",
    "Inheritance: Encapsulation and inheritance work together to facilitate code reuse. Subclasses can inherit the attributes and methods of a superclass, promoting a hierarchical structure and reducing redundancy.\n",
    "Encourages Good Coding Practices:\n",
    "\n",
    "Use of Interfaces: Encapsulation encourages the use of well-defined interfaces (getter and setter methods) for interacting with objects. This promotes good coding practices and helps maintain a clear separation between the external and internal aspects of a class."
   ]
  },
  {
   "cell_type": "markdown",
   "id": "d9f0ad71-cf4f-4a66-98ec-442cce8353f5",
   "metadata": {},
   "source": [
    "Debugging and Testing:\n",
    "\n",
    "Isolation of Issues: When encapsulation is properly applied, issues related to a specific class can be isolated and addressed without affecting other parts of the system. This makes debugging and testing more manageable.\n",
    "In summary, encapsulation enhances code maintainability by promoting modularity, reducing complexity, and providing a clear separation between interfaces and implementations. It also contributes to security by controlling access to class members and hiding implementation details. These advantages are especially valuable in building robust, scalable, and maintainable software systems."
   ]
  },
  {
   "cell_type": "markdown",
   "id": "b8e38e61-7eb1-4f47-b458-960b39a66d07",
   "metadata": {},
   "source": [
    "10. How can you access private attributes in Python? Provide an example demonstrating the use of name\n",
    "mangling."
   ]
  },
  {
   "cell_type": "markdown",
   "id": "e5e6c2bc-ff52-4675-9db6-21717aba32d4",
   "metadata": {},
   "source": [
    "In Python, private attributes are intended to be accessed only within the class that defines them. However, there is a mechanism called name mangling that allows limited access to private attributes from outside the class. Name mangling involves modifying the name of the private attribute by adding a prefix that includes the class name. This makes it more challenging to access the attribute directly."
   ]
  },
  {
   "cell_type": "code",
   "execution_count": 3,
   "id": "494d4b5b-6d66-4968-bce9-7413a43e1712",
   "metadata": {},
   "outputs": [
    {
     "name": "stdout",
     "output_type": "stream",
     "text": [
      "Accessing private attribute using getter method: 42\n",
      "Accessing private attribute using name mangling: 42\n"
     ]
    }
   ],
   "source": [
    "class MyClass:\n",
    "    def __init__(self):\n",
    "        self.__private_attribute = 42  # private attribute with double leading underscore\n",
    "\n",
    "    def get_private_attribute(self):\n",
    "        return self.__private_attribute\n",
    "\n",
    "# Example usage\n",
    "obj = MyClass()\n",
    "\n",
    "# Accessing the private attribute using the getter method\n",
    "value = obj.get_private_attribute()\n",
    "print(f\"Accessing private attribute using getter method: {value}\")\n",
    "\n",
    "# Attempting to access the private attribute directly (raises AttributeError)\n",
    "# print(obj.__private_attribute)  # Uncommenting this line will result in an AttributeError\n",
    "\n",
    "# Accessing the private attribute using name mangling\n",
    "# Note: This is discouraged and should be avoided in normal code.\n",
    "mangled_name = obj._MyClass__private_attribute\n",
    "print(f\"Accessing private attribute using name mangling: {mangled_name}\")\n"
   ]
  },
  {
   "cell_type": "markdown",
   "id": "b14078a9-067a-4ce3-af48-9561806a22c3",
   "metadata": {},
   "source": [
    "t's important to note the following considerations:\n",
    "\n",
    "Accessing private attributes using name mangling is discouraged in most cases. It goes against the principles of encapsulation and should be avoided for clean and maintainable code.\n",
    "The use of name mangling is a convention, and the double leading underscore is not a strict security feature. It is designed to avoid accidental name clashes rather than to provide strong security.\n",
    "In practice, it is recommended to use getter and setter methods for controlled access to private attributes, maintaining the principles of encapsulation and information hiding."
   ]
  },
  {
   "cell_type": "markdown",
   "id": "6ecb2575-38f5-4f4d-ad90-7b7fee2e088a",
   "metadata": {},
   "source": [
    "11. Create a Python class hierarchy for a school system, including classes for students, teachers, and courses,\n",
    "and implement encapsulation principles to protect sensitive information."
   ]
  },
  {
   "cell_type": "code",
   "execution_count": 4,
   "id": "90566596-9f27-4215-b315-821ccf6807aa",
   "metadata": {},
   "outputs": [],
   "source": [
    "class Person:\n",
    "    def __init__(self, name, age, address):\n",
    "        self.__name = name  # private attribute\n",
    "        self.__age = age    # private attribute\n",
    "        self.__address = address  # private attribute\n",
    "\n",
    "    def get_name(self):\n",
    "        return self.__name\n",
    "\n",
    "    def set_name(self, new_name):\n",
    "        if isinstance(new_name, str):\n",
    "            self.__name = new_name\n",
    "        else:\n",
    "            print(\"Invalid name. Please provide a string.\")\n",
    "\n",
    "    def get_age(self):\n",
    "        return self.__age\n",
    "\n",
    "    def set_age(self, new_age):\n",
    "        if isinstance(new_age, int) and new_age >= 0:\n",
    "            self.__age = new_age\n",
    "        else:\n",
    "            print(\"Invalid age. Please provide a non-negative integer.\")\n",
    "\n",
    "    def get_address(self):\n",
    "        return self.__address\n",
    "\n",
    "    def set_address(self, new_address):\n",
    "        if isinstance(new_address, str):\n",
    "            self.__address = new_address\n",
    "        else:\n",
    "            print(\"Invalid address. Please provide a string.\")\n",
    "\n",
    "class Student(Person):\n",
    "    def __init__(self, name, age, address, student_id):\n",
    "        super().__init__(name, age, address)\n",
    "        self.__student_id = student_id  # private attribute\n",
    "        self.__courses_enrolled = []   # private attribute for storing enrolled courses\n",
    "\n",
    "    def get_student_id(self):\n",
    "        return self.__student_id\n",
    "\n",
    "    def enroll_in_course(self, course):\n",
    "        # Assuming course is an instance of the Course class\n",
    "        if course not in self.__courses_enrolled:\n",
    "            self.__courses_enrolled.append(course)\n",
    "            print(f\"Enrolled in {course.get_course_name()}.\")\n",
    "\n",
    "class Teacher(Person):\n",
    "    def __init__(self, name, age, address, employee_id):\n",
    "        super().__init__(name, age, address)\n",
    "        self.__employee_id = employee_id  # private attribute\n",
    "        self.__courses_taught = []        # private attribute for storing taught courses\n",
    "\n",
    "    def get_employee_id(self):\n",
    "        return self.__employee_id\n",
    "\n",
    "    def assign_course(self, course):\n",
    "        # Assuming course is an instance of the Course class\n",
    "        if course not in self.__courses_taught:\n",
    "            self.__courses_taught.append(course)\n",
    "            print(f\"Assigned to teach {course.get_course_name()}.\")\n",
    "\n",
    "class Course:\n",
    "    def __init__(self, course_name, course_code):\n",
    "        self.__course_name = course_name  # private attribute\n",
    "        self.__course_code = course_code  # private attribute\n",
    "\n",
    "    def get_course_name(self):\n",
    "        return self.__course_name\n",
    "\n",
    "    def set_course_name(self, new_name):\n",
    "        if isinstance(new_name, str):\n",
    "            self.__course_name = new_name\n",
    "        else:\n",
    "            print(\"Invalid course name. Please provide a string.\")\n",
    "\n",
    "    def get_course_code(self):\n",
    "        return self.__course_code\n",
    "\n",
    "    def set_course_code(self, new_code):\n",
    "        if isinstance(new_code, str):\n",
    "            self.__course_code = new_code\n",
    "        else:\n",
    "            print(\"Invalid course code. Please provide a string.\")\n"
   ]
  },
  {
   "cell_type": "markdown",
   "id": "87b135ff-4640-433e-aa73-caa87309c915",
   "metadata": {},
   "source": [
    "12. Explain the concept of property decorators in Python and how they relate to encapsulation."
   ]
  },
  {
   "cell_type": "markdown",
   "id": "59bfc08d-a5d6-44cb-939b-52f5166a8b1d",
   "metadata": {},
   "source": [
    "In Python, property decorators are a mechanism that allows you to define special methods known as getters, setters, and deleters for class attributes. Property decorators provide a way to encapsulate the access and modification of class attributes, allowing you to control how they are accessed and modified from outside the class. This helps in maintaining the principles of encapsulation by hiding the internal implementation details of the class.\n",
    "\n",
    "Property Decorators:\n",
    "Getter:\n",
    "\n",
    "A getter method is used to retrieve the value of an attribute.\n",
    "It is decorated with @property.\n",
    "The getter method is called when the attribute is accessed.\n",
    "Setter:\n",
    "\n",
    "A setter method is used to modify the value of an attribute.\n",
    "It is decorated with @<attribute_name>.setter.\n",
    "The setter method is called when the attribute is assigned a new value.\n",
    "Deleter:\n",
    "\n",
    "A deleter method is used to delete an attribute.\n",
    "It is decorated with @<attribute_name>.deleter.\n",
    "The deleter method is called when the del statement is used on the attribute."
   ]
  },
  {
   "cell_type": "code",
   "execution_count": 5,
   "id": "4c215dd7-1d2d-45dc-8aba-3008d33c2282",
   "metadata": {},
   "outputs": [
    {
     "name": "stdout",
     "output_type": "stream",
     "text": [
      "Getting value\n",
      "Current Value: 0\n",
      "Setting value\n",
      "Getting value\n",
      "Updated Value: 42\n",
      "Deleting value\n"
     ]
    }
   ],
   "source": [
    "class MyClass:\n",
    "    def __init__(self):\n",
    "        self._value = 0  # protected attribute\n",
    "\n",
    "    @property\n",
    "    def value(self):\n",
    "        print(\"Getting value\")\n",
    "        return self._value\n",
    "\n",
    "    @value.setter\n",
    "    def value(self, new_value):\n",
    "        print(\"Setting value\")\n",
    "        if isinstance(new_value, int):\n",
    "            self._value = new_value\n",
    "        else:\n",
    "            print(\"Invalid value. Please provide an integer.\")\n",
    "\n",
    "    @value.deleter\n",
    "    def value(self):\n",
    "        print(\"Deleting value\")\n",
    "        del self._value\n",
    "\n",
    "# Example usage\n",
    "obj = MyClass()\n",
    "\n",
    "# Accessing the attribute using the getter\n",
    "current_value = obj.value\n",
    "print(f\"Current Value: {current_value}\")\n",
    "\n",
    "# Modifying the attribute using the setter\n",
    "obj.value = 42\n",
    "\n",
    "# Accessing the updated attribute\n",
    "updated_value = obj.value\n",
    "print(f\"Updated Value: {updated_value}\")\n",
    "\n",
    "# Deleting the attribute\n",
    "del obj.value\n",
    "# Attempting to access the attribute after deletion raises AttributeError\n",
    "# print(obj.value)  # Uncommenting this line will result in an AttributeError\n"
   ]
  },
  {
   "cell_type": "markdown",
   "id": "87db766d-b5e0-4172-8722-b0f8318beb0f",
   "metadata": {},
   "source": [
    "13. What is data hiding, and why is it important in encapsulation? Provide examples."
   ]
  },
  {
   "cell_type": "markdown",
   "id": "93e27fd0-129e-4bf5-af14-af0363566a8e",
   "metadata": {},
   "source": [
    "Data hiding is a concept in object-oriented programming that refers to the practice of restricting direct access to certain attributes or methods of a class. The primary goal of data hiding is to encapsulate the internal state of an object, limiting access to the internal details and providing controlled interfaces for interacting with the object. This helps in maintaining the integrity of the object's state and reduces the risk of unintended interference from external code.\n",
    "\n",
    "Importance of Data Hiding in Encapsulation:\n",
    "\n",
    "Prevents Unintended Modification:\n",
    "\n",
    "Data hiding prevents external code from directly modifying the internal state of an object. Access to attributes is restricted to controlled interfaces, reducing the risk of unintended changes that could lead to an inconsistent or invalid state.\n",
    "Promotes Controlled Access:\n",
    "\n",
    "By hiding the internal details, data hiding encourages the use of well-defined interfaces such as getter and setter methods. This promotes controlled access to attributes, allowing developers to define how data is retrieved and modified.\n",
    "Enhances Security:\n",
    "\n",
    "Data hiding improves security by preventing unauthorized access to sensitive information. Private attributes and methods are not directly accessible from outside the class, limiting the exposure of critical data.\n",
    "Facilitates Code Maintenance:\n",
    "\n",
    "Encapsulation, including data hiding, enhances code maintainability. Changes to the internal implementation can be made without affecting external code that relies on the class. This modularity makes code updates and refactoring easier.\n",
    "Encourages Good Coding Practices:\n",
    "\n",
    "Data hiding encourages developers to follow good coding practices by using public interfaces (getter and setter methods) to interact with objects. This promotes a clear separation between external and internal aspects of a class."
   ]
  },
  {
   "cell_type": "code",
   "execution_count": 6,
   "id": "6e9d0401-fcb4-4b6d-b8a7-b0a23537d710",
   "metadata": {},
   "outputs": [
    {
     "name": "stdout",
     "output_type": "stream",
     "text": [
      "Current Age: 25\n",
      "Invalid age. Please provide a non-negative integer.\n",
      "Updated Age: 30\n"
     ]
    }
   ],
   "source": [
    "class Person:\n",
    "    def __init__(self, name, age):\n",
    "        self._name = name    # protected attribute\n",
    "        self.__age = age     # private attribute\n",
    "\n",
    "    # Getter method for age\n",
    "    def get_age(self):\n",
    "        return self.__age\n",
    "\n",
    "    # Setter method for age with validation\n",
    "    def set_age(self, new_age):\n",
    "        if isinstance(new_age, int) and new_age >= 0:\n",
    "            self.__age = new_age\n",
    "        else:\n",
    "            print(\"Invalid age. Please provide a non-negative integer.\")\n",
    "\n",
    "# Example usage\n",
    "person = Person(name=\"John Doe\", age=25)\n",
    "\n",
    "# Accessing the protected attribute using a getter method\n",
    "current_name = person._name  # Not recommended but possible\n",
    "\n",
    "# Accessing the private attribute using a getter method\n",
    "current_age = person.get_age()\n",
    "print(f\"Current Age: {current_age}\")\n",
    "\n",
    "# Modifying the private attribute using a setter method\n",
    "person.set_age(30)\n",
    "\n",
    "# Attempting to set an invalid age (setter method enforces constraints)\n",
    "person.set_age(-5)  # Outputs: Invalid age. Please provide a non-negative integer.\n",
    "\n",
    "# Accessing the updated age using a getter method\n",
    "updated_age = person.get_age()\n",
    "print(f\"Updated Age: {updated_age}\")\n"
   ]
  },
  {
   "cell_type": "markdown",
   "id": "df5f7f8f-3326-4e04-85e6-d4dbaacf6040",
   "metadata": {},
   "source": [
    "14. Create a Python class called `Employee` with private attributes for salary (`__salary`) and employee ID (`__employee_id`). Provide a method to calculate yearly bonuses."
   ]
  },
  {
   "cell_type": "code",
   "execution_count": 7,
   "id": "a05e0266-6584-4f3c-acae-e0001f1185b6",
   "metadata": {},
   "outputs": [
    {
     "name": "stdout",
     "output_type": "stream",
     "text": [
      "Employee ID: E123, Salary: $50000.0\n",
      "Updated Salary: $55000.0\n",
      "Yearly Bonus: $5500.0\n"
     ]
    }
   ],
   "source": [
    "class Employee:\n",
    "    def __init__(self, employee_id, salary):\n",
    "        self.__employee_id = employee_id  # private attribute\n",
    "        self.__salary = salary            # private attribute\n",
    "\n",
    "    # Getter method for employee ID\n",
    "    def get_employee_id(self):\n",
    "        return self.__employee_id\n",
    "\n",
    "    # Getter method for salary\n",
    "    def get_salary(self):\n",
    "        return self.__salary\n",
    "\n",
    "    # Setter method for salary with validation\n",
    "    def set_salary(self, new_salary):\n",
    "        if isinstance(new_salary, (int, float)) and new_salary >= 0:\n",
    "            self.__salary = new_salary\n",
    "        else:\n",
    "            print(\"Invalid salary. Please provide a non-negative numeric value.\")\n",
    "\n",
    "    # Method to calculate yearly bonus\n",
    "    def calculate_yearly_bonus(self, bonus_percentage):\n",
    "        if isinstance(bonus_percentage, (int, float)) and 0 <= bonus_percentage <= 100:\n",
    "            bonus_amount = (bonus_percentage / 100) * self.__salary\n",
    "            return bonus_amount\n",
    "        else:\n",
    "            print(\"Invalid bonus percentage. Please provide a percentage between 0 and 100.\")\n",
    "\n",
    "# Example usage\n",
    "employee = Employee(employee_id=\"E123\", salary=50000.0)\n",
    "\n",
    "# Accessing private attributes using getter methods\n",
    "employee_id = employee.get_employee_id()\n",
    "salary = employee.get_salary()\n",
    "print(f\"Employee ID: {employee_id}, Salary: ${salary}\")\n",
    "\n",
    "# Modifying the private attribute using the setter method\n",
    "employee.set_salary(55000.0)\n",
    "\n",
    "# Accessing the updated salary using the getter method\n",
    "updated_salary = employee.get_salary()\n",
    "print(f\"Updated Salary: ${updated_salary}\")\n",
    "\n",
    "# Calculating and displaying yearly bonus\n",
    "bonus_percentage = 10  # 10% bonus\n",
    "yearly_bonus = employee.calculate_yearly_bonus(bonus_percentage)\n",
    "print(f\"Yearly Bonus: ${yearly_bonus}\")\n"
   ]
  },
  {
   "cell_type": "markdown",
   "id": "576ef574-b3de-4a12-9693-82a1f803a021",
   "metadata": {},
   "source": [
    "15. Discuss the use of accessors and mutators in encapsulation. How do they help maintain control over\n",
    "attribute access?"
   ]
  },
  {
   "cell_type": "markdown",
   "id": "b72989e0-807b-4f0e-821f-262be20e9d4f",
   "metadata": {},
   "source": [
    "Accessors and mutators, often referred to as getter and setter methods, are integral components of encapsulation in object-oriented programming. They play a crucial role in controlling attribute access and modification, helping to maintain the integrity of an object's state. Here's an explanation of accessors and mutators and their roles in encapsulation:\n",
    "\n",
    "1. Accessors (Getters):\n",
    "Purpose: Accessors are methods that provide controlled access to the values of private attributes.\n",
    "Naming Convention: Typically named with the prefix \"get_\" followed by the attribute name."
   ]
  },
  {
   "cell_type": "code",
   "execution_count": 8,
   "id": "3de2fa62-7998-41f1-b8bb-142796248e35",
   "metadata": {},
   "outputs": [],
   "source": [
    "class Person:\n",
    "    def __init__(self, name):\n",
    "        self.__name = name  # private attribute\n",
    "\n",
    "    def get_name(self):\n",
    "        return self.__name\n",
    "\n",
    "# Example usage\n",
    "person = Person(\"John Doe\")\n",
    "name = person.get_name()\n"
   ]
  },
  {
   "cell_type": "markdown",
   "id": "220364b8-69b1-4ffc-ac88-06de598f9acd",
   "metadata": {},
   "source": [
    " Mutators (Setters):\n",
    "Purpose: Mutators are methods that provide controlled modification of the values of private attributes.\n",
    "Naming Convention: Typically named with the prefix \"set_\" followed by the attribute name."
   ]
  },
  {
   "cell_type": "code",
   "execution_count": 9,
   "id": "20b2ece6-8151-4451-9e98-6bde6a4953f3",
   "metadata": {},
   "outputs": [],
   "source": [
    "class Person:\n",
    "    def __init__(self, name):\n",
    "        self.__name = name  # private attribute\n",
    "\n",
    "    def set_name(self, new_name):\n",
    "        if isinstance(new_name, str):\n",
    "            self.__name = new_name\n",
    "        else:\n",
    "            print(\"Invalid name. Please provide a string.\")\n",
    "\n",
    "# Example usage\n",
    "person = Person(\"John Doe\")\n",
    "person.set_name(\"Jane Doe\")\n"
   ]
  },
  {
   "cell_type": "markdown",
   "id": "1a98cb85-de8e-4db6-85a9-9c9ea36e7c14",
   "metadata": {},
   "source": [
    "How They Maintain Control Over Attribute Access:\n",
    "Encapsulation of Logic:\n",
    "\n",
    "Accessors and mutators encapsulate the logic for accessing and modifying attributes within the class.\n",
    "Logic such as validation checks, computations, or any additional processing can be included in these methods.\n",
    "Controlled Access:\n",
    "\n",
    "Accessors provide a controlled interface for retrieving attribute values, ensuring that external code interacts with the object in a predefined manner.\n",
    "Mutators enforce controlled modification, allowing the class to define how attributes are updated and imposing any necessary constraints.\n",
    "Validation and Constraints:\n",
    "\n",
    "Mutators can include validation checks to ensure that the new values assigned to attributes meet certain criteria.\n",
    "This helps prevent invalid or inconsistent states in the object.\n",
    "Information Hiding:\n",
    "\n",
    "By providing access to attributes only through accessor methods, the internal details of the class are hidden from external code.\n",
    "Information hiding reduces the risk of unintended interference with the internal state.\n",
    "Flexibility for Future Changes:\n",
    "\n",
    "The use of accessors and mutators provides flexibility for making changes to the internal implementation of the class without affecting external code.\n",
    "If the implementation of how an attribute is stored or calculated changes, only the accessor and mutator methods need to be updated, maintaining compatibility with existing code.\n",
    "Consistent Naming Conventions:\n",
    "\n",
    "The use of standard naming conventions (e.g., \"get_\" and \"set_\") communicates to developers how to interact with the class and promotes a consistent coding style.\n",
    "In summary, accessors and mutators are key elements of encapsulation that provide controlled interfaces for accessing and modifying the attributes of a class. They help maintain control over attribute access, promote good coding practices, and contribute to the overall clarity and maintainability of the code.\n",
    "\n",
    "\n",
    "\n",
    "\n",
    "\n"
   ]
  },
  {
   "cell_type": "markdown",
   "id": "0b55248c-db8e-4aa3-891f-103665b4a362",
   "metadata": {},
   "source": [
    "16. What are the potential drawbacks or disadvantages of using encapsulation in Python?"
   ]
  },
  {
   "cell_type": "markdown",
   "id": "28299ca0-e185-4b3d-944d-c9b6b59a862a",
   "metadata": {},
   "source": [
    "While encapsulation is a fundamental principle of object-oriented programming that offers numerous benefits, there are also potential drawbacks or disadvantages to consider when using encapsulation in Python:\n",
    "\n",
    "Increased Code Complexity:\n",
    "\n",
    "Encapsulation often involves creating getter and setter methods, which can lead to more verbose code compared to direct attribute access.\n",
    "For simple classes, this additional structure might be seen as unnecessary and could increase the perceived complexity of the code.\n",
    "Overhead of Accessor and Mutator Methods:\n",
    "\n",
    "Using accessor and mutator methods adds a level of indirection, which can result in a performance overhead, especially in situations where attribute access needs to be frequent and performance-critical.\n",
    "In performance-sensitive applications, the overhead of method calls might be a concern.\n",
    "Less Readable Code for Simple Cases:\n",
    "\n",
    "In some simple cases, where attributes are straightforward and don't require validation or additional logic, using accessor and mutator methods might make the code less readable.\n",
    "Direct attribute access can be more concise and easier to understand in such cases.\n",
    "Potential for Boilerplate Code:\n",
    "\n",
    "Encapsulation can lead to the creation of boilerplate code, especially in cases where multiple attributes need to be accessed or modified.\n",
    "The need to create multiple getter and setter methods for each attribute can be seen as repetitive and may lead to larger code files.\n",
    "Limited Enforcement of Privacy:\n",
    "\n",
    "Python's encapsulation relies on conventions rather than strict enforcement. While attributes with a single leading underscore (_) are considered as protected, and those with a double leading underscore (__) undergo name mangling, these are conventions, not strict rules.\n",
    "Developers can still access and modify attributes with these conventions if needed, which might be considered a disadvantage if strict privacy is desired.\n",
    "Potential for Verbosity in Setter Validation:\n",
    "\n",
    "When setter methods include validation logic, the code for validation can become verbose, especially if there are multiple attributes with complex validation requirements.\n",
    "This verbosity may be seen as a drawback, particularly in cases where concise code is preferred.\n",
    "Increased Development Time:\n",
    "\n",
    "Encapsulation, especially when applied rigorously, might require more development time as it involves creating and maintaining additional methods for attribute access and modification.\n",
    "In situations where rapid development is a priority, this extra effort might be considered a disadvantage.\n",
    "It's essential to note that these potential drawbacks should be considered in the context of the specific needs and characteristics of the project. In many cases, the benefits of encapsulation, such as improved code organization, maintainability, and security, outweigh these drawbacks. Developers should strike a balance based on the specific requirements and goals of their projects.\n",
    "\n",
    "\n",
    "\n",
    "\n",
    "\n"
   ]
  },
  {
   "cell_type": "markdown",
   "id": "728c3f1f-4a42-4ccc-8376-35b170f4cf62",
   "metadata": {},
   "source": [
    "17. Create a Python class for a library system that encapsulates book information, including titles, authors,\n",
    "and availability status."
   ]
  },
  {
   "cell_type": "code",
   "execution_count": 10,
   "id": "36fb75b6-f721-4a1d-9857-bc059d36225a",
   "metadata": {},
   "outputs": [
    {
     "name": "stdout",
     "output_type": "stream",
     "text": [
      "Book 1: The Great Gatsby by F. Scott Fitzgerald, Available: True\n",
      "Book 2: To Kill a Mockingbird by Harper Lee, Available: False\n",
      "Updated Book 1: The Catcher in the Rye by J.D. Salinger, Available: True\n"
     ]
    }
   ],
   "source": [
    "class Book:\n",
    "    def __init__(self, title, author, is_available=True):\n",
    "        self.__title = title            # private attribute\n",
    "        self.__author = author          # private attribute\n",
    "        self.__is_available = is_available  # private attribute\n",
    "\n",
    "    # Getter method for book title\n",
    "    def get_title(self):\n",
    "        return self.__title\n",
    "\n",
    "    # Setter method for book title\n",
    "    def set_title(self, new_title):\n",
    "        if isinstance(new_title, str):\n",
    "            self.__title = new_title\n",
    "        else:\n",
    "            print(\"Invalid title. Please provide a string.\")\n",
    "\n",
    "    # Getter method for book author\n",
    "    def get_author(self):\n",
    "        return self.__author\n",
    "\n",
    "    # Setter method for book author\n",
    "    def set_author(self, new_author):\n",
    "        if isinstance(new_author, str):\n",
    "            self.__author = new_author\n",
    "        else:\n",
    "            print(\"Invalid author. Please provide a string.\")\n",
    "\n",
    "    # Getter method for book availability status\n",
    "    def is_available(self):\n",
    "        return self.__is_available\n",
    "\n",
    "    # Setter method for book availability status\n",
    "    def set_availability(self, new_status):\n",
    "        if isinstance(new_status, bool):\n",
    "            self.__is_available = new_status\n",
    "        else:\n",
    "            print(\"Invalid status. Please provide a boolean value.\")\n",
    "\n",
    "# Example usage\n",
    "book1 = Book(title=\"The Great Gatsby\", author=\"F. Scott Fitzgerald\")\n",
    "book2 = Book(title=\"To Kill a Mockingbird\", author=\"Harper Lee\", is_available=False)\n",
    "\n",
    "# Accessing book information using getter methods\n",
    "title1 = book1.get_title()\n",
    "author1 = book1.get_author()\n",
    "availability1 = book1.is_available()\n",
    "\n",
    "title2 = book2.get_title()\n",
    "author2 = book2.get_author()\n",
    "availability2 = book2.is_available()\n",
    "\n",
    "print(f\"Book 1: {title1} by {author1}, Available: {availability1}\")\n",
    "print(f\"Book 2: {title2} by {author2}, Available: {availability2}\")\n",
    "\n",
    "# Modifying book information using setter methods\n",
    "book1.set_title(\"The Catcher in the Rye\")\n",
    "book1.set_author(\"J.D. Salinger\")\n",
    "book1.set_availability(True)\n",
    "\n",
    "# Accessing updated book information\n",
    "updated_title1 = book1.get_title()\n",
    "updated_author1 = book1.get_author()\n",
    "updated_availability1 = book1.is_available()\n",
    "\n",
    "print(f\"Updated Book 1: {updated_title1} by {updated_author1}, Available: {updated_availability1}\")\n"
   ]
  },
  {
   "cell_type": "markdown",
   "id": "9da2f3db-641f-4921-9d28-b1f22ea714dd",
   "metadata": {},
   "source": [
    "18. Explain how encapsulation enhances code reusability and modularity in Python programs."
   ]
  },
  {
   "cell_type": "markdown",
   "id": "241ae8cb-94f9-489b-bfd1-138ecc4aa2c0",
   "metadata": {},
   "source": [
    "Encapsulation enhances code reusability and modularity in Python programs by promoting a clear separation between the internal implementation of a class and its external interface. This separation allows developers to use and extend classes without being concerned about the underlying details, resulting in more reusable and modular code. Here's how encapsulation achieves these benefits:\n",
    "\n",
    "1. Hide Implementation Details:\n",
    "Encapsulation Principle: Encapsulation involves hiding the internal details of a class, such as the implementation of attributes and methods, from external code.\n",
    "Advantage: By hiding the implementation details, developers are shielded from the complexity of how a class achieves its functionality. They only need to interact with the public interface of the class.\n",
    "2. Controlled Access to Attributes:\n",
    "Encapsulation Principle: Access to attributes is controlled through getter and setter methods, allowing the class to define how data is retrieved and modified.\n",
    "Advantage: This controlled access ensures that attributes are accessed and modified in a predictable and validated manner, reducing the risk of unintended side effects.\n",
    "3. Promote Code Reusability:\n",
    "Encapsulation Principle: A well-encapsulated class provides a clean and well-defined interface that can be reused in various parts of a program or in different projects.\n",
    "Advantage: Developers can reuse classes without needing to understand their internal details, leading to more efficient and modular code reuse. The class becomes a building block that can be easily integrated into different contexts.\n",
    "4. Ease of Maintenance:\n",
    "Encapsulation Principle: Changes to the internal implementation of a class can be made without affecting external code that relies on the class.\n",
    "Advantage: This modularity makes code maintenance easier. Updates or improvements to the internal logic can be performed without altering the external interface, reducing the risk of introducing bugs in other parts of the code.\n",
    "5. Enhance Modularity:\n",
    "Encapsulation Principle: Encapsulated classes are modular components that can be independently developed, tested, and maintained.\n",
    "Advantage: Modular code is easier to understand, manage, and extend. Encapsulation supports the creation of cohesive and loosely coupled modules, where changes to one module have minimal impact on others.\n",
    "6. Improve Code Organization:\n",
    "Encapsulation Principle: Encapsulation encourages the use of well-defined interfaces (getter and setter methods) for interacting with objects.\n",
    "Advantage: This clear separation between the external and internal aspects of a class improves code organization. Developers can quickly understand how to use a class without delving into its implementation details.\n",
    "7. Encourage Collaboration:\n",
    "Encapsulation Principle: Encapsulated classes provide a standardized and documented interface, making it easier for multiple developers to collaborate on a project.\n",
    "Advantage: Developers can work on different components of a program without stepping on each other's toes. Each developer can focus on the specific encapsulated components they are responsible for.\n",
    "In summary, encapsulation in Python enhances code reusability and modularity by providing a well-defined and controlled interface for interacting with classes. This separation of concerns allows developers to use, extend, and maintain code more effectively, contributing to the overall robustness and scalability of software projects.\n",
    "\n",
    "\n",
    "\n",
    "\n",
    "\n"
   ]
  },
  {
   "cell_type": "markdown",
   "id": "91e8e42e-7694-41f1-88ef-b3ca346c77bd",
   "metadata": {},
   "source": [
    "19. Describe the concept of information hiding in encapsulation. Why is it essential in software development?"
   ]
  },
  {
   "cell_type": "markdown",
   "id": "16ccb505-f17a-4ca7-9c29-95fb013d935c",
   "metadata": {},
   "source": [
    "Information hiding is a fundamental concept in software development and encapsulation. It involves restricting the visibility of certain details within a program or a class, allowing developers to conceal the internal implementation and data structures from the outside world. The main goal of information hiding is to reduce complexity, enhance security, and provide a well-defined and controlled interface for interacting with components.\n",
    "\n",
    "Key Aspects of Information Hiding in Encapsulation:\n",
    "Private Implementation Details:\n",
    "\n",
    "Information hiding involves making the internal implementation details of a class, such as its attributes and methods, private or protected.\n",
    "This restricts direct access to these details from outside the class, shielding them from external interference.\n",
    "Controlled Access:\n",
    "\n",
    "Controlled access is achieved by providing well-defined interfaces (getter and setter methods) for interacting with the encapsulated components.\n",
    "External code interacts with objects through these controlled interfaces, and the implementation details remain hidden.\n",
    "Data Abstraction:\n",
    "\n",
    "Information hiding is closely related to the concept of data abstraction, where the essential characteristics of an object are emphasized, and irrelevant details are hidden.\n",
    "It allows developers to focus on what an object does rather than how it achieves its functionality.\n",
    "Importance of Information Hiding in Software Development:\n",
    "Reduced Complexity:\n",
    "\n",
    "Information hiding simplifies the understanding of a system by hiding the internal complexities. Developers can work with high-level interfaces without being burdened by the intricacies of the implementation.\n",
    "Enhanced Security:\n",
    "\n",
    "By hiding internal details, sensitive information and critical algorithms are protected from unauthorized access or modification.\n",
    "Access is granted only through controlled interfaces, reducing the risk of security vulnerabilities.\n",
    "Improved Maintainability:\n",
    "\n",
    "Information hiding supports modular development, allowing components to be developed, tested, and maintained independently.\n",
    "Changes to the internal implementation of a class can be made without affecting external code, making maintenance more straightforward.\n",
    "Facilitates Code Evolution:\n",
    "\n",
    "As software evolves, the internal implementation may change. Information hiding ensures that external code relying on the class's public interface remains unaffected by such changes.\n",
    "This facilitates code evolution and adaptation to new requirements.\n",
    "Encourages Collaboration:\n",
    "\n",
    "Information hiding enables multiple developers to collaborate on a project without needing to understand the entire codebase.\n",
    "Each developer can work on encapsulated components, and as long as the public interfaces remain consistent, collaboration is more manageable.\n",
    "Promotes Code Reusability:\n",
    "\n",
    "Components with well-defined interfaces are more easily reused in different contexts. External code can reuse encapsulated classes without concern for internal details.\n",
    "This promotes code reusability, which is a key factor in reducing development time and effort.\n",
    "Maintains a Stable Interface:\n",
    "\n",
    "The external interface of a class, which includes public methods and attributes, becomes a stable contract between the class and external code.\n",
    "This stability allows developers to build upon existing components with confidence that the interface won't change unexpectedly.\n",
    "In summary, information hiding is essential in software development because it contributes to the overall quality of the code by reducing complexity, enhancing security, and providing a stable and well-defined interface for interaction. It supports modular and collaborative development, making it easier to build, maintain, and evolve software systems."
   ]
  },
  {
   "cell_type": "markdown",
   "id": "9332f3a1-bd49-4dfd-b631-be856ceba075",
   "metadata": {},
   "source": [
    "20. Create a Python class called `Customer` with private attributes for customer details like name, address,\n",
    "and contact information. Implement encapsulation to ensure data integrity and security."
   ]
  },
  {
   "cell_type": "code",
   "execution_count": 11,
   "id": "ab527a03-7025-4ea9-b19f-b64f9766b636",
   "metadata": {},
   "outputs": [
    {
     "name": "stdout",
     "output_type": "stream",
     "text": [
      "Customer Name: John Doe\n",
      "Customer Address: 123 Main St\n",
      "Customer Contact Info: john.doe@email.com\n",
      "Updated Customer Name: Jane Doe\n",
      "Updated Customer Address: 456 Oak St\n",
      "Updated Customer Contact Info: jane.doe@email.com\n"
     ]
    }
   ],
   "source": [
    "class Customer:\n",
    "    def __init__(self, name, address, contact_info):\n",
    "        self.__name = name                  # private attribute\n",
    "        self.__address = address            # private attribute\n",
    "        self.__contact_info = contact_info  # private attribute\n",
    "\n",
    "    # Getter method for customer name\n",
    "    def get_name(self):\n",
    "        return self.__name\n",
    "\n",
    "    # Setter method for customer name\n",
    "    def set_name(self, new_name):\n",
    "        if isinstance(new_name, str):\n",
    "            self.__name = new_name\n",
    "        else:\n",
    "            print(\"Invalid name. Please provide a string.\")\n",
    "\n",
    "    # Getter method for customer address\n",
    "    def get_address(self):\n",
    "        return self.__address\n",
    "\n",
    "    # Setter method for customer address\n",
    "    def set_address(self, new_address):\n",
    "        if isinstance(new_address, str):\n",
    "            self.__address = new_address\n",
    "        else:\n",
    "            print(\"Invalid address. Please provide a string.\")\n",
    "\n",
    "    # Getter method for customer contact information\n",
    "    def get_contact_info(self):\n",
    "        return self.__contact_info\n",
    "\n",
    "    # Setter method for customer contact information\n",
    "    def set_contact_info(self, new_contact_info):\n",
    "        if isinstance(new_contact_info, str):\n",
    "            self.__contact_info = new_contact_info\n",
    "        else:\n",
    "            print(\"Invalid contact information. Please provide a string.\")\n",
    "\n",
    "# Example usage\n",
    "customer = Customer(name=\"John Doe\", address=\"123 Main St\", contact_info=\"john.doe@email.com\")\n",
    "\n",
    "# Accessing customer information using getter methods\n",
    "customer_name = customer.get_name()\n",
    "customer_address = customer.get_address()\n",
    "customer_contact_info = customer.get_contact_info()\n",
    "\n",
    "print(f\"Customer Name: {customer_name}\")\n",
    "print(f\"Customer Address: {customer_address}\")\n",
    "print(f\"Customer Contact Info: {customer_contact_info}\")\n",
    "\n",
    "# Modifying customer information using setter methods\n",
    "customer.set_name(\"Jane Doe\")\n",
    "customer.set_address(\"456 Oak St\")\n",
    "customer.set_contact_info(\"jane.doe@email.com\")\n",
    "\n",
    "# Accessing updated customer information\n",
    "updated_name = customer.get_name()\n",
    "updated_address = customer.get_address()\n",
    "updated_contact_info = customer.get_contact_info()\n",
    "\n",
    "print(f\"Updated Customer Name: {updated_name}\")\n",
    "print(f\"Updated Customer Address: {updated_address}\")\n",
    "print(f\"Updated Customer Contact Info: {updated_contact_info}\")\n"
   ]
  },
  {
   "cell_type": "markdown",
   "id": "84af90e8-a3f7-40e7-88f3-68656566b7e1",
   "metadata": {},
   "source": [
    "POLYMORPHISM"
   ]
  },
  {
   "cell_type": "markdown",
   "id": "3c85a9f0-a75d-4780-a436-1293197ada6b",
   "metadata": {},
   "source": [
    "1. What is polymorphism in Python? Explain how it is related to object-oriented programming."
   ]
  },
  {
   "cell_type": "markdown",
   "id": "d3d7b123-5f2c-4db5-9f12-a7f6c563a312",
   "metadata": {},
   "source": [
    "Polymorphism is a fundamental concept in object-oriented programming (OOP) that allows objects of different types to be treated as objects of a common type. The word \"polymorphism\" comes from Greek, where \"poly\" means many and \"morph\" means forms. In Python, polymorphism can be achieved through two main mechanisms: method overloading and method overriding.\n",
    "\n",
    "Method Overloading:\n",
    "\n",
    "Not natively supported: Unlike some other programming languages like Java or C++, Python does not support method overloading in the traditional sense. Method overloading refers to the ability to define multiple methods with the same name but with different parameter lists.\n",
    "Emulated using default values: In Python, you can achieve a form of method overloading by defining a single method with default parameter values. This way, the method can be called with different numbers or types of arguments."
   ]
  },
  {
   "cell_type": "code",
   "execution_count": 1,
   "id": "131d71c9-7336-4b10-8152-15793b3c5dfb",
   "metadata": {},
   "outputs": [],
   "source": [
    "class Example:\n",
    "    def add(self, a, b=0, c=0):\n",
    "        return a + b + c\n",
    "\n",
    "obj = Example()\n",
    "result1 = obj.add(1)\n",
    "result2 = obj.add(1, 2)\n",
    "result3 = obj.add(1, 2, 3)\n"
   ]
  },
  {
   "cell_type": "markdown",
   "id": "0a64a07a-1929-4173-9cd3-66470734d8a1",
   "metadata": {},
   "source": [
    "Method Overriding:\n",
    "\n",
    "Supported in Python: Method overriding allows a subclass to provide a specific implementation of a method that is already defined in its superclass. This enables a more specialized behavior for the subclass.\n",
    "Uses the same method signature: The overridden method in the subclass must have the same name, return type, and parameters as the method in the superclass."
   ]
  },
  {
   "cell_type": "code",
   "execution_count": 2,
   "id": "a085488e-4934-4994-8410-cb3702ff8a7f",
   "metadata": {},
   "outputs": [
    {
     "name": "stdout",
     "output_type": "stream",
     "text": [
      "Woof!\n",
      "Meow!\n"
     ]
    }
   ],
   "source": [
    "class Animal:\n",
    "    def speak(self):\n",
    "        pass\n",
    "\n",
    "class Dog(Animal):\n",
    "    def speak(self):\n",
    "        return \"Woof!\"\n",
    "\n",
    "class Cat(Animal):\n",
    "    def speak(self):\n",
    "        return \"Meow!\"\n",
    "\n",
    "def animal_sound(animal):\n",
    "    return animal.speak()\n",
    "\n",
    "dog = Dog()\n",
    "cat = Cat()\n",
    "\n",
    "print(animal_sound(dog))  # Output: Woof!\n",
    "print(animal_sound(cat))  # Output: Meow!\n"
   ]
  },
  {
   "cell_type": "markdown",
   "id": "1c7f03c1-40ca-438b-ad79-99193b7e2863",
   "metadata": {},
   "source": [
    "Polymorphism allows for more flexible and modular code by enabling the use of common interfaces while accommodating different implementations. This enhances code reusability and makes it easier to extend and maintain software systems."
   ]
  },
  {
   "cell_type": "markdown",
   "id": "2bea9354-2c42-4ca0-8277-e19a9bd850e9",
   "metadata": {},
   "source": [
    "2. Describe the difference between compile-time polymorphism and runtime polymorphism in Python."
   ]
  },
  {
   "cell_type": "markdown",
   "id": "521c2963-85d4-4f59-9914-04ce1fb88182",
   "metadata": {},
   "source": [
    "In Python, polymorphism can be categorized into two main types: compile-time polymorphism (also known as static polymorphism) and runtime polymorphism (also known as dynamic polymorphism). These terms refer to the timing of method resolution and binding in the context of method calls.\n",
    "\n",
    "Compile-time Polymorphism (Static Polymorphism):\n",
    "\n",
    "Also known as method overloading or early binding: Compile-time polymorphism involves method resolution and binding during the compile phase of the program.\n",
    "Determined at compile time: The decision about which method to call is made by the compiler based on the number and types of arguments passed to the method.\n",
    "Examples: In Python, compile-time polymorphism can be emulated using default parameter values or variable-length argument lists."
   ]
  },
  {
   "cell_type": "code",
   "execution_count": 3,
   "id": "54b3b146-2ba9-49cb-8fbe-a17344350e0c",
   "metadata": {},
   "outputs": [],
   "source": [
    "class Example:\n",
    "    def add(self, a, b=0, c=0):\n",
    "        return a + b + c\n",
    "\n",
    "obj = Example()\n",
    "result1 = obj.add(1)\n",
    "result2 = obj.add(1, 2)\n",
    "result3 = obj.add(1, 2, 3)\n"
   ]
  },
  {
   "cell_type": "markdown",
   "id": "3f8ab4fa-3e18-4cf2-8f92-26a308c69c61",
   "metadata": {},
   "source": [
    "Runtime Polymorphism (Dynamic Polymorphism):\n",
    "\n",
    "Also known as method overriding or late binding: Runtime polymorphism involves method resolution and binding during the runtime or execution phase of the program.\n",
    "Determined at runtime: The decision about which method to call is made at runtime based on the actual type of the object."
   ]
  },
  {
   "cell_type": "code",
   "execution_count": 4,
   "id": "7ba0a3a4-2afe-4e64-a1b1-f778e8e287c7",
   "metadata": {},
   "outputs": [
    {
     "name": "stdout",
     "output_type": "stream",
     "text": [
      "Woof!\n",
      "Meow!\n"
     ]
    }
   ],
   "source": [
    "class Animal:\n",
    "    def speak(self):\n",
    "        pass\n",
    "\n",
    "class Dog(Animal):\n",
    "    def speak(self):\n",
    "        return \"Woof!\"\n",
    "\n",
    "class Cat(Animal):\n",
    "    def speak(self):\n",
    "        return \"Meow!\"\n",
    "\n",
    "def animal_sound(animal):\n",
    "    return animal.speak()\n",
    "\n",
    "dog = Dog()\n",
    "cat = Cat()\n",
    "\n",
    "print(animal_sound(dog))  # Output: Woof!\n",
    "print(animal_sound(cat))  # Output: Meow!\n"
   ]
  },
  {
   "cell_type": "markdown",
   "id": "b6815085-2ac7-4cc6-8035-2e7427bf3aa8",
   "metadata": {},
   "source": [
    "In summary, compile-time polymorphism involves method resolution at compile time, while runtime polymorphism involves method resolution at runtime. Method overloading is an example of compile-time polymorphism, and method overriding in inheritance is an example of runtime polymorphism. Python, being a dynamically-typed language, typically favors runtime polymorphism."
   ]
  },
  {
   "cell_type": "markdown",
   "id": "368e301a-15ca-47bc-87e0-77b0a1673050",
   "metadata": {},
   "source": [
    "3. Create a Python class hierarchy for shapes (e.g., circle, square, triangle) and demonstrate polymorphism\n",
    "through a common method, such as `calculate_area()`."
   ]
  },
  {
   "cell_type": "code",
   "execution_count": 5,
   "id": "f373dab1-326c-4082-8c40-fe5aa83c3991",
   "metadata": {},
   "outputs": [
    {
     "name": "stdout",
     "output_type": "stream",
     "text": [
      "The area is: 78.53981633974483\n",
      "The area is: 16\n",
      "The area is: 9.0\n"
     ]
    }
   ],
   "source": [
    "import math\n",
    "\n",
    "class Shape:\n",
    "    def calculate_area(self):\n",
    "        pass\n",
    "\n",
    "class Circle(Shape):\n",
    "    def __init__(self, radius):\n",
    "        self.radius = radius\n",
    "\n",
    "    def calculate_area(self):\n",
    "        return math.pi * self.radius**2\n",
    "\n",
    "class Square(Shape):\n",
    "    def __init__(self, side_length):\n",
    "        self.side_length = side_length\n",
    "\n",
    "    def calculate_area(self):\n",
    "        return self.side_length**2\n",
    "\n",
    "class Triangle(Shape):\n",
    "    def __init__(self, base, height):\n",
    "        self.base = base\n",
    "        self.height = height\n",
    "\n",
    "    def calculate_area(self):\n",
    "        return 0.5 * self.base * self.height\n",
    "\n",
    "# Polymorphic function\n",
    "def print_area(shape):\n",
    "    print(f\"The area is: {shape.calculate_area()}\")\n",
    "\n",
    "# Creating instances of different shapes\n",
    "circle = Circle(radius=5)\n",
    "square = Square(side_length=4)\n",
    "triangle = Triangle(base=6, height=3)\n",
    "\n",
    "# Demonstrate polymorphism\n",
    "print_area(circle)    # Output: The area is: 78.53981633974483\n",
    "print_area(square)    # Output: The area is: 16\n",
    "print_area(triangle)  # Output: The area is: 9.0\n"
   ]
  },
  {
   "cell_type": "markdown",
   "id": "3911aa52-cbcc-447b-9285-283565c20b43",
   "metadata": {},
   "source": [
    "4. Explain the concept of method overriding in polymorphism. Provide an example."
   ]
  },
  {
   "cell_type": "markdown",
   "id": "fb1b6755-e143-490c-99c7-4174c6a2c40c",
   "metadata": {},
   "source": [
    "Method overriding is a concept in object-oriented programming (OOP) that allows a subclass to provide a specific implementation for a method that is already defined in its superclass. The overridden method in the subclass must have the same method signature, including the method name, return type, and parameters, as the method in the superclass. When an object of the subclass is used, the overridden method in the subclass is called instead of the method in the superclass."
   ]
  },
  {
   "cell_type": "code",
   "execution_count": 6,
   "id": "cd8dc2f8-3497-4386-b73c-5fc91c7fbbcf",
   "metadata": {},
   "outputs": [
    {
     "name": "stdout",
     "output_type": "stream",
     "text": [
      "Woof!\n",
      "Meow!\n"
     ]
    }
   ],
   "source": [
    "class Animal:\n",
    "    def speak(self):\n",
    "        return \"Generic animal sound\"\n",
    "\n",
    "class Dog(Animal):\n",
    "    # Override the speak method in the superclass\n",
    "    def speak(self):\n",
    "        return \"Woof!\"\n",
    "\n",
    "class Cat(Animal):\n",
    "    # Override the speak method in the superclass\n",
    "    def speak(self):\n",
    "        return \"Meow!\"\n",
    "\n",
    "# Create instances of the subclasses\n",
    "dog = Dog()\n",
    "cat = Cat()\n",
    "\n",
    "# Demonstrate method overriding\n",
    "print(dog.speak())  # Output: Woof!\n",
    "print(cat.speak())  # Output: Meow!\n"
   ]
  },
  {
   "cell_type": "markdown",
   "id": "c796878a-81a5-4b19-a9b8-5faf6e97c1c6",
   "metadata": {},
   "source": [
    "Method overriding is a powerful mechanism that allows you to provide specialized behavior in subclasses while maintaining a common interface in the superclass. It enhances code flexibility, extensibility, and promotes the reuse of code in an object-oriented design."
   ]
  },
  {
   "cell_type": "markdown",
   "id": "6c98672a-eead-4f2d-9d89-4773d22da025",
   "metadata": {},
   "source": [
    "5. How is polymorphism different from method overloading in Python? Provide examples for both."
   ]
  },
  {
   "cell_type": "markdown",
   "id": "94030303-275c-48a9-894a-546ed69fa6d4",
   "metadata": {},
   "source": [
    "Polymorphism and method overloading are related concepts in object-oriented programming, but they differ in their implementations and the timing of method resolution. Let's explore each concept with examples in Python:\n",
    "\n",
    "Polymorphism:\n",
    "Polymorphism refers to the ability of objects of different types to be treated as objects of a common type. In Python, polymorphism is typically achieved through method overriding, where a subclass provides a specific implementation for a method that is already defined in its superclass."
   ]
  },
  {
   "cell_type": "code",
   "execution_count": 7,
   "id": "a32e4ae1-43b4-4716-aa97-a240f0f815b9",
   "metadata": {},
   "outputs": [
    {
     "name": "stdout",
     "output_type": "stream",
     "text": [
      "Woof!\n",
      "Meow!\n"
     ]
    }
   ],
   "source": [
    "class Animal:\n",
    "    def make_sound(self):\n",
    "        return \"Generic animal sound\"\n",
    "\n",
    "class Dog(Animal):\n",
    "    def make_sound(self):\n",
    "        return \"Woof!\"\n",
    "\n",
    "class Cat(Animal):\n",
    "    def make_sound(self):\n",
    "        return \"Meow!\"\n",
    "\n",
    "def animal_sound(animal):\n",
    "    return animal.make_sound()\n",
    "\n",
    "dog = Dog()\n",
    "cat = Cat()\n",
    "\n",
    "print(animal_sound(dog))  # Output: Woof!\n",
    "print(animal_sound(cat))  # Output: Meow!\n"
   ]
  },
  {
   "cell_type": "markdown",
   "id": "0f2e7967-1667-4a86-9d76-2b9384be2988",
   "metadata": {},
   "source": [
    "Method Overloading:\n",
    "Method overloading involves defining multiple methods with the same name in the same class but with different parameter lists. However, in Python, true method overloading (as seen in languages like Java or C++) is not natively supported. Instead, you can achieve a form of method overloading by using default parameter values or variable-length argument lists."
   ]
  },
  {
   "cell_type": "code",
   "execution_count": 8,
   "id": "70332d88-3df1-4d24-9152-db0fd32b902c",
   "metadata": {},
   "outputs": [
    {
     "name": "stdout",
     "output_type": "stream",
     "text": [
      "1\n",
      "3\n",
      "6\n"
     ]
    }
   ],
   "source": [
    "class MathOperations:\n",
    "    def add(self, a, b=0, c=0):\n",
    "        return a + b + c\n",
    "\n",
    "math_obj = MathOperations()\n",
    "\n",
    "result1 = math_obj.add(1)\n",
    "result2 = math_obj.add(1, 2)\n",
    "result3 = math_obj.add(1, 2, 3)\n",
    "\n",
    "print(result1)  # Output: 1\n",
    "print(result2)  # Output: 3\n",
    "print(result3)  # Output: 6\n"
   ]
  },
  {
   "cell_type": "markdown",
   "id": "eb5d6e94-a750-4f66-bc7d-36f377e13c26",
   "metadata": {},
   "source": [
    "Key Differences:\n",
    "Timing of Resolution:\n",
    "\n",
    "Polymorphism: Resolved at runtime (dynamic binding).\n",
    "Method Overloading (emulated in Python): Resolved at compile time.\n",
    "Implementation:\n",
    "\n",
    "Polymorphism: Achieved through method overriding, where a subclass provides a specific implementation for a method in the superclass.\n",
    "Method Overloading (emulated in Python): Achieved by defining multiple methods with the same name but different parameter lists.\n",
    "In summary, polymorphism involves providing a common interface for different types, while method overloading (emulated in Python) involves defining multiple methods with the same name but different parameters in the same class."
   ]
  },
  {
   "cell_type": "markdown",
   "id": "5e135abe-bbb1-42e5-ad97-d2f906d7990c",
   "metadata": {},
   "source": [
    "6. Create a Python class called `Animal` with a method `speak()`. Then, create child classes like `Dog`, `Cat`, and `Bird`, each with their own `speak()` method. Demonstrate polymorphism by calling the `speak()` method\n",
    "on objects of different subclasses."
   ]
  },
  {
   "cell_type": "code",
   "execution_count": 9,
   "id": "5e956268-0723-4ebb-8b33-9e82fb12308c",
   "metadata": {},
   "outputs": [
    {
     "name": "stdout",
     "output_type": "stream",
     "text": [
      "Woof!\n",
      "Meow!\n",
      "Tweet!\n"
     ]
    }
   ],
   "source": [
    "class Animal:\n",
    "    def speak(self):\n",
    "        return \"Generic animal sound\"\n",
    "\n",
    "class Dog(Animal):\n",
    "    def speak(self):\n",
    "        return \"Woof!\"\n",
    "\n",
    "class Cat(Animal):\n",
    "    def speak(self):\n",
    "        return \"Meow!\"\n",
    "\n",
    "class Bird(Animal):\n",
    "    def speak(self):\n",
    "        return \"Tweet!\"\n",
    "\n",
    "# Demonstrate polymorphism\n",
    "def animal_sound(animal):\n",
    "    return animal.speak()\n",
    "\n",
    "# Create instances of different subclasses\n",
    "dog = Dog()\n",
    "cat = Cat()\n",
    "bird = Bird()\n",
    "\n",
    "# Call the speak() method on objects of different subclasses\n",
    "print(animal_sound(dog))   # Output: Woof!\n",
    "print(animal_sound(cat))   # Output: Meow!\n",
    "print(animal_sound(bird))  # Output: Tweet!\n"
   ]
  },
  {
   "cell_type": "markdown",
   "id": "c80dce63-2331-4a18-a48b-c2068b801372",
   "metadata": {},
   "source": [
    "7. Discuss the use of abstract methods and classes in achieving polymorphism in Python. Provide an example\n",
    "using the `abc` module."
   ]
  },
  {
   "cell_type": "markdown",
   "id": "516d0597-1941-46cb-8882-48439101393d",
   "metadata": {},
   "source": [
    "Abstract classes and abstract methods play a crucial role in achieving polymorphism by providing a common interface for a group of related classes. In Python, the abc (Abstract Base Classes) module is used to define abstract classes and abstract methods. Let's delve into how abstract classes and methods contribute to polymorphism, and provide an example using the abc module:"
   ]
  },
  {
   "cell_type": "markdown",
   "id": "e8069915-d49a-42e2-b66b-1768b8a7debd",
   "metadata": {},
   "source": [
    "Abstract Classes and Methods:\n",
    "Abstract Class: An abstract class is a class that cannot be instantiated. It often serves as a blueprint for other classes. Abstract classes can contain both regular methods with implementations and abstract methods without implementations.\n",
    "\n",
    "Abstract Method: An abstract method is a method declared in an abstract class but without any implementation. Subclasses must provide concrete implementations for all abstract methods, ensuring a consistent interface."
   ]
  },
  {
   "cell_type": "code",
   "execution_count": 10,
   "id": "3edc8c74-4529-4600-9600-b6b580611163",
   "metadata": {},
   "outputs": [
    {
     "name": "stdout",
     "output_type": "stream",
     "text": [
      "The area is: 78.5\n",
      "The area is: 16\n",
      "The area is: 9.0\n"
     ]
    }
   ],
   "source": [
    "from abc import ABC, abstractmethod\n",
    "\n",
    "# Abstract class with an abstract method\n",
    "class Shape(ABC):\n",
    "    @abstractmethod\n",
    "    def calculate_area(self):\n",
    "        pass\n",
    "\n",
    "# Concrete subclass implementing the abstract class\n",
    "class Circle(Shape):\n",
    "    def __init__(self, radius):\n",
    "        self.radius = radius\n",
    "\n",
    "    def calculate_area(self):\n",
    "        return 3.14 * self.radius**2\n",
    "\n",
    "# Concrete subclass implementing the abstract class\n",
    "class Square(Shape):\n",
    "    def __init__(self, side_length):\n",
    "        self.side_length = side_length\n",
    "\n",
    "    def calculate_area(self):\n",
    "        return self.side_length**2\n",
    "\n",
    "# Concrete subclass implementing the abstract class\n",
    "class Triangle(Shape):\n",
    "    def __init__(self, base, height):\n",
    "        self.base = base\n",
    "        self.height = height\n",
    "\n",
    "    def calculate_area(self):\n",
    "        return 0.5 * self.base * self.height\n",
    "\n",
    "# Polymorphic function using the abstract class\n",
    "def print_area(shape):\n",
    "    print(f\"The area is: {shape.calculate_area()}\")\n",
    "\n",
    "# Create instances of different concrete implementations\n",
    "circle = Circle(radius=5)\n",
    "square = Square(side_length=4)\n",
    "triangle = Triangle(base=6, height=3)\n",
    "\n",
    "# Demonstrate polymorphism using the abstract class\n",
    "print_area(circle)    # Output: The area is: 78.5\n",
    "print_area(square)    # Output: The area is: 16\n",
    "print_area(triangle)  # Output: The area is: 9.0\n"
   ]
  },
  {
   "cell_type": "markdown",
   "id": "dbc317cc-316e-4b5b-b005-d59d1d0c15ee",
   "metadata": {},
   "source": [
    "8. Create a Python class hierarchy for a vehicle system (e.g., car, bicycle, boat) and implement a polymorphic `start()` method that prints a message specific to each vehicle type."
   ]
  },
  {
   "cell_type": "code",
   "execution_count": 11,
   "id": "6f05991b-6dfd-47b6-ab8d-3801245d7346",
   "metadata": {},
   "outputs": [
    {
     "name": "stdout",
     "output_type": "stream",
     "text": [
      "Car started. Vroom!\n",
      "Bicycle started. Pedal, pedal!\n",
      "Boat started. Row, row, row!\n"
     ]
    }
   ],
   "source": [
    "class Vehicle:\n",
    "    def start(self):\n",
    "        pass\n",
    "\n",
    "class Car(Vehicle):\n",
    "    def start(self):\n",
    "        return \"Car started. Vroom!\"\n",
    "\n",
    "class Bicycle(Vehicle):\n",
    "    def start(self):\n",
    "        return \"Bicycle started. Pedal, pedal!\"\n",
    "\n",
    "class Boat(Vehicle):\n",
    "    def start(self):\n",
    "        return \"Boat started. Row, row, row!\"\n",
    "\n",
    "# Polymorphic function using the base class\n",
    "def start_vehicle(vehicle):\n",
    "    print(vehicle.start())\n",
    "\n",
    "# Create instances of different vehicle types\n",
    "car = Car()\n",
    "bicycle = Bicycle()\n",
    "boat = Boat()\n",
    "\n",
    "# Demonstrate polymorphism using the polymorphic start() method\n",
    "start_vehicle(car)      # Output: Car started. Vroom!\n",
    "start_vehicle(bicycle)  # Output: Bicycle started. Pedal, pedal!\n",
    "start_vehicle(boat)     # Output: Boat started. Row, row, row!\n"
   ]
  },
  {
   "cell_type": "markdown",
   "id": "851a6a44-d19c-459e-9b02-e33db44d97e2",
   "metadata": {},
   "source": [
    "9. Explain the significance of the `isinstance()` and `issubclass()` functions in Python polymorphism."
   ]
  },
  {
   "cell_type": "markdown",
   "id": "1b558233-37a8-447d-8fdd-4315c841b344",
   "metadata": {},
   "source": [
    "In Python, the isinstance() and issubclass() functions are important tools when working with polymorphism. They help check the type and class relationships between objects, which is crucial in scenarios where polymorphism is employed. Let's explore the significance of these functions in the context of polymorphism:\n",
    "\n",
    "isinstance()\n",
    "The isinstance() function is used to check if an object is an instance of a particular class or a tuple of classes. This is significant in polymorphism because it allows you to determine the type of an object dynamically and make decisions based on that type."
   ]
  },
  {
   "cell_type": "code",
   "execution_count": 12,
   "id": "25d60519-0343-4616-b8f1-5c61fd555a8a",
   "metadata": {},
   "outputs": [
    {
     "name": "stdout",
     "output_type": "stream",
     "text": [
      "True\n",
      "True\n",
      "True\n",
      "True\n"
     ]
    }
   ],
   "source": [
    "class Animal:\n",
    "    pass\n",
    "\n",
    "class Dog(Animal):\n",
    "    pass\n",
    "\n",
    "class Cat(Animal):\n",
    "    pass\n",
    "\n",
    "dog_instance = Dog()\n",
    "cat_instance = Cat()\n",
    "\n",
    "print(isinstance(dog_instance, Dog))  # Output: True\n",
    "print(isinstance(cat_instance, Cat))  # Output: True\n",
    "print(isinstance(dog_instance, Animal))  # Output: True\n",
    "print(isinstance(cat_instance, Animal))  # Output: True\n"
   ]
  },
  {
   "cell_type": "markdown",
   "id": "0af3c3ff-c092-4b3e-bae0-bb63d6aa42d9",
   "metadata": {},
   "source": [
    "issubclass()\n",
    "The issubclass() function is used to check if a class is a subclass of another class. This is particularly useful in scenarios where you want to verify the class hierarchy, which is common in polymorphism when dealing with inheritance and method overriding."
   ]
  },
  {
   "cell_type": "code",
   "execution_count": 13,
   "id": "fb36efa7-ee19-4420-b8db-dce6dd8d5b29",
   "metadata": {},
   "outputs": [
    {
     "name": "stdout",
     "output_type": "stream",
     "text": [
      "True\n",
      "True\n"
     ]
    }
   ],
   "source": [
    "class Animal:\n",
    "    pass\n",
    "\n",
    "class Dog(Animal):\n",
    "    pass\n",
    "\n",
    "class Cat(Animal):\n",
    "    pass\n",
    "\n",
    "print(issubclass(Dog, Animal))  # Output: True\n",
    "print(issubclass(Cat, Animal))  # Output: True\n"
   ]
  },
  {
   "cell_type": "markdown",
   "id": "00a84f96-9db9-403b-8e31-4a0cef25b851",
   "metadata": {},
   "source": [
    "Significance in Polymorphism:\n",
    "Dynamic Type Checking: isinstance() allows for dynamic type checking, which is essential when dealing with polymorphic behavior. It allows you to write code that can adapt to different object types at runtime.\n",
    "\n",
    "Class Hierarchy Verification: issubclass() helps in verifying class hierarchies, ensuring that subclasses adhere to the expected relationships. This is crucial in polymorphism, especially when dealing with method overriding in inheritance.\n",
    "\n",
    "In summary, isinstance() and issubclass() are important functions in the context of polymorphism as they provide dynamic type checking and help verify class hierarchies, allowing for flexible and robust code design."
   ]
  },
  {
   "cell_type": "markdown",
   "id": "2d29d9df-2608-4c67-ac08-b679dde7939b",
   "metadata": {},
   "source": [
    "10. What is the role of the `@abstractmethod` decorator in achieving polymorphism in Python? Provide an\n",
    "example."
   ]
  },
  {
   "cell_type": "markdown",
   "id": "62d9a1f8-8b02-4f60-8ef6-68ec68bd6567",
   "metadata": {},
   "source": [
    "The @abstractmethod decorator is part of the abc (Abstract Base Classes) module in Python. It is used to declare abstract methods in abstract classes. Abstract methods are methods that are declared in the abstract class but do not have an implementation in the abstract class itself. Subclasses of the abstract class must provide concrete implementations for all abstract methods. This mechanism helps enforce a common interface across multiple classes, promoting polymorphism.\n",
    "\n",
    "Here's an example to illustrate the role of the @abstractmethod decorator in achieving polymorphism:"
   ]
  },
  {
   "cell_type": "code",
   "execution_count": 14,
   "id": "49f14a90-ffc0-4312-a493-262da9349f50",
   "metadata": {},
   "outputs": [
    {
     "name": "stdout",
     "output_type": "stream",
     "text": [
      "The area is: 78.5\n",
      "The area is: 16\n",
      "The area is: 9.0\n"
     ]
    }
   ],
   "source": [
    "from abc import ABC, abstractmethod\n",
    "\n",
    "# Abstract class with an abstract method\n",
    "class Shape(ABC):\n",
    "    @abstractmethod\n",
    "    def calculate_area(self):\n",
    "        pass\n",
    "\n",
    "# Concrete implementation of the abstract class\n",
    "class Circle(Shape):\n",
    "    def __init__(self, radius):\n",
    "        self.radius = radius\n",
    "\n",
    "    def calculate_area(self):\n",
    "        return 3.14 * self.radius**2\n",
    "\n",
    "# Concrete implementation of the abstract class\n",
    "class Square(Shape):\n",
    "    def __init__(self, side_length):\n",
    "        self.side_length = side_length\n",
    "\n",
    "    def calculate_area(self):\n",
    "        return self.side_length**2\n",
    "\n",
    "# Concrete implementation of the abstract class\n",
    "class Triangle(Shape):\n",
    "    def __init__(self, base, height):\n",
    "        self.base = base\n",
    "        self.height = height\n",
    "\n",
    "    def calculate_area(self):\n",
    "        return 0.5 * self.base * self.height\n",
    "\n",
    "# Polymorphic function using the abstract class\n",
    "def print_area(shape):\n",
    "    print(f\"The area is: {shape.calculate_area()}\")\n",
    "\n",
    "# Create instances of different concrete implementations\n",
    "circle = Circle(radius=5)\n",
    "square = Square(side_length=4)\n",
    "triangle = Triangle(base=6, height=3)\n",
    "\n",
    "# Demonstrate polymorphism using the abstract class\n",
    "print_area(circle)    # Output: The area is: 78.5\n",
    "print_area(square)    # Output: The area is: 16\n",
    "print_area(triangle)  # Output: The area is: 9.0\n"
   ]
  },
  {
   "cell_type": "markdown",
   "id": "3d194790-9b52-41f5-987a-fa222954926f",
   "metadata": {},
   "source": [
    "Using the @abstractmethod decorator ensures that any subclass of the abstract class adheres to the common interface defined by the abstract method, promoting code consistency and polymorphic behavior. If a subclass fails to provide an implementation for an abstract method, it will raise a TypeError during runtime."
   ]
  },
  {
   "cell_type": "markdown",
   "id": "1d0cc00c-4e71-4e19-b45c-00650421b129",
   "metadata": {},
   "source": [
    "11. Create a Python class called `Shape` with a polymorphic method `area()` that calculates the area of different shapes (e.g., circle, rectangle, triangle)."
   ]
  },
  {
   "cell_type": "code",
   "execution_count": 15,
   "id": "a66cbdd6-74a4-4e73-839e-af85ef8b95f9",
   "metadata": {},
   "outputs": [
    {
     "name": "stdout",
     "output_type": "stream",
     "text": [
      "The area is: 78.53981633974483\n",
      "The area is: 24\n",
      "The area is: 12.0\n"
     ]
    }
   ],
   "source": [
    "import math\n",
    "\n",
    "class Shape:\n",
    "    def area(self):\n",
    "        pass\n",
    "\n",
    "class Circle(Shape):\n",
    "    def __init__(self, radius):\n",
    "        self.radius = radius\n",
    "\n",
    "    def area(self):\n",
    "        return math.pi * self.radius**2\n",
    "\n",
    "class Rectangle(Shape):\n",
    "    def __init__(self, length, width):\n",
    "        self.length = length\n",
    "        self.width = width\n",
    "\n",
    "    def area(self):\n",
    "        return self.length * self.width\n",
    "\n",
    "class Triangle(Shape):\n",
    "    def __init__(self, base, height):\n",
    "        self.base = base\n",
    "        self.height = height\n",
    "\n",
    "    def area(self):\n",
    "        return 0.5 * self.base * self.height\n",
    "\n",
    "# Polymorphic function using the Shape class\n",
    "def print_area(shape):\n",
    "    print(f\"The area is: {shape.area()}\")\n",
    "\n",
    "# Create instances of different shapes\n",
    "circle = Circle(radius=5)\n",
    "rectangle = Rectangle(length=4, width=6)\n",
    "triangle = Triangle(base=3, height=8)\n",
    "\n",
    "# Demonstrate polymorphism using the Shape class\n",
    "print_area(circle)      # Output: The area is: 78.53981633974483\n",
    "print_area(rectangle)   # Output: The area is: 24\n",
    "print_area(triangle)    # Output: The area is: 12.0\n"
   ]
  },
  {
   "cell_type": "markdown",
   "id": "306c8421-0963-4bcf-b9a2-e44c15b217b9",
   "metadata": {},
   "source": [
    "12. Discuss the benefits of polymorphism in terms of code reusability and flexibility in Python programs."
   ]
  },
  {
   "cell_type": "markdown",
   "id": "ccac01f1-7136-4532-9b71-cb3283d97d96",
   "metadata": {},
   "source": [
    "Polymorphism in Python provides several benefits, especially in terms of code reusability and flexibility. Here are some of the key advantages:\n",
    "\n",
    "Code Reusability:\n",
    "\n",
    "Common Interface: Polymorphism allows objects of different types to be treated as objects of a common type. This common interface enables the reuse of code across different classes.\n",
    "Shared Methods: When different classes implement the same method name with the same interface (method signature), the code that uses these objects can be written to work with any of them interchangeably.\n",
    "Flexibility:\n",
    "\n",
    "Dynamic Binding: Polymorphism in Python is achieved through dynamic binding, where the decision about which method to call is made at runtime. This dynamic nature provides flexibility in adapting to different object types during the execution of the program.\n",
    "Open/Closed Principle: Polymorphism supports the open/closed principle, which states that a class should be open for extension but closed for modification. New classes can be added to the system without altering the existing code, promoting a modular and extensible design.\n",
    "Easier Maintenance:\n",
    "\n",
    "Reduced Code Duplication: By promoting code reuse, polymorphism helps reduce code duplication. Common functionality is implemented once in a superclass or interface, and specific implementations are provided in subclasses.\n",
    "Modular Design: Polymorphism encourages a modular design where different components of a system can be developed and maintained independently. This makes it easier to understand, extend, and modify code.\n",
    "Enhanced Readability:\n",
    "\n",
    "Clearer Code: Polymorphism allows you to write code that operates on objects with a common interface, making the code more readable and self-explanatory. This clarity is particularly beneficial when working on larger projects with multiple developers.\n",
    "Support for Inheritance:\n",
    "\n",
    "Method Overriding: Polymorphism is often closely tied to inheritance, where subclasses can override methods defined in their superclasses. This promotes a hierarchical structure that reflects the relationships between different classes in a natural way.\n",
    "Adaptability to Changing Requirements:\n",
    "\n",
    "Scalability: Polymorphism makes it easier to scale and adapt a system to changing requirements. New classes can be introduced without affecting existing code, and existing code can seamlessly interact with new implementations.\n",
    "In summary, polymorphism in Python contributes significantly to code reusability and flexibility by providing a mechanism for objects of different types to share a common interface. This promotes modular design, reduces code duplication, and enhances the maintainability and readability of code. The dynamic nature of polymorphism allows for adaptable and extensible systems, making it a powerful concept in object-oriented programming.\n",
    "\n",
    "\n",
    "\n",
    "\n",
    "\n"
   ]
  },
  {
   "cell_type": "markdown",
   "id": "d5dbf21f-4211-416c-a054-af9a99251413",
   "metadata": {},
   "source": [
    "13. Explain the use of the `super()` function in Python polymorphism. How does it help call methods of parent\n",
    "classes?"
   ]
  },
  {
   "cell_type": "markdown",
   "id": "1945361b-b7c9-4d11-b9d6-5174989aa144",
   "metadata": {},
   "source": [
    "In Python, the super() function is used to call a method from a parent or superclass within a subclass. It plays a crucial role in achieving polymorphism and maintaining a clean and efficient inheritance hierarchy. By using super(), you can invoke a method in a parent class, allowing for code reuse and overriding in a more organized manner.\n",
    "\n",
    "Here's a brief explanation of how super() works and its role in achieving polymorphism:\n",
    "\n",
    "Calling Parent Class Methods:\n",
    "The primary use of super() is to call a method from the parent class. This is particularly useful when you override a method in a subclass and want to execute the overridden method in addition to the functionality provided by the parent class."
   ]
  },
  {
   "cell_type": "code",
   "execution_count": 1,
   "id": "0ceb4606-f221-4d42-b740-43d615d82666",
   "metadata": {},
   "outputs": [
    {
     "name": "stdout",
     "output_type": "stream",
     "text": [
      "Parent class method\n",
      "Child class method\n"
     ]
    }
   ],
   "source": [
    "class Parent:\n",
    "    def some_method(self):\n",
    "        print(\"Parent class method\")\n",
    "\n",
    "class Child(Parent):\n",
    "    def some_method(self):\n",
    "        super().some_method()  # Calls the method in the parent class\n",
    "        print(\"Child class method\")\n",
    "\n",
    "obj = Child()\n",
    "obj.some_method()\n"
   ]
  },
  {
   "cell_type": "markdown",
   "id": "979395be-7365-48a6-899b-20afbc3e6cd1",
   "metadata": {},
   "source": [
    "Method Resolution Order (MRO):\n",
    "super() uses the Method Resolution Order (MRO) to determine the next class in the hierarchy. The MRO defines the order in which base classes are searched when looking for a method or attribute. It ensures that the correct method is called in the hierarchy."
   ]
  },
  {
   "cell_type": "code",
   "execution_count": 2,
   "id": "3bcc4ec5-b090-4382-9cb3-2fb25cb52024",
   "metadata": {},
   "outputs": [
    {
     "name": "stdout",
     "output_type": "stream",
     "text": [
      "A class method\n",
      "B class method\n",
      "C class method\n"
     ]
    }
   ],
   "source": [
    "class A:\n",
    "    def some_method(self):\n",
    "        print(\"A class method\")\n",
    "\n",
    "class B(A):\n",
    "    def some_method(self):\n",
    "        super().some_method()\n",
    "        print(\"B class method\")\n",
    "\n",
    "class C(B):\n",
    "    def some_method(self):\n",
    "        super().some_method()\n",
    "        print(\"C class method\")\n",
    "\n",
    "obj = C()\n",
    "obj.some_method()\n"
   ]
  },
  {
   "cell_type": "markdown",
   "id": "98963821-29b4-48a4-b3dd-eb2b9b14e8db",
   "metadata": {},
   "source": [
    "Dynamic Inheritance and Polymorphism:\n",
    "super() allows for dynamic inheritance and polymorphism. It ensures that even if the class hierarchy changes, the method calls remain consistent and follow the updated hierarchy."
   ]
  },
  {
   "cell_type": "code",
   "execution_count": 3,
   "id": "e9b700bb-e812-40f9-9a78-839e209b5605",
   "metadata": {},
   "outputs": [
    {
     "name": "stdout",
     "output_type": "stream",
     "text": [
      "Base class method\n",
      "Child class method\n",
      "Base class method\n",
      "AnotherChild class method\n"
     ]
    }
   ],
   "source": [
    "class Base:\n",
    "    def some_method(self):\n",
    "        print(\"Base class method\")\n",
    "\n",
    "class Child(Base):\n",
    "    def some_method(self):\n",
    "        super().some_method()\n",
    "        print(\"Child class method\")\n",
    "\n",
    "# Dynamic inheritance\n",
    "class AnotherChild(Base):\n",
    "    def some_method(self):\n",
    "        super().some_method()\n",
    "        print(\"AnotherChild class method\")\n",
    "\n",
    "obj1 = Child()\n",
    "obj1.some_method()\n",
    "\n",
    "obj2 = AnotherChild()\n",
    "obj2.some_method()\n"
   ]
  },
  {
   "cell_type": "markdown",
   "id": "936b9b3d-c3f5-45b4-b0c7-283bd1d0bf03",
   "metadata": {},
   "source": [
    "14. Create a Python class hierarchy for a banking system with various account types (e.g., savings, checking, credit card) and demonstrate polymorphism by implementing a common 'withdraw()' method."
   ]
  },
  {
   "cell_type": "code",
   "execution_count": 4,
   "id": "823754d4-c7f9-4ccc-95a4-038de8e13840",
   "metadata": {},
   "outputs": [
    {
     "name": "stdout",
     "output_type": "stream",
     "text": [
      "Withdrawal of $200.00 successful.\n",
      "Withdrawal of $1800.00 from checking account successful.\n",
      "Withdrawal of $500.00 from credit card successful.\n",
      "Account SA123 balance: $800.00\n",
      "Account CA456 balance: $-300.00\n",
      "Account CC789 balance: $-700.00\n",
      "Interest added: $40.00\n",
      "Account SA123 balance: $840.00\n"
     ]
    }
   ],
   "source": [
    "class BankAccount:\n",
    "    def __init__(self, account_number, balance):\n",
    "        self.account_number = account_number\n",
    "        self.balance = balance\n",
    "\n",
    "    def display_balance(self):\n",
    "        print(f\"Account {self.account_number} balance: ${self.balance:.2f}\")\n",
    "\n",
    "    def withdraw(self, amount):\n",
    "        if amount > 0 and amount <= self.balance:\n",
    "            self.balance -= amount\n",
    "            print(f\"Withdrawal of ${amount:.2f} successful.\")\n",
    "        else:\n",
    "            print(\"Invalid withdrawal amount or insufficient funds.\")\n",
    "\n",
    "class SavingsAccount(BankAccount):\n",
    "    def __init__(self, account_number, balance, interest_rate):\n",
    "        super().__init__(account_number, balance)\n",
    "        self.interest_rate = interest_rate\n",
    "\n",
    "    def calculate_interest(self):\n",
    "        interest = self.balance * (self.interest_rate / 100)\n",
    "        self.balance += interest\n",
    "        print(f\"Interest added: ${interest:.2f}\")\n",
    "\n",
    "class CheckingAccount(BankAccount):\n",
    "    def __init__(self, account_number, balance, overdraft_limit):\n",
    "        super().__init__(account_number, balance)\n",
    "        self.overdraft_limit = overdraft_limit\n",
    "\n",
    "    def withdraw(self, amount):\n",
    "        if amount > 0 and amount <= (self.balance + self.overdraft_limit):\n",
    "            self.balance -= amount\n",
    "            print(f\"Withdrawal of ${amount:.2f} from checking account successful.\")\n",
    "        else:\n",
    "            print(\"Invalid withdrawal amount or overdraft limit reached.\")\n",
    "\n",
    "class CreditCardAccount(BankAccount):\n",
    "    def __init__(self, account_number, balance, credit_limit):\n",
    "        super().__init__(account_number, balance)\n",
    "        self.credit_limit = credit_limit\n",
    "\n",
    "    def withdraw(self, amount):\n",
    "        if amount > 0 and amount <= (self.balance + self.credit_limit):\n",
    "            self.balance -= amount\n",
    "            print(f\"Withdrawal of ${amount:.2f} from credit card successful.\")\n",
    "        else:\n",
    "            print(\"Invalid withdrawal amount or credit limit reached.\")\n",
    "\n",
    "# Demonstration of polymorphism\n",
    "savings_account = SavingsAccount(account_number=\"SA123\", balance=1000.00, interest_rate=5.0)\n",
    "checking_account = CheckingAccount(account_number=\"CA456\", balance=1500.00, overdraft_limit=500.00)\n",
    "credit_card_account = CreditCardAccount(account_number=\"CC789\", balance=-200.00, credit_limit=1000.00)\n",
    "\n",
    "# Call the common 'withdraw()' method on different account types\n",
    "savings_account.withdraw(200.00)\n",
    "checking_account.withdraw(1800.00)  # Exceeds overdraft limit\n",
    "credit_card_account.withdraw(500.00)\n",
    "\n",
    "# Display balances after withdrawals\n",
    "savings_account.display_balance()\n",
    "checking_account.display_balance()\n",
    "credit_card_account.display_balance()\n",
    "\n",
    "# Calculate interest for savings account\n",
    "savings_account.calculate_interest()\n",
    "savings_account.display_balance()\n"
   ]
  },
  {
   "cell_type": "markdown",
   "id": "e2a3fb8b-e2c9-4d47-a494-5a032c1928bf",
   "metadata": {},
   "source": [
    "15. Describe the concept of operator overloading in Python and how it relates to polymorphism. Provide\n",
    "examples using operators like `+` and `*`."
   ]
  },
  {
   "cell_type": "markdown",
   "id": "16255ef2-66ab-405a-9ca3-b1c52df11bcc",
   "metadata": {},
   "source": [
    "Operator overloading in Python refers to the ability to define or redefine the behavior of an operator for user-defined objects or classes. Python allows you to provide a special method in your class that gets called when an instance of that class is used with a particular operator. This enables you to customize the behavior of operators based on the objects they operate on.\n",
    "\n",
    "Operator overloading is closely related to polymorphism because it allows different classes to provide a common interface (the operator) while implementing specific behavior based on the context (the objects involved). This allows for more natural and intuitive use of operators across different types."
   ]
  },
  {
   "cell_type": "code",
   "execution_count": 5,
   "id": "d6ee74ba-cd0a-461c-ab6c-b9bf05d4c3d5",
   "metadata": {},
   "outputs": [
    {
     "name": "stdout",
     "output_type": "stream",
     "text": [
      "Resultant Point: (4, 6)\n"
     ]
    }
   ],
   "source": [
    "class Point:\n",
    "    def __init__(self, x, y):\n",
    "        self.x = x\n",
    "        self.y = y\n",
    "\n",
    "    def __add__(self, other_point):\n",
    "        if isinstance(other_point, Point):\n",
    "            return Point(self.x + other_point.x, self.y + other_point.y)\n",
    "        else:\n",
    "            raise TypeError(\"Unsupported operand type. You can only add two Point objects.\")\n",
    "\n",
    "# Creating instances of the Point class\n",
    "point1 = Point(1, 2)\n",
    "point2 = Point(3, 4)\n",
    "\n",
    "# Using the overloaded '+' operator\n",
    "result_point = point1 + point2\n",
    "\n",
    "# Displaying the result\n",
    "print(f\"Resultant Point: ({result_point.x}, {result_point.y})\")\n",
    "\n"
   ]
  },
  {
   "cell_type": "code",
   "execution_count": 6,
   "id": "2a2161be-7dc0-47dc-b087-4d5bb77bfef6",
   "metadata": {},
   "outputs": [
    {
     "name": "stdout",
     "output_type": "stream",
     "text": [
      "Scaled Vector: (6, 10)\n"
     ]
    }
   ],
   "source": [
    "class Vector:\n",
    "    def __init__(self, x, y):\n",
    "        self.x = x\n",
    "        self.y = y\n",
    "\n",
    "    def __mul__(self, scalar):\n",
    "        if isinstance(scalar, (int, float)):\n",
    "            return Vector(self.x * scalar, self.y * scalar)\n",
    "        else:\n",
    "            raise TypeError(\"Unsupported operand type. You can only multiply a Vector by a scalar.\")\n",
    "\n",
    "# Creating an instance of the Vector class\n",
    "vector = Vector(3, 5)\n",
    "\n",
    "# Using the overloaded '*' operator\n",
    "scaled_vector = vector * 2\n",
    "\n",
    "# Displaying the result\n",
    "print(f\"Scaled Vector: ({scaled_vector.x}, {scaled_vector.y})\")\n"
   ]
  },
  {
   "cell_type": "markdown",
   "id": "fc6dd37d-b947-4396-aeb8-add91dccb37f",
   "metadata": {},
   "source": [
    "16. What is dynamic polymorphism, and how is it achieved in Python?"
   ]
  },
  {
   "cell_type": "markdown",
   "id": "d80bb8af-a7f4-4fc0-9840-de56ce8abe7a",
   "metadata": {},
   "source": [
    "Dynamic polymorphism, also known as runtime polymorphism or late binding, is a concept in object-oriented programming where the method that gets executed is determined at runtime rather than at compile time. In dynamic polymorphism, the same method name can be used across different classes, and the appropriate method to be executed is decided based on the actual type of the object at runtime. This allows for flexibility and extensibility in code design.\n",
    "\n",
    "In Python, dynamic polymorphism is achieved through method overriding and the use of the super() function. Method overriding occurs when a subclass provides a specific implementation for a method that is already defined in its superclass. The super() function is then used to invoke the method in the superclass."
   ]
  },
  {
   "cell_type": "code",
   "execution_count": 7,
   "id": "f85e0bcc-bac3-47df-98df-3a4dc815820b",
   "metadata": {},
   "outputs": [
    {
     "name": "stdout",
     "output_type": "stream",
     "text": [
      "Generic animal sound\n",
      "Woof! Woof!\n",
      "Meow!\n",
      "Generic animal sound\n"
     ]
    }
   ],
   "source": [
    "class Animal:\n",
    "    def make_sound(self):\n",
    "        print(\"Generic animal sound\")\n",
    "\n",
    "class Dog(Animal):\n",
    "    def make_sound(self):\n",
    "        print(\"Woof! Woof!\")\n",
    "\n",
    "class Cat(Animal):\n",
    "    def make_sound(self):\n",
    "        print(\"Meow!\")\n",
    "\n",
    "class Cow(Animal):\n",
    "    pass  # Inherits make_sound from the Animal class\n",
    "\n",
    "# Function demonstrating dynamic polymorphism\n",
    "def animal_sound(animal_instance):\n",
    "    animal_instance.make_sound()\n",
    "\n",
    "# Creating instances of different classes\n",
    "generic_animal = Animal()\n",
    "dog = Dog()\n",
    "cat = Cat()\n",
    "cow = Cow()\n",
    "\n",
    "# Demonstrating dynamic polymorphism\n",
    "animal_sound(generic_animal)  # Calls Animal's make_sound\n",
    "animal_sound(dog)            # Calls Dog's make_sound\n",
    "animal_sound(cat)            # Calls Cat's make_sound\n",
    "animal_sound(cow)            # Calls Animal's make_sound (inherited)\n"
   ]
  },
  {
   "cell_type": "markdown",
   "id": "ff56b136-1a4d-4661-8773-5a0869c014a8",
   "metadata": {},
   "source": [
    "17. Create a Python class hierarchy for employees in a company (e.g., manager, developer, designer) and implement polymorphism through a common `calculate_salary()` method."
   ]
  },
  {
   "cell_type": "code",
   "execution_count": 8,
   "id": "f68f7fbb-c093-4ec6-b47e-993de539104f",
   "metadata": {},
   "outputs": [
    {
     "name": "stdout",
     "output_type": "stream",
     "text": [
      "Manager John Manager's salary: $6500.00\n",
      "Developer Alice Developer's salary: $4800.00\n",
      "Designer Bob Designer's salary: $4500.00\n",
      "\n",
      "Total salaries for all employees: $15800.00\n"
     ]
    }
   ],
   "source": [
    "class Employee:\n",
    "    def __init__(self, employee_id, name):\n",
    "        self.employee_id = employee_id\n",
    "        self.name = name\n",
    "\n",
    "    def calculate_salary(self):\n",
    "        raise NotImplementedError(\"Subclasses must implement the calculate_salary method\")\n",
    "\n",
    "class Manager(Employee):\n",
    "    def __init__(self, employee_id, name, base_salary, bonus):\n",
    "        super().__init__(employee_id, name)\n",
    "        self.base_salary = base_salary\n",
    "        self.bonus = bonus\n",
    "\n",
    "    def calculate_salary(self):\n",
    "        total_salary = self.base_salary + self.bonus\n",
    "        print(f\"Manager {self.name}'s salary: ${total_salary:.2f}\")\n",
    "        return total_salary\n",
    "\n",
    "class Developer(Employee):\n",
    "    def __init__(self, employee_id, name, hourly_rate, hours_worked):\n",
    "        super().__init__(employee_id, name)\n",
    "        self.hourly_rate = hourly_rate\n",
    "        self.hours_worked = hours_worked\n",
    "\n",
    "    def calculate_salary(self):\n",
    "        total_salary = self.hourly_rate * self.hours_worked\n",
    "        print(f\"Developer {self.name}'s salary: ${total_salary:.2f}\")\n",
    "        return total_salary\n",
    "\n",
    "class Designer(Employee):\n",
    "    def __init__(self, employee_id, name, monthly_salary):\n",
    "        super().__init__(employee_id, name)\n",
    "        self.monthly_salary = monthly_salary\n",
    "\n",
    "    def calculate_salary(self):\n",
    "        print(f\"Designer {self.name}'s salary: ${self.monthly_salary:.2f}\")\n",
    "        return self.monthly_salary\n",
    "\n",
    "# Demonstration of polymorphism\n",
    "manager = Manager(employee_id=\"M001\", name=\"John Manager\", base_salary=5000.00, bonus=1500.00)\n",
    "developer = Developer(employee_id=\"D001\", name=\"Alice Developer\", hourly_rate=30.00, hours_worked=160)\n",
    "designer = Designer(employee_id=\"DS001\", name=\"Bob Designer\", monthly_salary=4500.00)\n",
    "\n",
    "# Using the common 'calculate_salary()' method\n",
    "total_salary_manager = manager.calculate_salary()\n",
    "total_salary_developer = developer.calculate_salary()\n",
    "total_salary_designer = designer.calculate_salary()\n",
    "\n",
    "# Displaying total salaries\n",
    "total_salaries = total_salary_manager + total_salary_developer + total_salary_designer\n",
    "print(f\"\\nTotal salaries for all employees: ${total_salaries:.2f}\")\n"
   ]
  },
  {
   "cell_type": "markdown",
   "id": "cfa53c9b-1113-4715-bed2-60c1bf54930a",
   "metadata": {},
   "source": [
    "18. Discuss the concept of function pointers and how they can be used to achieve polymorphism in Python."
   ]
  },
  {
   "cell_type": "markdown",
   "id": "73bf8461-0daf-45b8-ac19-e8bfe37df77e",
   "metadata": {},
   "source": [
    "In Python, the concept of function pointers is somewhat different from languages like C or C++. Python doesn't have explicit function pointers in the same way, but it achieves similar functionality through first-class functions and the ability to pass functions as arguments. This allows for a flexible and dynamic approach to achieve polymorphism.\n",
    "\n",
    "First-Class Functions:\n",
    "In Python, functions are first-class citizens, meaning they can be treated like any other object (e.g., integers, strings, etc.). This enables the passing of functions as arguments to other functions, storing them in data structures, and returning them from other functions.\n",
    "\n",
    "Achieving Polymorphism:\n",
    "Polymorphism in Python can be achieved through the use of function arguments, where the same function can be used with different implementations based on the type of the arguments. This dynamic behavior is similar to polymorphism seen in other languages with explicit function pointers."
   ]
  },
  {
   "cell_type": "code",
   "execution_count": 9,
   "id": "7baaca92-558a-44ce-93f0-c95fe39794a0",
   "metadata": {},
   "outputs": [
    {
     "name": "stdout",
     "output_type": "stream",
     "text": [
      "Result of addition: 8\n",
      "Result of subtraction: 4\n"
     ]
    }
   ],
   "source": [
    "def add(a, b):\n",
    "    return a + b\n",
    "\n",
    "def subtract(a, b):\n",
    "    return a - b\n",
    "\n",
    "def perform_operation(operation, a, b):\n",
    "    return operation(a, b)\n",
    "\n",
    "# Using the perform_operation function with different operations\n",
    "result_add = perform_operation(add, 5, 3)\n",
    "result_subtract = perform_operation(subtract, 8, 4)\n",
    "\n",
    "print(\"Result of addition:\", result_add)\n",
    "print(\"Result of subtraction:\", result_subtract)\n"
   ]
  },
  {
   "cell_type": "markdown",
   "id": "205e5aa9-a5dc-4fe5-b191-69602862e063",
   "metadata": {},
   "source": [
    "Object-Oriented Approach:\n",
    "In an object-oriented context, polymorphism is often achieved through method overriding. However, you can also use first-class functions to achieve a form of polymorphism without relying on class hierarchies:"
   ]
  },
  {
   "cell_type": "code",
   "execution_count": 10,
   "id": "59cefb15-72b2-45cd-9867-a41bfa82f0d7",
   "metadata": {},
   "outputs": [
    {
     "name": "stdout",
     "output_type": "stream",
     "text": [
      "Result of addition: 8\n",
      "Result of subtraction: 4\n"
     ]
    }
   ],
   "source": [
    "class MathOperations:\n",
    "    def operate(self, a, b, operation):\n",
    "        return operation(a, b)\n",
    "\n",
    "# Function implementations\n",
    "def add(a, b):\n",
    "    return a + b\n",
    "\n",
    "def subtract(a, b):\n",
    "    return a - b\n",
    "\n",
    "# Using first-class functions for polymorphism\n",
    "math_operator = MathOperations()\n",
    "\n",
    "result_add = math_operator.operate(5, 3, add)\n",
    "result_subtract = math_operator.operate(8, 4, subtract)\n",
    "\n",
    "print(\"Result of addition:\", result_add)\n",
    "print(\"Result of subtraction:\", result_subtract)\n"
   ]
  },
  {
   "cell_type": "markdown",
   "id": "d5ae8515-f00e-4fd6-8428-5510105edb8c",
   "metadata": {},
   "source": [
    "19. Explain the role of interfaces and abstract classes in polymorphism, drawing comparisons between them."
   ]
  },
  {
   "cell_type": "markdown",
   "id": "72624c12-5481-421d-94bb-4990e1af120a",
   "metadata": {},
   "source": [
    "In object-oriented programming, both interfaces and abstract classes play a crucial role in achieving polymorphism by providing a way to define a common interface that multiple classes can implement or inherit. However, there are some differences between interfaces and abstract classes in terms of their definition and usage. Let's explore the role of interfaces and abstract classes in polymorphism and draw comparisons between them:\n",
    "\n",
    "Interfaces:\n",
    "Definition:\n",
    "\n",
    "An interface is a collection of abstract method signatures without any implementation.\n",
    "In languages like Java or TypeScript, a class can implement multiple interfaces.\n",
    "Interfaces define what a class should do but not how it should do it.\n",
    "Usage in Polymorphism:\n",
    "\n",
    "Interfaces provide a contract that classes must adhere to, ensuring a consistent interface across different implementations.\n",
    "Classes that implement an interface must provide concrete implementations for all the methods declared in the interface.\n",
    "Code that interacts with objects through interfaces can treat different implementations uniformly."
   ]
  },
  {
   "cell_type": "code",
   "execution_count": 11,
   "id": "c147b150-3f4f-46d1-a5e9-37881f968e10",
   "metadata": {},
   "outputs": [],
   "source": [
    "from abc import ABC, abstractmethod\n",
    "\n",
    "class Shape(ABC):\n",
    "    @abstractmethod\n",
    "    def area(self):\n",
    "        pass\n",
    "\n",
    "class Circle(Shape):\n",
    "    def __init__(self, radius):\n",
    "        self.radius = radius\n",
    "\n",
    "    def area(self):\n",
    "        return 3.14 * self.radius * self.radius\n",
    "\n",
    "class Rectangle(Shape):\n",
    "    def __init__(self, length, width):\n",
    "        self.length = length\n",
    "        self.width = width\n",
    "\n",
    "    def area(self):\n",
    "        return self.length * self.width\n"
   ]
  },
  {
   "cell_type": "markdown",
   "id": "5ba22cd2-b3c6-47ae-b73a-070af4d0b696",
   "metadata": {},
   "source": [
    "Abstract Classes:\n",
    "Definition:\n",
    "\n",
    "An abstract class is a class that may contain abstract methods (methods without an implementation) as well as concrete methods.\n",
    "An abstract class can have instance variables and methods with or without implementations.\n",
    "In Python, you can create abstract classes using the ABC (Abstract Base Class) module and the abstractmethod decorator.\n",
    "Usage in Polymorphism:\n",
    "\n",
    "Abstract classes can provide a partial implementation of a class and leave some methods to be implemented by the subclasses.\n",
    "Subclasses are required to provide concrete implementations for abstract methods, ensuring a consistent interface.\n",
    "Abstract classes can have both abstract and non-abstract (concrete) methods."
   ]
  },
  {
   "cell_type": "code",
   "execution_count": 12,
   "id": "6be9d051-66b2-43db-8962-ebb90c28ea64",
   "metadata": {},
   "outputs": [],
   "source": [
    "from abc import ABC, abstractmethod\n",
    "\n",
    "class Animal(ABC):\n",
    "    @abstractmethod\n",
    "    def make_sound(self):\n",
    "        pass\n",
    "\n",
    "    def eat(self):\n",
    "        print(\"Animal is eating\")\n",
    "\n",
    "class Dog(Animal):\n",
    "    def make_sound(self):\n",
    "        print(\"Woof! Woof!\")\n",
    "\n",
    "class Cat(Animal):\n",
    "    def make_sound(self):\n",
    "        print(\"Meow!\")\n"
   ]
  },
  {
   "cell_type": "markdown",
   "id": "46e6f7a9-7a00-4424-b23b-825894a87592",
   "metadata": {},
   "source": [
    "# Comparisons:\n",
    "Multiple Inheritance:\n",
    "\n",
    "Interfaces: Generally support multiple inheritance, allowing a class to implement multiple interfaces.\n",
    "Abstract Classes: Support single inheritance in most languages, meaning a class can inherit from only one abstract class.\n",
    "Constructor and Instance Variables:\n",
    "\n",
    "Interfaces: Usually don't allow instance variables or constructors.\n",
    "Abstract Classes: Can have instance variables, constructors, and a mix of abstract and concrete methods.\n",
    "Optional Method Implementation:\n",
    "\n",
    "Interfaces: All methods are implicitly abstract and must be implemented by the implementing classes.\n",
    "Abstract Classes: Can have both abstract and non-abstract (concrete) methods. Subclasses are not required to implement non-abstract methods.\n",
    "Role in Polymorphism:\n",
    "\n",
    "Interfaces and abstract classes both play a role in achieving polymorphism by providing a common interface for different implementations.\n",
    "Code that interacts with objects through interfaces or abstract classes can treat different implementations uniformly, promoting flexibility and extensibility.\n",
    "In summary, both interfaces and abstract classes contribute to achieving polymorphism in object-oriented programming by defining a common interface that classes must adhere to. The choice between them often depends on the specific requirements of the design and the programming language features.\n",
    "\n",
    "\n",
    "\n",
    "\n",
    "\n"
   ]
  },
  {
   "cell_type": "markdown",
   "id": "66f51410-bcd8-45c3-b76b-4b256b45d4be",
   "metadata": {},
   "source": [
    "20. Create a Python class for a zoo simulation, demonstrating polymorphism with different animal types (e.g.,mammals ,birds ,reptiles) and their behavior (e.g. eating ,sleeping, making sound)."
   ]
  },
  {
   "cell_type": "code",
   "execution_count": 13,
   "id": "0b867e3c-4b78-4354-b669-7de0af2ef1c7",
   "metadata": {},
   "outputs": [
    {
     "name": "stdout",
     "output_type": "stream",
     "text": [
      "Leo the mammal makes a sound\n",
      "Leo the mammal is eating\n",
      "Leo is sleeping\n",
      "\n",
      "Polly the bird sings\n",
      "Polly the bird is pecking at seeds\n",
      "Polly is sleeping\n",
      "\n",
      "Slytherin the reptile hisses\n",
      "Slytherin the reptile is hunting for prey\n",
      "Slytherin is sleeping\n",
      "\n"
     ]
    }
   ],
   "source": [
    "class Animal:\n",
    "    def __init__(self, name):\n",
    "        self.name = name\n",
    "\n",
    "    def make_sound(self):\n",
    "        pass\n",
    "\n",
    "    def eat(self):\n",
    "        pass\n",
    "\n",
    "    def sleep(self):\n",
    "        print(f\"{self.name} is sleeping\")\n",
    "\n",
    "class Mammal(Animal):\n",
    "    def __init__(self, name):\n",
    "        super().__init__(name)\n",
    "\n",
    "    def make_sound(self):\n",
    "        print(f\"{self.name} the mammal makes a sound\")\n",
    "\n",
    "    def eat(self):\n",
    "        print(f\"{self.name} the mammal is eating\")\n",
    "\n",
    "class Bird(Animal):\n",
    "    def __init__(self, name):\n",
    "        super().__init__(name)\n",
    "\n",
    "    def make_sound(self):\n",
    "        print(f\"{self.name} the bird sings\")\n",
    "\n",
    "    def eat(self):\n",
    "        print(f\"{self.name} the bird is pecking at seeds\")\n",
    "\n",
    "class Reptile(Animal):\n",
    "    def __init__(self, name):\n",
    "        super().__init__(name)\n",
    "\n",
    "    def make_sound(self):\n",
    "        print(f\"{self.name} the reptile hisses\")\n",
    "\n",
    "    def eat(self):\n",
    "        print(f\"{self.name} the reptile is hunting for prey\")\n",
    "\n",
    "# Zoo simulation\n",
    "def simulate_zoo(animals):\n",
    "    for animal in animals:\n",
    "        animal.make_sound()\n",
    "        animal.eat()\n",
    "        animal.sleep()\n",
    "        print()\n",
    "\n",
    "# Create instances of different animal types\n",
    "lion = Mammal(\"Leo\")\n",
    "parrot = Bird(\"Polly\")\n",
    "snake = Reptile(\"Slytherin\")\n",
    "\n",
    "# Simulate the zoo with different animal types\n",
    "simulate_zoo([lion, parrot, snake])\n"
   ]
  },
  {
   "cell_type": "markdown",
   "id": "1510e6ef-22e2-4991-b752-1d2ac8884fc6",
   "metadata": {},
   "source": [
    "ABSTRACTION"
   ]
  },
  {
   "cell_type": "markdown",
   "id": "85eece00-32dc-44de-8de0-6055e386317b",
   "metadata": {},
   "source": [
    "1. What is abstraction in Python, and how does it relate to object-oriented programming?"
   ]
  },
  {
   "cell_type": "markdown",
   "id": "ebacbab8-188b-4354-9fdd-eb3f70d8928e",
   "metadata": {},
   "source": [
    "Abstraction is a fundamental concept in object-oriented programming (OOP) and refers to the process of simplifying complex systems by modeling classes based on the essential features and ignoring the unnecessary details. It involves focusing on the relevant aspects of an object while hiding the implementation details that are not essential for the interaction with other objects.\n",
    "\n",
    "In Python, abstraction is closely tied to the principles of OOP, which include encapsulation, inheritance, and polymorphism. Let's explore how abstraction relates to these OOP principles:\n",
    "\n",
    "Encapsulation:\n",
    "\n",
    "Encapsulation is the bundling of data (attributes) and methods (functions) that operate on the data within a class.\n",
    "Abstraction allows encapsulation by defining a clear interface (public methods) for interacting with objects, while keeping the implementation details hidden.\n",
    "Users of a class don't need to know how the methods are implemented internally; they only need to know how to use the provided interface.\n",
    "Inheritance:\n",
    "\n",
    "Inheritance is a mechanism that allows a class (subclass) to inherit attributes and behaviors from another class (superclass).\n",
    "Abstraction promotes the use of abstract base classes, which define a common interface for multiple subclasses.\n",
    "Subclasses provide concrete implementations while inheriting the abstraction defined in the base class. Users can interact with objects of different subclasses through a consistent interface.\n",
    "Polymorphism:\n",
    "\n",
    "Polymorphism allows objects of different types to be treated as objects of a common type through a shared interface.\n",
    "Abstraction supports polymorphism by defining abstract methods and interfaces that can be implemented by different classes.\n",
    "Users can interact with objects based on the common interface without being concerned about the specific implementation of each class."
   ]
  },
  {
   "cell_type": "code",
   "execution_count": 14,
   "id": "da6cb0a1-56ac-4bf3-adb6-c6dc60618fcc",
   "metadata": {},
   "outputs": [
    {
     "name": "stdout",
     "output_type": "stream",
     "text": [
      "Circle area: 78.5\n",
      "Rectangle area: 24\n"
     ]
    }
   ],
   "source": [
    "from abc import ABC, abstractmethod\n",
    "\n",
    "class Shape(ABC):\n",
    "    @abstractmethod\n",
    "    def area(self):\n",
    "        pass\n",
    "\n",
    "class Circle(Shape):\n",
    "    def __init__(self, radius):\n",
    "        self.radius = radius\n",
    "\n",
    "    def area(self):\n",
    "        return 3.14 * self.radius * self.radius\n",
    "\n",
    "class Rectangle(Shape):\n",
    "    def __init__(self, length, width):\n",
    "        self.length = length\n",
    "        self.width = width\n",
    "\n",
    "    def area(self):\n",
    "        return self.length * self.width\n",
    "\n",
    "# Using abstraction and polymorphism\n",
    "def calculate_area(shape):\n",
    "    return shape.area()\n",
    "\n",
    "circle = Circle(radius=5)\n",
    "rectangle = Rectangle(length=4, width=6)\n",
    "\n",
    "print(\"Circle area:\", calculate_area(circle))\n",
    "print(\"Rectangle area:\", calculate_area(rectangle))\n"
   ]
  },
  {
   "cell_type": "markdown",
   "id": "be24038d-5577-4822-92b2-f7ab75075ead",
   "metadata": {},
   "source": [
    "2. Describe the benefits of abstraction in terms of code organization and complexity reduction."
   ]
  },
  {
   "cell_type": "markdown",
   "id": "70e56af5-616e-4f83-b227-06ba2e9eaf31",
   "metadata": {},
   "source": [
    "Abstraction in programming, particularly in the context of object-oriented programming (OOP), brings several benefits related to code organization and complexity reduction. These advantages contribute to writing maintainable, scalable, and easily understandable code. Here are some key benefits of abstraction:\n",
    "\n",
    "Code Modularity:\n",
    "\n",
    "Abstraction encourages the creation of modular code by breaking down a system into smaller, manageable components (classes or modules).\n",
    "Each module encapsulates a specific functionality and hides its internal details, allowing developers to focus on individual components without being overwhelmed by the entire system.\n",
    "Implementation Hiding:\n",
    "\n",
    "Abstraction helps in hiding the internal details of a class or module, exposing only what is necessary for external interactions.\n",
    "This encapsulation of implementation details reduces dependencies between different parts of the code, making it easier to modify the internals without affecting the rest of the system.\n",
    "Code Reusability:\n",
    "\n",
    "Abstraction promotes the creation of abstract classes and interfaces, defining a common interface for a set of related classes.\n",
    "This common interface allows for code reuse as multiple classes can implement the same abstract structure. Users can interact with objects of different classes through the common interface, promoting a consistent and reusable codebase.\n",
    "Enhanced Maintainability:\n",
    "\n",
    "Abstraction simplifies code maintenance by providing a clear separation between the external interface and the internal implementation.\n",
    "Changes to the internal details of a module or class don't affect external code that relies on the abstraction. This separation reduces the likelihood of introducing bugs during maintenance.\n",
    "Reduced Cognitive Load:\n",
    "\n",
    "Abstraction allows developers to focus on high-level concepts and interactions without delving into the low-level details of every component.\n",
    "It reduces the cognitive load on developers by providing a higher-level view of the system's architecture, making it easier to understand and reason about the code.\n",
    "Improved Collaboration:\n",
    "\n",
    "Abstraction facilitates collaboration among team members as it provides a common language and a clear structure for communication.\n",
    "Team members can work on different parts of the system independently, relying on the defined interfaces and abstraction, which helps in parallel development.\n",
    "Scalability:\n",
    "\n",
    "Abstraction supports scalable software development by providing a foundation for adding new features or components without disrupting existing code.\n",
    "New functionality can be integrated seamlessly by adhering to the established abstractions and interfaces, ensuring that the overall system remains cohesive and maintainable.\n",
    "Adaptability to Change:\n",
    "\n",
    "Abstraction makes a codebase more adaptable to changes and evolving requirements.\n",
    "When the system needs modification or extension, developers can focus on updating or adding new components without affecting the entire codebase. The existing abstractions act as stable points of interaction.\n",
    "In summary, abstraction is a powerful programming concept that significantly contributes to code organization and complexity reduction. It promotes modular, reusable, and maintainable code, making it easier for developers to design, implement, and extend software systems efficiently"
   ]
  },
  {
   "cell_type": "markdown",
   "id": "ab378f31-9b70-4d5c-89db-8e10819050bb",
   "metadata": {},
   "source": [
    "3. Create a Python class called `Shape` with an abstract method `calculate_area()`. Then, create child classes (e.g., `Circle`, `Rectangle`) that implement the `calculate_area()` method. Provide an example of\n",
    "using these classes."
   ]
  },
  {
   "cell_type": "code",
   "execution_count": 15,
   "id": "191f5f35-6a47-4dbf-b6f8-eae3eb7e4e72",
   "metadata": {},
   "outputs": [
    {
     "name": "stdout",
     "output_type": "stream",
     "text": [
      "Area of the Circle with radius 5: 78.50 square units\n",
      "Area of the Rectangle with length 4 and width 6: 24 square units\n"
     ]
    }
   ],
   "source": [
    "from abc import ABC, abstractmethod\n",
    "\n",
    "class Shape(ABC):\n",
    "    @abstractmethod\n",
    "    def calculate_area(self):\n",
    "        pass\n",
    "\n",
    "class Circle(Shape):\n",
    "    def __init__(self, radius):\n",
    "        self.radius = radius\n",
    "\n",
    "    def calculate_area(self):\n",
    "        return 3.14 * self.radius * self.radius\n",
    "\n",
    "class Rectangle(Shape):\n",
    "    def __init__(self, length, width):\n",
    "        self.length = length\n",
    "        self.width = width\n",
    "\n",
    "    def calculate_area(self):\n",
    "        return self.length * self.width\n",
    "\n",
    "# Example of using the Shape hierarchy\n",
    "circle = Circle(radius=5)\n",
    "rectangle = Rectangle(length=4, width=6)\n",
    "\n",
    "# Calculating and displaying areas\n",
    "print(f\"Area of the Circle with radius {circle.radius}: {circle.calculate_area():.2f} square units\")\n",
    "print(f\"Area of the Rectangle with length {rectangle.length} and width {rectangle.width}: {rectangle.calculate_area()} square units\")\n"
   ]
  },
  {
   "cell_type": "markdown",
   "id": "87ad4a83-044d-4fb9-8ce1-d1d9ce2cca05",
   "metadata": {},
   "source": [
    "4. Explain the concept of abstract classes in Python and how they are defined using the `abc` module. Provide\n",
    "an example."
   ]
  },
  {
   "cell_type": "markdown",
   "id": "7da09ea9-d293-4fed-8426-0f4192f48cc5",
   "metadata": {},
   "source": [
    "In Python, an abstract class is a class that cannot be instantiated and is meant to be subclassed by other classes. Abstract classes may contain abstract methods, which are declared but have no implementation in the abstract class itself. Subclasses of an abstract class are required to provide concrete implementations for these abstract methods.\n",
    "\n",
    "The abc module in Python provides the ABC (Abstract Base Class) metaclass and the abstractmethod decorator, which can be used to define abstract classes and abstract methods."
   ]
  },
  {
   "cell_type": "code",
   "execution_count": 16,
   "id": "291732e7-9137-486b-b70d-2033e9c16b7c",
   "metadata": {},
   "outputs": [
    {
     "name": "stdout",
     "output_type": "stream",
     "text": [
      "Circle with radius 5\n",
      "Area of the None: 78.50 square units\n",
      "Rectangle with length 4 and width 6\n",
      "Area of the None: 24 square units\n"
     ]
    }
   ],
   "source": [
    "from abc import ABC, abstractmethod\n",
    "\n",
    "class Shape(ABC):\n",
    "    @abstractmethod\n",
    "    def calculate_area(self):\n",
    "        pass\n",
    "\n",
    "    @abstractmethod\n",
    "    def display_info(self):\n",
    "        pass\n",
    "\n",
    "class Circle(Shape):\n",
    "    def __init__(self, radius):\n",
    "        self.radius = radius\n",
    "\n",
    "    def calculate_area(self):\n",
    "        return 3.14 * self.radius * self.radius\n",
    "\n",
    "    def display_info(self):\n",
    "        print(f\"Circle with radius {self.radius}\")\n",
    "\n",
    "class Rectangle(Shape):\n",
    "    def __init__(self, length, width):\n",
    "        self.length = length\n",
    "        self.width = width\n",
    "\n",
    "    def calculate_area(self):\n",
    "        return self.length * self.width\n",
    "\n",
    "    def display_info(self):\n",
    "        print(f\"Rectangle with length {self.length} and width {self.width}\")\n",
    "\n",
    "# Example of using abstract classes\n",
    "circle = Circle(radius=5)\n",
    "rectangle = Rectangle(length=4, width=6)\n",
    "\n",
    "# Calling abstract methods\n",
    "print(f\"Area of the {circle.display_info()}: {circle.calculate_area():.2f} square units\")\n",
    "print(f\"Area of the {rectangle.display_info()}: {rectangle.calculate_area()} square units\")\n"
   ]
  },
  {
   "cell_type": "markdown",
   "id": "7f0f9780-232f-47aa-be19-a5657eef9f7d",
   "metadata": {},
   "source": [
    "5. How do abstract classes differ from regular classes in Python? Discuss their use cases."
   ]
  },
  {
   "cell_type": "markdown",
   "id": "1ee74053-36d1-476a-afdf-1b6b637b3da9",
   "metadata": {},
   "source": [
    "Abstract classes and regular classes in Python differ in several key aspects, primarily related to instantiation, the presence of abstract methods, and the enforcement of certain behaviors. Here are the main differences and use cases for each:\n",
    "\n",
    "Abstract Classes:\n",
    "Instantiation:\n",
    "\n",
    "Abstract classes cannot be instantiated directly. You cannot create objects of an abstract class using the class_instance = ClassName() syntax.\n",
    "They are meant to be subclassed by other classes, and instances of these subclasses are created.\n",
    "Abstract Methods:\n",
    "\n",
    "Abstract classes may contain abstract methods, which are declared in the abstract class but have no implementation.\n",
    "Subclasses are required to provide concrete implementations for all abstract methods defined in the abstract class.\n",
    "Enforcement of Behavior:\n",
    "\n",
    "Abstract classes are useful for defining a common interface or behavior that should be shared among multiple subclasses.\n",
    "They enforce that certain methods must be implemented by any concrete (non-abstract) subclass, ensuring consistency in the structure of derived classes.\n",
    "Use Cases:\n",
    "\n",
    "Abstract classes are suitable for scenarios where you want to define a template or a common structure for a group of related classes.\n",
    "They are beneficial when you want to enforce certain methods to be implemented by all subclasses to ensure a consistent API.\n",
    "Regular Classes:\n",
    "Instantiation:\n",
    "\n",
    "Regular classes can be instantiated directly using the class_instance = ClassName() syntax.\n",
    "They can have objects created based on their blueprint.\n",
    "Methods:\n",
    "\n",
    "Regular classes can have both regular (concrete) methods with implementations and abstract methods.\n",
    "Concrete methods provide default behavior for instances of the class.\n",
    "No Enforcement of Abstract Methods:\n",
    "\n",
    "Regular classes do not enforce the implementation of specific methods, allowing more flexibility in their design.\n",
    "Subclasses are not required to provide implementations for any methods unless specified in the class itself.\n",
    "Use Cases:\n",
    "\n",
    "Regular classes are used in scenarios where you want to define a class with concrete methods and possibly allow some methods to be overridden by subclasses.\n",
    "They are suitable for situations where you don't need to enforce a specific set of methods to be implemented by all subclasses.\n",
    "Use Cases Comparison:\n",
    "Abstract Classes:\n",
    "\n",
    "Use abstract classes when you want to define a common interface or behavior that should be shared among multiple subclasses.\n",
    "Useful when you want to enforce a specific set of methods to be implemented by all subclasses, ensuring a consistent structure.\n",
    "Regular Classes:\n",
    "\n",
    "Use regular classes when you want to provide a blueprint for creating objects with both concrete and abstract methods.\n",
    "Suitable for scenarios where you want more flexibility and don't need to enforce the implementation of specific methods in all subclasses.\n",
    "In summary, abstract classes are used when you want to define a common structure and enforce specific behaviors in subclasses, while regular classes provide more flexibility and are suitable for scenarios where you don't need to enforce a specific set of methods in subclasses. The choice between them depends on the design goals and requirements of the software being developed.\n",
    "\n",
    "\n",
    "\n",
    "\n",
    "\n"
   ]
  },
  {
   "cell_type": "markdown",
   "id": "fe96c802-ac96-47c1-998e-7a4306f4c858",
   "metadata": {},
   "source": [
    "6. Create a Python class for a bank account and demonstrate abstraction by hiding the account balance and\n",
    "providing methods to deposit and withdraw funds."
   ]
  },
  {
   "cell_type": "code",
   "execution_count": 17,
   "id": "66216163-f1eb-40a9-a1c2-20e2ff780f21",
   "metadata": {},
   "outputs": [
    {
     "name": "stdout",
     "output_type": "stream",
     "text": [
      "Deposited $1000. New balance: $1000\n",
      "Withdrew $500. New balance: $500\n",
      "Deposited $200. New balance: $700\n",
      "Invalid withdrawal amount or insufficient funds.\n"
     ]
    }
   ],
   "source": [
    "from abc import ABC, abstractmethod\n",
    "\n",
    "class BankAccount(ABC):\n",
    "    def __init__(self, account_holder, account_number):\n",
    "        self.account_holder = account_holder\n",
    "        self.account_number = account_number\n",
    "        self._balance = 0  # Encapsulated variable with a single leading underscore\n",
    "\n",
    "    @property\n",
    "    def balance(self):\n",
    "        return self._balance\n",
    "\n",
    "    @abstractmethod\n",
    "    def deposit(self, amount):\n",
    "        pass\n",
    "\n",
    "    @abstractmethod\n",
    "    def withdraw(self, amount):\n",
    "        pass\n",
    "\n",
    "class SavingsAccount(BankAccount):\n",
    "    def __init__(self, account_holder, account_number, interest_rate):\n",
    "        super().__init__(account_holder, account_number)\n",
    "        self.interest_rate = interest_rate\n",
    "\n",
    "    def deposit(self, amount):\n",
    "        if amount > 0:\n",
    "            self._balance += amount\n",
    "            print(f\"Deposited ${amount}. New balance: ${self._balance}\")\n",
    "        else:\n",
    "            print(\"Invalid deposit amount.\")\n",
    "\n",
    "    def withdraw(self, amount):\n",
    "        if amount > 0 and amount <= self._balance:\n",
    "            self._balance -= amount\n",
    "            print(f\"Withdrew ${amount}. New balance: ${self._balance}\")\n",
    "        else:\n",
    "            print(\"Invalid withdrawal amount or insufficient funds.\")\n",
    "\n",
    "# Example of using the SavingsAccount class\n",
    "savings_account = SavingsAccount(account_holder=\"John Doe\", account_number=\"123456789\", interest_rate=0.02)\n",
    "\n",
    "# Deposit and withdraw funds\n",
    "savings_account.deposit(1000)\n",
    "savings_account.withdraw(500)\n",
    "savings_account.deposit(200)\n",
    "savings_account.withdraw(1500)\n"
   ]
  },
  {
   "cell_type": "markdown",
   "id": "6b0de7e3-cad7-4347-b112-f140f462504b",
   "metadata": {},
   "source": [
    "7. Discuss the concept of interface classes in Python and their role in achieving abstraction."
   ]
  },
  {
   "cell_type": "markdown",
   "id": "31494c54-e504-4818-8fc5-b6671edba567",
   "metadata": {},
   "source": [
    "In Python, the concept of interface classes is typically achieved through abstract classes, particularly those created using the abc (Abstract Base Class) module. While Python doesn't have a native interface keyword as some other programming languages do, abstract classes in Python serve a similar purpose by defining a common interface or set of methods that must be implemented by their subclasses.\n",
    "\n",
    "Role of Interface Classes in Achieving Abstraction:\n",
    "Common Interface:\n",
    "\n",
    "Interface classes define a common set of methods (abstract methods) that must be implemented by classes inheriting from them.\n",
    "This common interface establishes a contract, ensuring that all subclasses provide specific behaviors or functionality.\n",
    "Abstraction:\n",
    "\n",
    "Interface classes, being abstract classes, promote abstraction by hiding the implementation details and focusing on the essential features or methods that should be present in subclasses.\n",
    "Subclasses are responsible for providing concrete implementations for the abstract methods, thus adhering to the defined interface.\n",
    "Enforcement of Behavior:\n",
    "\n",
    "Interface classes enforce a certain behavior in their subclasses. Any class that inherits from an interface class must implement all abstract methods declared in that interface.\n",
    "This ensures consistency in the structure and behavior of related classes.\n",
    "Polymorphism:\n",
    "\n",
    "Interface classes play a key role in achieving polymorphism. Objects of different classes that implement the same interface can be treated uniformly through the common interface.\n",
    "This allows for flexibility and interchangeability of objects in a polymorphic manner"
   ]
  },
  {
   "cell_type": "code",
   "execution_count": 18,
   "id": "5fc023d1-1994-4c8a-99d3-10ff1ff3af2b",
   "metadata": {},
   "outputs": [
    {
     "name": "stdout",
     "output_type": "stream",
     "text": [
      "Circle with radius 5\n",
      "Area of the None: 78.50 square units\n",
      "Rectangle with length 4 and width 6\n",
      "Area of the None: 24.00 square units\n"
     ]
    }
   ],
   "source": [
    "from abc import ABC, abstractmethod\n",
    "\n",
    "class Shape(ABC):\n",
    "    @abstractmethod\n",
    "    def calculate_area(self):\n",
    "        pass\n",
    "\n",
    "    @abstractmethod\n",
    "    def display_info(self):\n",
    "        pass\n",
    "\n",
    "class Circle(Shape):\n",
    "    def __init__(self, radius):\n",
    "        self.radius = radius\n",
    "\n",
    "    def calculate_area(self):\n",
    "        return 3.14 * self.radius * self.radius\n",
    "\n",
    "    def display_info(self):\n",
    "        print(f\"Circle with radius {self.radius}\")\n",
    "\n",
    "class Rectangle(Shape):\n",
    "    def __init__(self, length, width):\n",
    "        self.length = length\n",
    "        self.width = width\n",
    "\n",
    "    def calculate_area(self):\n",
    "        return self.length * self.width\n",
    "\n",
    "    def display_info(self):\n",
    "        print(f\"Rectangle with length {self.length} and width {self.width}\")\n",
    "\n",
    "# Example of using the interface class\n",
    "circle = Circle(radius=5)\n",
    "rectangle = Rectangle(length=4, width=6)\n",
    "\n",
    "# Using polymorphism through the common interface\n",
    "shapes = [circle, rectangle]\n",
    "for shape in shapes:\n",
    "    print(f\"Area of the {shape.display_info()}: {shape.calculate_area():.2f} square units\")\n"
   ]
  },
  {
   "cell_type": "markdown",
   "id": "7d63638f-73a0-4919-9cb7-0af4aa549ce9",
   "metadata": {},
   "source": [
    "8. Create a Python class hierarchy for animals and implement abstraction by defining common methods (e.g., `eat()`, `sleep()`) in an abstract base class."
   ]
  },
  {
   "cell_type": "code",
   "execution_count": 20,
   "id": "6052648e-b947-49e2-bef6-a7a4bf2842b3",
   "metadata": {},
   "outputs": [
    {
     "name": "stdout",
     "output_type": "stream",
     "text": [
      "Lion the mammal makes a sound\n",
      "Lion the mammal is eating\n",
      "Lion is sleeping\n",
      "Parrot the bird sings\n",
      "Parrot the bird is pecking at seeds\n",
      "Parrot is sleeping\n",
      "Snake the reptile hisses\n",
      "Snake the reptile is hunting for prey\n",
      "Snake is sleeping\n"
     ]
    }
   ],
   "source": [
    "from abc import ABC, abstractmethod\n",
    "\n",
    "class Animal(ABC):\n",
    "    def __init__(self, name):\n",
    "        self.name = name\n",
    "\n",
    "    @abstractmethod\n",
    "    def make_sound(self):\n",
    "        pass\n",
    "\n",
    "    @abstractmethod\n",
    "    def eat(self):\n",
    "        pass\n",
    "\n",
    "    def sleep(self):\n",
    "        print(f\"{self.name} is sleeping\")\n",
    "\n",
    "class Mammal(Animal):\n",
    "    def __init__(self, name):\n",
    "        super().__init__(name)\n",
    "\n",
    "    def make_sound(self):\n",
    "        print(f\"{self.name} the mammal makes a sound\")\n",
    "\n",
    "    def eat(self):\n",
    "        print(f\"{self.name} the mammal is eating\")\n",
    "\n",
    "class Bird(Animal):\n",
    "    def __init__(self, name):\n",
    "        super().__init__(name)\n",
    "\n",
    "    def make_sound(self):\n",
    "        print(f\"{self.name} the bird sings\")\n",
    "\n",
    "    def eat(self):\n",
    "        print(f\"{self.name} the bird is pecking at seeds\")\n",
    "\n",
    "class Reptile(Animal):\n",
    "    def __init__(self, name):\n",
    "        super().__init__(name)\n",
    "\n",
    "    def make_sound(self):\n",
    "        print(f\"{self.name} the reptile hisses\")\n",
    "\n",
    "    def eat(self):\n",
    "        print(f\"{self.name} the reptile is hunting for prey\")\n",
    "\n",
    "# Example of using the Animal hierarchy\n",
    "mammal = Mammal(\"Lion\")\n",
    "bird = Bird(\"Parrot\")\n",
    "reptile = Reptile(\"Snake\")\n",
    "\n",
    "# Performing common actions\n",
    "mammal.make_sound()\n",
    "mammal.eat()\n",
    "mammal.sleep()\n",
    "\n",
    "bird.make_sound()\n",
    "bird.eat()\n",
    "bird.sleep()\n",
    "\n",
    "reptile.make_sound()\n",
    "reptile.eat()\n",
    "reptile.sleep()\n"
   ]
  },
  {
   "cell_type": "markdown",
   "id": "fab6fdce-2f45-41d5-b0e6-05dbe5d62d39",
   "metadata": {},
   "source": [
    "9. Explain the significance of encapsulation in achieving abstraction. Provide examples."
   ]
  },
  {
   "cell_type": "markdown",
   "id": "067a86df-c9d2-4cff-bafe-78186c651636",
   "metadata": {},
   "source": [
    "Encapsulation is a fundamental concept in object-oriented programming (OOP) that involves bundling the data (attributes) and methods (functions) that operate on the data into a single unit known as a class. The primary goal of encapsulation is to hide the internal details of an object and provide a well-defined external interface, which promotes information hiding and abstraction.\n",
    "\n",
    "Here's how encapsulation contributes to achieving abstraction:\n",
    "\n",
    "Data Hiding:\n",
    "\n",
    "Encapsulation allows the bundling of data and methods within a class. The internal details of the class are hidden from the outside world.\n",
    "\n",
    "The implementation details are encapsulated, and only the essential information is exposed through the class's public interface.\n",
    "\n",
    "This helps in preventing unauthorized access to the internal state of an object and ensures that the object's state is manipulated only through well-defined methods."
   ]
  },
  {
   "cell_type": "code",
   "execution_count": 1,
   "id": "387e2d98-a0e0-4eb9-a3de-b89ea804b182",
   "metadata": {},
   "outputs": [],
   "source": [
    "class BankAccount:\n",
    "    def __init__(self, balance):\n",
    "        self._balance = balance  # Encapsulation of balance\n",
    "\n",
    "    def deposit(self, amount):\n",
    "        # Implementation details hidden\n",
    "        self._balance += amount\n",
    "\n",
    "    def withdraw(self, amount):\n",
    "        # Implementation details hidden\n",
    "        self._balance -= amount\n",
    "\n",
    "    def get_balance(self):\n",
    "        return self._balance\n"
   ]
  },
  {
   "cell_type": "markdown",
   "id": "242b5447-b068-4c3c-8146-5f5d147db390",
   "metadata": {},
   "source": [
    "Abstraction:\n",
    "\n",
    "Abstraction involves simplifying complex systems by modeling classes based on real-world entities.\n",
    "\n",
    "Encapsulation enables abstraction by allowing the creation of classes with a clear and well-defined interface. Users of the class interact with the object through this interface without needing to understand the internal implementation details."
   ]
  },
  {
   "cell_type": "code",
   "execution_count": 2,
   "id": "553608d1-1fe9-4c2d-a672-c0bcac958b6c",
   "metadata": {},
   "outputs": [
    {
     "name": "stdout",
     "output_type": "stream",
     "text": [
      "1300\n"
     ]
    }
   ],
   "source": [
    "# Usage of BankAccount class without knowing its internal details\n",
    "account = BankAccount(1000)\n",
    "account.deposit(500)\n",
    "account.withdraw(200)\n",
    "print(account.get_balance())  # Users interact with the class through a simple interface\n"
   ]
  },
  {
   "cell_type": "markdown",
   "id": "771f0c58-4815-4170-95ff-d58f2eaefa3f",
   "metadata": {},
   "source": [
    "Modularity:\n",
    "\n",
    "Encapsulation promotes modularity by encapsulating related functionality within a single class.\n",
    "\n",
    "Changes to the internal implementation of a class do not affect the external code that uses the class, as long as the class's interface remains unchanged.\n",
    "\n",
    "This modularity makes it easier to understand, maintain, and extend the codebase."
   ]
  },
  {
   "cell_type": "code",
   "execution_count": 3,
   "id": "77cb605e-b268-4e69-bced-3a358a351196",
   "metadata": {},
   "outputs": [
    {
     "ename": "IndentationError",
     "evalue": "expected an indented block after function definition on line 6 (4174352968.py, line 9)",
     "output_type": "error",
     "traceback": [
      "\u001b[0;36m  Cell \u001b[0;32mIn[3], line 9\u001b[0;36m\u001b[0m\n\u001b[0;31m    def drive(self):\u001b[0m\n\u001b[0m    ^\u001b[0m\n\u001b[0;31mIndentationError\u001b[0m\u001b[0;31m:\u001b[0m expected an indented block after function definition on line 6\n"
     ]
    }
   ],
   "source": [
    "class Car:\n",
    "    def __init__(self, make, model):\n",
    "        self._make = make\n",
    "        self._model = model\n",
    "\n",
    "    def start_engine(self):\n",
    "        # Implementation details for starting the engine\n",
    "\n",
    "    def drive(self):\n",
    "        # Implementation details for driving the car\n",
    "\n",
    "# External code interacts with the Car class without knowing the internal details\n",
    "my_car = Car(\"Toyota\", \"Camry\")\n",
    "my_car.start_engine()\n",
    "my_car.drive()\n"
   ]
  },
  {
   "cell_type": "markdown",
   "id": "2c261461-6d46-4e66-b099-4c5d0bd7f66b",
   "metadata": {},
   "source": [
    "10. What is the purpose of abstract methods, and how do they enforce abstraction in Python classes?"
   ]
  },
  {
   "cell_type": "markdown",
   "id": "4089dd3b-cdc6-4dbd-aa89-50ca1312db1b",
   "metadata": {},
   "source": [
    "Abstract methods in Python are methods declared in an abstract base class (ABC) that have no implementation in the base class itself. Instead, the responsibility for providing an implementation lies with the subclasses that inherit from the abstract base class. Abstract methods are a way to define a common interface that must be implemented by all concrete (non-abstract) subclasses, enforcing a level of abstraction and ensuring that certain methods are available in each derived class.\n",
    "\n",
    "Here's how abstract methods serve the purpose of enforcing abstraction in Python classes:\n",
    "\n",
    "Defining a Common Interface:\n",
    "\n",
    "Abstract methods define a common interface that subclasses must adhere to.\n",
    "\n",
    "The abstract base class outlines what methods must be implemented by its subclasses, establishing a contract that all derived classes must follow."
   ]
  },
  {
   "cell_type": "code",
   "execution_count": 4,
   "id": "0a5e7e3a-cf57-4a89-b692-a04923a4f55d",
   "metadata": {},
   "outputs": [],
   "source": [
    "from abc import ABC, abstractmethod\n",
    "\n",
    "class Shape(ABC):\n",
    "    @abstractmethod\n",
    "    def area(self):\n",
    "        pass\n",
    "\n",
    "    @abstractmethod\n",
    "    def perimeter(self):\n",
    "        pass\n"
   ]
  },
  {
   "cell_type": "markdown",
   "id": "157adedd-2139-4ea1-b2cd-d8cc021f4eba",
   "metadata": {},
   "source": [
    "Forcing Implementation in Subclasses:\n",
    "\n",
    "Subclasses that inherit from an abstract base class with abstract methods must provide concrete implementations for those methods.\n",
    "\n",
    "If a subclass fails to implement any of the abstract methods, the Python interpreter raises an TypeError during instantiation, indicating that the subclass is not fully implementing the abstract interface."
   ]
  },
  {
   "cell_type": "code",
   "execution_count": 5,
   "id": "1fb5d92a-e427-4d11-bee1-f637bbd781b7",
   "metadata": {},
   "outputs": [],
   "source": [
    "class Circle(Shape):\n",
    "    def __init__(self, radius):\n",
    "        self.radius = radius\n",
    "\n",
    "    def area(self):\n",
    "        return 3.14 * self.radius * self.radius\n",
    "\n",
    "    def perimeter(self):\n",
    "        return 2 * 3.14 * self.radius\n"
   ]
  },
  {
   "cell_type": "markdown",
   "id": "b3c04e7c-5101-46cc-8e6d-2a466e761fd0",
   "metadata": {},
   "source": [
    "Ensuring Consistency Across Subclasses:\n",
    "\n",
    "Abstract methods help ensure consistency in the interface across all subclasses.\n",
    "\n",
    "Since all subclasses must implement the same set of abstract methods, it guarantees a consistent structure and behavior across the hierarchy of related classes."
   ]
  },
  {
   "cell_type": "code",
   "execution_count": 6,
   "id": "fe8d30bd-b5db-4e76-8553-35091cd6c7ea",
   "metadata": {},
   "outputs": [],
   "source": [
    "class Square(Shape):\n",
    "    def __init__(self, side_length):\n",
    "        self.side_length = side_length\n",
    "\n",
    "    def area(self):\n",
    "        return self.side_length * self.side_length\n",
    "\n",
    "    def perimeter(self):\n",
    "        return 4 * self.side_length\n"
   ]
  },
  {
   "cell_type": "markdown",
   "id": "2bfb206f-190c-4ba3-8233-b9edaa30ec32",
   "metadata": {},
   "source": [
    "Facilitating Polymorphism:\n",
    "\n",
    "Abstract methods contribute to the concept of polymorphism, allowing objects of different classes to be treated interchangeably as long as they adhere to a common interface.\n",
    "\n",
    "Code that works with the abstract base class can be written without detailed knowledge of the concrete subclasses, promoting a higher level of abstraction."
   ]
  },
  {
   "cell_type": "code",
   "execution_count": 7,
   "id": "86608bc7-c8ba-43a5-a960-fad282fc18d6",
   "metadata": {},
   "outputs": [
    {
     "name": "stdout",
     "output_type": "stream",
     "text": [
      "Area: 78.5\n",
      "Perimeter: 31.400000000000002\n",
      "Area: 16\n",
      "Perimeter: 16\n"
     ]
    }
   ],
   "source": [
    "def print_shape_info(shape):\n",
    "    print(f\"Area: {shape.area()}\")\n",
    "    print(f\"Perimeter: {shape.perimeter()}\")\n",
    "\n",
    "circle = Circle(5)\n",
    "square = Square(4)\n",
    "\n",
    "print_shape_info(circle)\n",
    "print_shape_info(square)\n"
   ]
  },
  {
   "cell_type": "markdown",
   "id": "001eb39e-43b7-4bd0-b690-fe33a3fdc33b",
   "metadata": {},
   "source": [
    "11. Create a Python class for a vehicle system and demonstrate abstraction by defining common methods (e.g., 'start()' ,'stop()') in an abstract base class."
   ]
  },
  {
   "cell_type": "code",
   "execution_count": 8,
   "id": "54414efd-f2e4-47c5-b158-e1933e954f11",
   "metadata": {},
   "outputs": [
    {
     "name": "stdout",
     "output_type": "stream",
     "text": [
      "Car engine started\n",
      "Car engine stopped\n",
      "\n",
      "\n",
      "Motorcycle engine started\n",
      "Motorcycle engine stopped\n"
     ]
    }
   ],
   "source": [
    "from abc import ABC, abstractmethod\n",
    "\n",
    "class Vehicle(ABC):\n",
    "    @abstractmethod\n",
    "    def start(self):\n",
    "        pass\n",
    "\n",
    "    @abstractmethod\n",
    "    def stop(self):\n",
    "        pass\n",
    "\n",
    "class Car(Vehicle):\n",
    "    def start(self):\n",
    "        print(\"Car engine started\")\n",
    "\n",
    "    def stop(self):\n",
    "        print(\"Car engine stopped\")\n",
    "\n",
    "class Motorcycle(Vehicle):\n",
    "    def start(self):\n",
    "        print(\"Motorcycle engine started\")\n",
    "\n",
    "    def stop(self):\n",
    "        print(\"Motorcycle engine stopped\")\n",
    "\n",
    "# Example usage\n",
    "car = Car()\n",
    "motorcycle = Motorcycle()\n",
    "\n",
    "car.start()\n",
    "car.stop()\n",
    "\n",
    "print(\"\\n\")\n",
    "\n",
    "motorcycle.start()\n",
    "motorcycle.stop()\n"
   ]
  },
  {
   "cell_type": "markdown",
   "id": "cf378ed0-3bd4-4843-8e91-b0c72f6e65a6",
   "metadata": {},
   "source": [
    "12. Describe the use of abstract properties in Python and how they can be employed in abstract classes."
   ]
  },
  {
   "cell_type": "markdown",
   "id": "b5cb3095-e486-493f-af61-ab0a8b984e31",
   "metadata": {},
   "source": [
    "Abstract properties in Python are a way to define abstract attributes in abstract base classes. Like abstract methods, abstract properties allow you to define a common interface that subclasses must adhere to. Abstract properties ensure that concrete subclasses provide a specific attribute while leaving the implementation details to the subclasses.\n",
    "\n",
    "Here's how abstract properties work and how they can be employed in abstract classes:\n",
    "\n",
    "Definition of Abstract Properties:\n",
    "\n",
    "Abstract properties are defined using the @property decorator along with the @abstractmethod decorator in an abstract base class.\n",
    "\n",
    "The @property decorator marks a method as a property, and the @abstractmethod decorator enforces that the property must be implemented in concrete subclasses."
   ]
  },
  {
   "cell_type": "code",
   "execution_count": 9,
   "id": "b13f5b20-1400-4dd6-8e44-8f4f2e5fad8c",
   "metadata": {},
   "outputs": [],
   "source": [
    "from abc import ABC, abstractmethod, abstractproperty\n",
    "\n",
    "class Shape(ABC):\n",
    "    @abstractproperty\n",
    "    def area(self):\n",
    "        pass\n",
    "\n",
    "    @abstractproperty\n",
    "    def perimeter(self):\n",
    "        pass\n"
   ]
  },
  {
   "cell_type": "markdown",
   "id": "81042e52-1b80-434b-b143-5337e52f2638",
   "metadata": {},
   "source": [
    "Concrete Implementation in Subclasses:\n",
    "\n",
    "Subclasses inheriting from the abstract base class must provide concrete implementations for the abstract properties.\n",
    "\n",
    "Abstract properties, like abstract methods, ensure that the required attributes are present in each concrete subclass."
   ]
  },
  {
   "cell_type": "code",
   "execution_count": 10,
   "id": "f9f1d5c4-58c2-4ab8-8d20-c7d92904cfd8",
   "metadata": {},
   "outputs": [],
   "source": [
    "class Circle(Shape):\n",
    "    def __init__(self, radius):\n",
    "        self._radius = radius\n",
    "\n",
    "    @property\n",
    "    def area(self):\n",
    "        return 3.14 * self._radius * self._radius\n",
    "\n",
    "    @property\n",
    "    def perimeter(self):\n",
    "        return 2 * 3.14 * self._radius\n"
   ]
  },
  {
   "cell_type": "markdown",
   "id": "f2070d65-7ed7-4c09-a56c-bcdd672a7c89",
   "metadata": {},
   "source": [
    "Enforcement of Interface:\n",
    "\n",
    "Abstract properties contribute to enforcing a common interface across subclasses.\n",
    "\n",
    "Subclasses must provide concrete implementations for the properties, ensuring that they adhere to the expected structure."
   ]
  },
  {
   "cell_type": "code",
   "execution_count": 11,
   "id": "a3efbadb-c587-49b3-a44e-25bf03a2ebe4",
   "metadata": {},
   "outputs": [],
   "source": [
    "class Square(Shape):\n",
    "    def __init__(self, side_length):\n",
    "        self._side_length = side_length\n",
    "\n",
    "    @property\n",
    "    def area(self):\n",
    "        return self._side_length * self._side_length\n",
    "\n",
    "    @property\n",
    "    def perimeter(self):\n",
    "        return 4 * self._side_length\n"
   ]
  },
  {
   "cell_type": "markdown",
   "id": "80e009f1-09d1-47a0-bcc1-69fc26586523",
   "metadata": {},
   "source": [
    "Usage of Subclasses:\n",
    "\n",
    "Code that interacts with instances of the abstract base class or its subclasses can rely on the common properties, promoting a higher level of abstraction."
   ]
  },
  {
   "cell_type": "code",
   "execution_count": 12,
   "id": "0ae2b4d9-d890-4af4-833e-acd2b72908d6",
   "metadata": {},
   "outputs": [
    {
     "name": "stdout",
     "output_type": "stream",
     "text": [
      "Area: 78.5\n",
      "Perimeter: 31.400000000000002\n",
      "\n",
      "\n",
      "Area: 16\n",
      "Perimeter: 16\n"
     ]
    }
   ],
   "source": [
    "def print_shape_info(shape):\n",
    "    print(f\"Area: {shape.area}\")\n",
    "    print(f\"Perimeter: {shape.perimeter}\")\n",
    "\n",
    "circle = Circle(5)\n",
    "square = Square(4)\n",
    "\n",
    "print_shape_info(circle)\n",
    "print(\"\\n\")\n",
    "print_shape_info(square)\n"
   ]
  },
  {
   "cell_type": "markdown",
   "id": "547813e0-84b2-4e27-b5fb-4c4dda75524c",
   "metadata": {},
   "source": [
    "13. Create a Python class hierarchy for employees in a company (e.g., manager, developer, designer) and implement abstraction by defining a common `get_salary()` method."
   ]
  },
  {
   "cell_type": "code",
   "execution_count": 13,
   "id": "c7a7eff0-5102-4c86-a342-8e1b4156104a",
   "metadata": {},
   "outputs": [
    {
     "name": "stdout",
     "output_type": "stream",
     "text": [
      "John Manager's Salary: $69000.0\n",
      "Alice Developer's Salary: $50000\n",
      "Bob Designer's Salary: $55200\n"
     ]
    }
   ],
   "source": [
    "from abc import ABC, abstractmethod\n",
    "\n",
    "class Employee(ABC):\n",
    "    def __init__(self, name, employee_id):\n",
    "        self.name = name\n",
    "        self.employee_id = employee_id\n",
    "\n",
    "    @abstractmethod\n",
    "    def get_salary(self):\n",
    "        pass\n",
    "\n",
    "class Manager(Employee):\n",
    "    def __init__(self, name, employee_id, bonus_percentage):\n",
    "        super().__init__(name, employee_id)\n",
    "        self.bonus_percentage = bonus_percentage\n",
    "\n",
    "    def get_salary(self):\n",
    "        base_salary = 60000  # Assuming a base salary for managers\n",
    "        bonus = base_salary * (self.bonus_percentage / 100)\n",
    "        return base_salary + bonus\n",
    "\n",
    "class Developer(Employee):\n",
    "    def __init__(self, name, employee_id, programming_language):\n",
    "        super().__init__(name, employee_id)\n",
    "        self.programming_language = programming_language\n",
    "\n",
    "    def get_salary(self):\n",
    "        base_salary = 50000  # Assuming a base salary for developers\n",
    "        return base_salary\n",
    "\n",
    "class Designer(Employee):\n",
    "    def __init__(self, name, employee_id, overtime_hours):\n",
    "        super().__init__(name, employee_id)\n",
    "        self.overtime_hours = overtime_hours\n",
    "\n",
    "    def get_salary(self):\n",
    "        base_salary = 55000  # Assuming a base salary for designers\n",
    "        overtime_pay = self.overtime_hours * 20  # Assuming an hourly rate for overtime\n",
    "        return base_salary + overtime_pay\n",
    "\n",
    "# Example usage\n",
    "manager = Manager(\"John Manager\", \"M001\", bonus_percentage=15)\n",
    "developer = Developer(\"Alice Developer\", \"D001\", programming_language=\"Python\")\n",
    "designer = Designer(\"Bob Designer\", \"DS001\", overtime_hours=10)\n",
    "\n",
    "print(f\"{manager.name}'s Salary: ${manager.get_salary()}\")\n",
    "print(f\"{developer.name}'s Salary: ${developer.get_salary()}\")\n",
    "print(f\"{designer.name}'s Salary: ${designer.get_salary()}\")\n"
   ]
  },
  {
   "cell_type": "markdown",
   "id": "479be8e1-7427-4247-8a8a-1297dbd5dca6",
   "metadata": {},
   "source": [
    "14. Discuss the differences between abstract classes and concrete classes in Python, including their\n",
    "instantiation."
   ]
  },
  {
   "cell_type": "markdown",
   "id": "204210af-ce17-406d-82c5-7126048ef8b3",
   "metadata": {},
   "source": [
    "Abstract Classes:\n",
    "Definition:\n",
    "\n",
    "Abstract classes are classes that cannot be instantiated on their own.\n",
    "They are typically used as base classes and may contain abstract methods or abstract properties.\n",
    "Abstract Methods:\n",
    "\n",
    "Abstract classes often include abstract methods, which are methods without a defined implementation in the abstract class.\n",
    "Subclasses must provide concrete implementations for all abstract methods defined in the abstract class.\n",
    "Instantiation:\n",
    "\n",
    "Direct instantiation of an abstract class is not allowed. Attempting to create an object of an abstract class raises a TypeError.\n",
    "Abstract classes are designed to be subclassed, and objects are instantiated from concrete subclasses that provide implementations for all abstract elements.\n",
    "Purpose:\n",
    "\n",
    "The primary purpose of abstract classes is to define a common interface and structure that should be shared by all subclasses.\n",
    "Abstract classes promote code reuse, consistency, and the enforcement of a common structure among related classes.\n",
    "Concrete Classes:\n",
    "Definition:\n",
    "\n",
    "Concrete classes are classes that can be instantiated directly.\n",
    "They have complete implementations for all methods, including any inherited abstract methods from abstract classes.\n",
    "Abstract Elements:\n",
    "\n",
    "Concrete classes may or may not have abstract methods. If a concrete class inherits from an abstract class, it must provide implementations for the abstract methods.\n",
    "Instantiation:\n",
    "\n",
    "Concrete classes can be instantiated directly using the class constructor.\n",
    "Objects of concrete classes have a complete set of methods and attributes defined in the class, including any inherited from abstract classes.\n",
    "Purpose:\n",
    "\n",
    "Concrete classes are designed to be instantiated, creating objects with specific behavior and attributes.\n",
    "They provide the actual implementation of methods and may include additional functionality beyond what is defined in any abstract classes they inherit from."
   ]
  },
  {
   "cell_type": "code",
   "execution_count": 1,
   "id": "63b283c6-b7bb-4433-90a8-67091512d75e",
   "metadata": {},
   "outputs": [
    {
     "name": "stdout",
     "output_type": "stream",
     "text": [
      "Circle Area: 78.5\n"
     ]
    }
   ],
   "source": [
    "from abc import ABC, abstractmethod\n",
    "\n",
    "# Abstract class\n",
    "class Shape(ABC):\n",
    "    @abstractmethod\n",
    "    def calculate_area(self):\n",
    "        pass\n",
    "\n",
    "# Concrete class\n",
    "class Circle(Shape):\n",
    "    def __init__(self, radius):\n",
    "        self.radius = radius\n",
    "\n",
    "    def calculate_area(self):\n",
    "        return 3.14 * self.radius * self.radius\n",
    "\n",
    "# Instantiation\n",
    "# shape = Shape()  # This would raise a TypeError since Shape is abstract and cannot be instantiated directly\n",
    "circle = Circle(radius=5)  # Circle is a concrete class and can be instantiated\n",
    "area = circle.calculate_area()\n",
    "print(f\"Circle Area: {area}\")\n"
   ]
  },
  {
   "cell_type": "markdown",
   "id": "847fd017-fe91-45bf-b7a3-13c2e8863023",
   "metadata": {},
   "source": [
    "15. Explain the concept of abstract data types (ADTs) and their role in achieving abstraction in Python."
   ]
  },
  {
   "cell_type": "markdown",
   "id": "4364fb19-0131-47d5-9435-34bae46e071f",
   "metadata": {},
   "source": [
    "Abstract Data Types (ADTs) are high-level descriptions of how data can be organized and the operations that can be performed on that data, without specifying the underlying implementation details. ADTs provide a way to abstract the behavior of data structures, focusing on what operations can be performed rather than how they are implemented. This concept plays a significant role in achieving abstraction in Python and other programming languages.\n",
    "\n",
    "Here are key aspects of ADTs and their role in achieving abstraction:\n",
    "\n",
    "Definition:\n",
    "\n",
    "An ADT defines a set of operations that can be performed on a particular type of data, without specifying how these operations are implemented.\n",
    "It emphasizes what can be done with the data rather than how it is stored or manipulated internally.\n",
    "Encapsulation:\n",
    "\n",
    "ADTs encapsulate the data and the operations into a single unit, providing a clear separation between the interface and the implementation.\n",
    "Users interact with the ADT through a well-defined set of operations, shielding them from the complexities of the internal representation.\n",
    "Abstraction:\n",
    "\n",
    "ADTs provide a level of abstraction by hiding the implementation details and exposing only the essential features through a well-defined interface.\n",
    "Users can work with the data without needing to understand the underlying complexity, promoting simplicity and ease of use.\n",
    "Modularity:\n",
    "\n",
    "ADTs support modular programming by allowing the data and associated operations to be encapsulated into a single module or class.\n",
    "Changes to the internal implementation of an ADT do not affect the external code that uses it, as long as the interface remains unchanged.\n",
    "Reusability:\n",
    "\n",
    "ADTs promote code reuse by providing reusable building blocks for creating different applications.\n",
    "Once an ADT is defined, it can be used across various contexts without modification, fostering a more modular and scalable codebase.\n",
    "Examples of ADTs:\n",
    "\n",
    "Common examples of ADTs include stacks, queues, lists, sets, and dictionaries.\n",
    "For example, a stack ADT defines operations like push and pop without specifying whether the stack is implemented using an array or a linked list."
   ]
  },
  {
   "cell_type": "code",
   "execution_count": 2,
   "id": "70892d3f-acb2-4879-ab8b-9c705fb61315",
   "metadata": {},
   "outputs": [
    {
     "name": "stdout",
     "output_type": "stream",
     "text": [
      "30\n",
      "20\n"
     ]
    }
   ],
   "source": [
    "# Example of a Stack ADT in Python\n",
    "class Stack:\n",
    "    def __init__(self):\n",
    "        self.items = []\n",
    "\n",
    "    def push(self, item):\n",
    "        self.items.append(item)\n",
    "\n",
    "    def pop(self):\n",
    "        if not self.is_empty():\n",
    "            return self.items.pop()\n",
    "\n",
    "    def is_empty(self):\n",
    "        return len(self.items) == 0\n",
    "\n",
    "    def peek(self):\n",
    "        if not self.is_empty():\n",
    "            return self.items[-1]\n",
    "\n",
    "    def size(self):\n",
    "        return len(self.items)\n",
    "\n",
    "# Using the Stack ADT\n",
    "stack = Stack()\n",
    "stack.push(10)\n",
    "stack.push(20)\n",
    "stack.push(30)\n",
    "\n",
    "print(stack.pop())  # Output: 30\n",
    "print(stack.peek())  # Output: 20\n"
   ]
  },
  {
   "cell_type": "markdown",
   "id": "df25b76b-fb90-4803-ac1d-02599e09e373",
   "metadata": {},
   "source": [
    "16. Create a Python class for a computer system, demonstrating abstraction by defining common methods (e.g., `power_on()`, `shutdown()`) in an abstract base class."
   ]
  },
  {
   "cell_type": "code",
   "execution_count": 3,
   "id": "f48f3efd-4711-4918-b010-f60bfe02812a",
   "metadata": {},
   "outputs": [
    {
     "name": "stdout",
     "output_type": "stream",
     "text": [
      "Powering on Dell OptiPlex desktop.\n",
      "Shutting down Dell OptiPlex desktop.\n",
      "\n",
      "\n",
      "Powering on HP EliteBook laptop.\n",
      "Shutting down HP EliteBook laptop.\n"
     ]
    }
   ],
   "source": [
    "from abc import ABC, abstractmethod\n",
    "\n",
    "class Computer(ABC):\n",
    "    def __init__(self, brand, model):\n",
    "        self.brand = brand\n",
    "        self.model = model\n",
    "\n",
    "    @abstractmethod\n",
    "    def power_on(self):\n",
    "        pass\n",
    "\n",
    "    @abstractmethod\n",
    "    def shutdown(self):\n",
    "        pass\n",
    "\n",
    "class Desktop(Computer):\n",
    "    def __init__(self, brand, model, tower_size):\n",
    "        super().__init__(brand, model)\n",
    "        self.tower_size = tower_size\n",
    "\n",
    "    def power_on(self):\n",
    "        print(f\"Powering on {self.brand} {self.model} desktop.\")\n",
    "\n",
    "    def shutdown(self):\n",
    "        print(f\"Shutting down {self.brand} {self.model} desktop.\")\n",
    "\n",
    "class Laptop(Computer):\n",
    "    def __init__(self, brand, model, battery_life):\n",
    "        super().__init__(brand, model)\n",
    "        self.battery_life = battery_life\n",
    "\n",
    "    def power_on(self):\n",
    "        print(f\"Powering on {self.brand} {self.model} laptop.\")\n",
    "\n",
    "    def shutdown(self):\n",
    "        print(f\"Shutting down {self.brand} {self.model} laptop.\")\n",
    "\n",
    "# Example usage\n",
    "desktop = Desktop(\"Dell\", \"OptiPlex\", tower_size=\"Mid Tower\")\n",
    "laptop = Laptop(\"HP\", \"EliteBook\", battery_life=\"8 hours\")\n",
    "\n",
    "desktop.power_on()\n",
    "desktop.shutdown()\n",
    "\n",
    "print(\"\\n\")\n",
    "\n",
    "laptop.power_on()\n",
    "laptop.shutdown()\n"
   ]
  },
  {
   "cell_type": "markdown",
   "id": "1d4eb8a7-9d65-4c8b-b403-fe72d65b682f",
   "metadata": {},
   "source": [
    "17. Discuss the benefits of using abstraction in large-scale software development projects."
   ]
  },
  {
   "cell_type": "markdown",
   "id": "4226eacd-370b-4c9a-a73e-482ac73a6e9a",
   "metadata": {},
   "source": [
    "Abstraction is a powerful concept in large-scale software development projects, offering numerous benefits that contribute to the efficiency, maintainability, and scalability of the codebase. Here are several advantages of using abstraction in large-scale software development:\n",
    "\n",
    "Modularity and Encapsulation:\n",
    "\n",
    "Abstraction enables modularity by allowing developers to encapsulate the implementation details of a module or component.\n",
    "Modules can be developed, tested, and maintained independently, promoting a clean separation of concerns.\n",
    "Code Reusability:\n",
    "\n",
    "Abstracting common functionalities into reusable components or libraries enhances code reusability.\n",
    "Reusing abstracted modules across the project or in different projects reduces redundancy, saves development time, and improves consistency.\n",
    "Simplified Complexity:\n",
    "\n",
    "Abstraction helps in managing and simplifying complexity by hiding unnecessary details and exposing only essential features through a well-defined interface.\n",
    "Developers can work with higher-level abstractions without being bogged down by the intricacies of the underlying implementation.\n",
    "Ease of Maintenance:\n",
    "\n",
    "Abstracting functionality into modular components with clear interfaces makes it easier to understand and maintain the code.\n",
    "Updates or modifications to one module have minimal impact on other parts of the system, reducing the risk of unintended side effects.\n",
    "Enhanced Collaboration:\n",
    "\n",
    "Abstraction facilitates collaboration among developers and teams by providing a common language and structure.\n",
    "Teams can work independently on different modules, and as long as the interfaces remain consistent, integration is smoother.\n",
    "Adaptability to Changes:\n",
    "\n",
    "Abstracted code is generally more adaptable to changes and updates.\n",
    "When requirements evolve or technologies change, modifications can be made to specific modules or components without affecting the entire system.\n",
    "Promotion of Best Practices:\n",
    "\n",
    "Abstraction encourages the use of best practices in software design, such as adhering to the SOLID principles (Single Responsibility, Open/Closed, Liskov Substitution, Interface Segregation, Dependency Inversion).\n",
    "This promotes maintainability, extensibility, and a clean, well-structured codebase.\n",
    "Testing and Debugging:\n",
    "\n",
    "Abstracted components are typically easier to test and debug in isolation, allowing for more effective unit testing.\n",
    "Isolated testing reduces the complexity of identifying and fixing issues.\n",
    "Improved Scalability:\n",
    "\n",
    "Abstraction supports scalability by providing a foundation for adding new features or scaling the system.\n",
    "New functionality can be added without significant disruption to existing code, making it easier to expand the software.\n",
    "Better Documentation:\n",
    "\n",
    "Abstraction encourages the creation of clear and concise documentation for interfaces, making it easier for developers to understand and use components.\n",
    "Well-documented interfaces serve as a reference for developers working on different parts of the system.\n",
    "In summary, abstraction is a key enabler in large-scale software development projects, providing a structured approach that enhances modularity, reusability, maintainability, and collaboration. It helps manage complexity, adapt to changes, and promotes the use of best practices, contributing to the long-term success of software projects."
   ]
  },
  {
   "cell_type": "markdown",
   "id": "ff1ffcdd-7375-4df7-b4f1-328c5c830366",
   "metadata": {},
   "source": [
    "18. Explain how abstraction enhances code reusability and modularity in Python programs."
   ]
  },
  {
   "cell_type": "markdown",
   "id": "1c0b4f1b-259b-4a4b-9bec-fd86ab226249",
   "metadata": {},
   "source": [
    "Abstraction enhances code reusability and modularity in Python programs by providing a mechanism to separate high-level concepts and interfaces from low-level implementation details. This separation allows developers to create modular, reusable components with well-defined interfaces. Here are ways in which abstraction contributes to code reusability and modularity in Python:\n",
    "\n",
    "1. Encapsulation of Implementation:\n",
    "Abstraction allows developers to encapsulate the implementation details within modules or classes.\n",
    "By defining clear interfaces, the internal workings of a module or class are hidden from the outside, promoting modularity.\n",
    "2. Clear Interface Definition:\n",
    "Abstracting functionality involves defining clear and well-documented interfaces for modules, classes, or functions.\n",
    "These interfaces serve as contracts that specify how components should be used, promoting a standard way of interacting with them.\n",
    "3. Separation of Concerns:\n",
    "Abstraction promotes the separation of concerns by breaking down a complex system into smaller, manageable components.\n",
    "Each component focuses on a specific aspect of functionality, making it easier to understand, maintain, and reuse.\n",
    "4. Code Organization:\n",
    "Abstraction facilitates the organization of code into meaningful units, making it easier to navigate and reason about.\n",
    "Modules and classes become self-contained units with well-defined responsibilities.\n",
    "5. Inheritance and Polymorphism:\n",
    "In Python, abstraction is often achieved through features like inheritance and polymorphism.\n",
    "Inheritance allows the creation of subclasses that inherit behavior from a superclass, promoting code reuse."
   ]
  },
  {
   "cell_type": "code",
   "execution_count": 4,
   "id": "fff6a604-5ab1-4225-94c0-31d485ba7c9b",
   "metadata": {},
   "outputs": [],
   "source": [
    "class Animal:\n",
    "    def speak(self):\n",
    "        pass\n",
    "\n",
    "class Dog(Animal):\n",
    "    def speak(self):\n",
    "        return \"Woof!\"\n",
    "\n",
    "class Cat(Animal):\n",
    "    def speak(self):\n",
    "        return \"Meow!\"\n"
   ]
  },
  {
   "cell_type": "markdown",
   "id": "666dbf47-ef84-45a9-9b60-e11b75d53013",
   "metadata": {},
   "source": [
    "6. Function and Class Abstraction:\n",
    "Functions and classes can abstract functionality, encapsulating implementation details.\n",
    "Functions with well-defined input and output make it easy to reuse logic without duplicating code."
   ]
  },
  {
   "cell_type": "code",
   "execution_count": 5,
   "id": "d8eb79b8-297c-437d-8d82-cf411b477e75",
   "metadata": {},
   "outputs": [],
   "source": [
    "def calculate_area(radius):\n",
    "    return 3.14 * radius ** 2\n"
   ]
  },
  {
   "cell_type": "markdown",
   "id": "a91eef35-8757-4650-8fec-abc58ce67fbe",
   "metadata": {},
   "source": [
    "7. Library and Framework Usage:\n",
    "Abstraction is evident in the use of libraries and frameworks, which provide high-level functionality without exposing internal details.\n",
    "Developers can reuse these components to avoid reinventing the wheel and focus on solving specific problems.\n",
    "8. Decorator Pattern:\n",
    "Decorators in Python offer a form of abstraction by allowing the addition of new functionality to functions or methods without modifying their structure.\n",
    "This promotes modularity and the reuse of existing functions."
   ]
  },
  {
   "cell_type": "code",
   "execution_count": 6,
   "id": "dbe5ee43-e90c-4e53-9057-054a89d5c88b",
   "metadata": {},
   "outputs": [],
   "source": [
    "def logger(func):\n",
    "    def wrapper(*args, **kwargs):\n",
    "        print(f\"Calling {func.__name__}\")\n",
    "        result = func(*args, **kwargs)\n",
    "        print(f\"{func.__name__} returned {result}\")\n",
    "        return result\n",
    "    return wrapper\n",
    "\n",
    "@logger\n",
    "def add(a, b):\n",
    "    return a + b\n"
   ]
  },
  {
   "cell_type": "markdown",
   "id": "209d4d3b-380e-4d36-9302-f7560da0ef5b",
   "metadata": {},
   "source": [
    "9. Design Patterns:\n",
    "Abstraction is a fundamental concept in design patterns, such as the Factory Pattern or Observer Pattern.\n",
    "Design patterns provide reusable solutions to common problems, emphasizing abstraction and modularity."
   ]
  },
  {
   "cell_type": "markdown",
   "id": "038dfc84-b7fa-4e92-b527-f02bb3f26e51",
   "metadata": {},
   "source": [
    "19. Create a Python class for a library system, implementing abstraction by defining common methods (e.g., 'add_book()' , 'borrow_book()' ) in an abstract base class. "
   ]
  },
  {
   "cell_type": "code",
   "execution_count": 7,
   "id": "0dc8e3c9-f855-4f82-b2dd-c14a8ac28f73",
   "metadata": {},
   "outputs": [
    {
     "name": "stdout",
     "output_type": "stream",
     "text": [
      "Added book: The Great Gatsby by F. Scott Fitzgerald\n",
      "Borrowed book: The Great Gatsby\n",
      "\n",
      "\n",
      "Added DVD: Inception directed by Christopher Nolan\n",
      "Borrowed DVD: Inception\n"
     ]
    }
   ],
   "source": [
    "from abc import ABC, abstractmethod\n",
    "\n",
    "class LibraryItem(ABC):\n",
    "    def __init__(self, title, item_id):\n",
    "        self.title = title\n",
    "        self.item_id = item_id\n",
    "        self.is_available = True\n",
    "\n",
    "    @abstractmethod\n",
    "    def add_item(self):\n",
    "        pass\n",
    "\n",
    "    @abstractmethod\n",
    "    def borrow_item(self):\n",
    "        pass\n",
    "\n",
    "class Book(LibraryItem):\n",
    "    def __init__(self, title, item_id, author):\n",
    "        super().__init__(title, item_id)\n",
    "        self.author = author\n",
    "\n",
    "    def add_item(self):\n",
    "        print(f\"Added book: {self.title} by {self.author}\")\n",
    "\n",
    "    def borrow_item(self):\n",
    "        if self.is_available:\n",
    "            print(f\"Borrowed book: {self.title}\")\n",
    "            self.is_available = False\n",
    "        else:\n",
    "            print(f\"{self.title} is not available for borrowing\")\n",
    "\n",
    "class DVD(LibraryItem):\n",
    "    def __init__(self, title, item_id, director):\n",
    "        super().__init__(title, item_id)\n",
    "        self.director = director\n",
    "\n",
    "    def add_item(self):\n",
    "        print(f\"Added DVD: {self.title} directed by {self.director}\")\n",
    "\n",
    "    def borrow_item(self):\n",
    "        if self.is_available:\n",
    "            print(f\"Borrowed DVD: {self.title}\")\n",
    "            self.is_available = False\n",
    "        else:\n",
    "            print(f\"{self.title} is not available for borrowing\")\n",
    "\n",
    "# Example usage\n",
    "book = Book(\"The Great Gatsby\", \"B001\", \"F. Scott Fitzgerald\")\n",
    "dvd = DVD(\"Inception\", \"D001\", \"Christopher Nolan\")\n",
    "\n",
    "book.add_item()\n",
    "book.borrow_item()\n",
    "\n",
    "print(\"\\n\")\n",
    "\n",
    "dvd.add_item()\n",
    "dvd.borrow_item()\n"
   ]
  },
  {
   "cell_type": "markdown",
   "id": "8d157fdd-860a-4395-8080-33d1ec6fa141",
   "metadata": {},
   "source": [
    "20. Describe the concept of method abstraction in Python and how it relates to polymorphism."
   ]
  },
  {
   "cell_type": "markdown",
   "id": "f0b7dd17-c595-4392-87eb-9f2522626d27",
   "metadata": {},
   "source": [
    "Method abstraction in Python refers to the practice of using abstract methods in abstract classes or interfaces to define a common interface for a group of related classes. Abstract methods are declared in the abstract class but lack a specific implementation. Instead, concrete subclasses are required to provide their own implementation for these abstract methods. This concept is closely related to polymorphism, a fundamental principle of object-oriented programming.\n",
    "\n",
    "Method Abstraction:\n",
    "Abstract Classes and Abstract Methods:\n",
    "\n",
    "Abstract classes in Python are classes that may have abstract methods.\n",
    "Abstract methods are defined using the @abstractmethod decorator in the abstract class.\n",
    "Abstract methods lack an implementation in the abstract class, and their purpose is to provide a common interface for concrete subclasses."
   ]
  },
  {
   "cell_type": "code",
   "execution_count": 8,
   "id": "4d2beb71-acea-401e-adae-98b0e1bd0acc",
   "metadata": {},
   "outputs": [],
   "source": [
    "from abc import ABC, abstractmethod\n",
    "\n",
    "class Shape(ABC):\n",
    "    @abstractmethod\n",
    "    def area(self):\n",
    "        pass\n",
    "\n",
    "    @abstractmethod\n",
    "    def perimeter(self):\n",
    "        pass\n"
   ]
  },
  {
   "cell_type": "markdown",
   "id": "bfa0bcb9-9fb7-468d-942c-5ed8c607bbbd",
   "metadata": {},
   "source": [
    "Concrete Implementations in Subclasses:\n",
    "\n",
    "Concrete subclasses of the abstract class must provide concrete implementations for all abstract methods.\n",
    "This enforces a consistent structure and behavior across related classes."
   ]
  },
  {
   "cell_type": "code",
   "execution_count": 9,
   "id": "1f82e608-206a-4d31-bdc7-5a14f0789a0e",
   "metadata": {},
   "outputs": [],
   "source": [
    "class Circle(Shape):\n",
    "    def __init__(self, radius):\n",
    "        self.radius = radius\n",
    "\n",
    "    def area(self):\n",
    "        return 3.14 * self.radius * self.radius\n",
    "\n",
    "    def perimeter(self):\n",
    "        return 2 * 3.14 * self.radius\n",
    "\n",
    "class Square(Shape):\n",
    "    def __init__(self, side_length):\n",
    "        self.side_length = side_length\n",
    "\n",
    "    def area(self):\n",
    "        return self.side_length * self.side_length\n",
    "\n",
    "    def perimeter(self):\n",
    "        return 4 * self.side_length\n"
   ]
  },
  {
   "cell_type": "markdown",
   "id": "85d0d8b7-2e76-4f42-807d-93b4b313b675",
   "metadata": {},
   "source": [
    "Polymorphism:\n",
    "Polymorphism through Method Abstraction:\n",
    "\n",
    "Polymorphism allows objects of different classes to be treated as objects of a common base class.\n",
    "With method abstraction, polymorphism is achieved through the shared interface defined by the abstract methods."
   ]
  },
  {
   "cell_type": "code",
   "execution_count": 10,
   "id": "76f7c1bb-6ced-43e7-ba1c-92cf704f697b",
   "metadata": {},
   "outputs": [
    {
     "name": "stdout",
     "output_type": "stream",
     "text": [
      "Area: 78.5\n",
      "Perimeter: 31.400000000000002\n",
      "\n",
      "\n",
      "Area: 16\n",
      "Perimeter: 16\n"
     ]
    }
   ],
   "source": [
    "def print_shape_info(shape):\n",
    "    print(f\"Area: {shape.area()}\")\n",
    "    print(f\"Perimeter: {shape.perimeter()}\")\n",
    "\n",
    "circle = Circle(radius=5)\n",
    "square = Square(side_length=4)\n",
    "\n",
    "print_shape_info(circle)\n",
    "print(\"\\n\")\n",
    "print_shape_info(square)\n"
   ]
  },
  {
   "cell_type": "markdown",
   "id": "9f0ed6de-fc9c-4263-a147-ae1f76f5a0a1",
   "metadata": {},
   "source": [
    "Unified Interface for Different Objects:\n",
    "\n",
    "In the example above, the print_shape_info function can accept objects of different shapes (Circle, Square) as long as they conform to the common interface defined by the abstract class (Shape).\n",
    "Benefits:\n",
    "Flexibility and Extensibility:\n",
    "\n",
    "Method abstraction provides flexibility by allowing the addition of new subclasses without modifying existing code.\n",
    "This makes the codebase more extensible, supporting the introduction of new functionality.\n",
    "Code Readability and Maintainability:\n",
    "\n",
    "Method abstraction enhances code readability by clearly defining a common interface for related classes.\n",
    "It promotes maintainability by facilitating updates or modifications to the behavior of related classes.\n",
    "Polymorphic Behavior:\n",
    "\n",
    "The use of method abstraction allows for polymorphic behavior, where objects of different classes can be treated uniformly through a common interface."
   ]
  },
  {
   "cell_type": "markdown",
   "id": "64937ef0-fed1-4391-909b-a3050587c6fc",
   "metadata": {},
   "source": [
    "TOPIC - COMPOSITION "
   ]
  },
  {
   "cell_type": "markdown",
   "id": "fdf3d76e-b058-4c9e-a781-47c9861cfc7b",
   "metadata": {},
   "source": [
    "1. Explain the concept of composition in Python and how it is used to build complex objects from simpler ones."
   ]
  },
  {
   "cell_type": "markdown",
   "id": "d81967fb-33b6-4b52-8d6e-4bd2691bbb31",
   "metadata": {},
   "source": [
    "Composition in Python is a design principle where a class contains objects of other classes, allowing you to build complex objects by combining simpler ones. It involves creating relationships between classes through object instances, rather than using inheritance. Composition is often favored over inheritance as it provides more flexibility, promotes code reuse, and avoids some of the issues associated with deep class hierarchies.\n",
    "\n",
    "Key Concepts of Composition:\n",
    "Object Composition:\n",
    "\n",
    "In composition, one class includes an object of another class as a part.\n",
    "This relationship is established through instance variables or attributes."
   ]
  },
  {
   "cell_type": "code",
   "execution_count": 11,
   "id": "6a08d1fa-3a66-4495-bdc0-c0947f4d5327",
   "metadata": {},
   "outputs": [
    {
     "name": "stdout",
     "output_type": "stream",
     "text": [
      "Car starting\n",
      "Engine starting\n"
     ]
    }
   ],
   "source": [
    "class Engine:\n",
    "    def start(self):\n",
    "        print(\"Engine starting\")\n",
    "\n",
    "class Car:\n",
    "    def __init__(self):\n",
    "        self.engine = Engine()\n",
    "\n",
    "    def start(self):\n",
    "        print(\"Car starting\")\n",
    "        self.engine.start()\n",
    "\n",
    "my_car = Car()\n",
    "my_car.start()\n"
   ]
  },
  {
   "cell_type": "markdown",
   "id": "9564f55e-a33f-417d-bee0-1fa19a6c5f61",
   "metadata": {},
   "source": [
    "Encapsulation:\n",
    "\n",
    "Composition promotes encapsulation, where the internal details of a class are hidden from the outside.\n",
    "Each class focuses on a specific responsibility, making the code more modular.\n",
    "Flexibility:\n",
    "\n",
    "Composition provides greater flexibility than inheritance. You can change the behavior of a class by swapping out components or modifying the composition structure without affecting the class hierarchy.\n",
    "python\n"
   ]
  },
  {
   "cell_type": "code",
   "execution_count": 1,
   "id": "f5072f94-54ee-49dd-970b-1162e401490c",
   "metadata": {},
   "outputs": [
    {
     "name": "stdout",
     "output_type": "stream",
     "text": [
      "Hybrid car starting\n",
      "Electric engine starting\n"
     ]
    }
   ],
   "source": [
    "class ElectricEngine:\n",
    "    def start(self):\n",
    "        print(\"Electric engine starting\")\n",
    "\n",
    "class HybridCar:\n",
    "    def __init__(self):\n",
    "        self.engine = ElectricEngine()\n",
    "\n",
    "    def start(self):\n",
    "        print(\"Hybrid car starting\")\n",
    "        self.engine.start()\n",
    "\n",
    "my_hybrid_car = HybridCar()\n",
    "my_hybrid_car.start()\n"
   ]
  },
  {
   "cell_type": "markdown",
   "id": "c34344f2-5fab-463f-aaa5-705e402945a4",
   "metadata": {},
   "source": [
    "Code Reusability:\n",
    "\n",
    "Composition encourages code reusability by allowing you to reuse components in different contexts.\n",
    "Components can be developed independently and combined to create new objects."
   ]
  },
  {
   "cell_type": "code",
   "execution_count": 2,
   "id": "37776d4a-7f76-44bf-8990-abd1184eb5ea",
   "metadata": {},
   "outputs": [
    {
     "name": "stdout",
     "output_type": "stream",
     "text": [
      "Computer is executing:\n",
      "Processing data\n",
      "Reading data\n"
     ]
    }
   ],
   "source": [
    "class CPU:\n",
    "    def process(self):\n",
    "        return \"Processing data\"\n",
    "\n",
    "class Memory:\n",
    "    def read(self):\n",
    "        return \"Reading data\"\n",
    "\n",
    "class Computer:\n",
    "    def __init__(self):\n",
    "        self.cpu = CPU()\n",
    "        self.memory = Memory()\n",
    "\n",
    "    def execute(self):\n",
    "        print(\"Computer is executing:\")\n",
    "        print(self.cpu.process())\n",
    "        print(self.memory.read())\n",
    "\n",
    "my_computer = Computer()\n",
    "my_computer.execute()\n"
   ]
  },
  {
   "cell_type": "markdown",
   "id": "56305397-9c2c-484f-a699-d78a5cdf7e9f",
   "metadata": {},
   "source": [
    "Benefits of Composition:\n",
    "Flexibility:\n",
    "\n",
    "You can easily change or extend the behavior of a class by modifying its components or adding new ones.\n",
    "Code Reusability:\n",
    "\n",
    "Components can be reused in different contexts, promoting a modular and reusable codebase.\n",
    "Encapsulation:\n",
    "\n",
    "Each class focuses on its specific responsibility, and the internal details are hidden from the outside, leading to more maintainable code.\n",
    "Avoidance of Fragile Base Class Problem:\n",
    "\n",
    "Composition helps avoid the \"fragile base class\" problem associated with deep class hierarchies in inheritance.\n",
    "Promotion of a \"Has-A\" Relationship:\n",
    "\n",
    "Composition represents a \"Has-A\" relationship, indicating that an object has another object as a part.\n",
    "In summary, composition in Python is a powerful design principle that allows you to build complex objects by combining simpler ones. It promotes flexibility, code reusability, and encapsulation, making it a valuable approach in designing modular and maintainable software systems.\n",
    "\n",
    "\n",
    "\n",
    "\n",
    "\n"
   ]
  },
  {
   "cell_type": "markdown",
   "id": "c7ef684d-22c7-4356-909b-091c56428a20",
   "metadata": {},
   "source": [
    "2. Describe the difference between composition and inheritance in object-oriented programming."
   ]
  },
  {
   "cell_type": "markdown",
   "id": "3a088fa3-34c4-4e7b-97b5-3137b56095ee",
   "metadata": {},
   "source": [
    "Composition and inheritance are two fundamental concepts in object-oriented programming (OOP) that facilitate the creation and organization of classes and objects. They represent different approaches to structuring and reusing code.\n",
    "\n",
    "Composition:\n",
    "Definition:\n",
    "\n",
    "Composition involves creating relationships between classes by combining instances of other classes as parts.\n",
    "A class includes objects of other classes to achieve its functionality.\n",
    "Relationship:\n",
    "\n",
    "Composition establishes a \"Has-A\" relationship, indicating that an object has another object as a part.\n",
    "It is based on the idea of building complex objects by combining simpler ones.\n",
    "Flexibility:\n",
    "\n",
    "Composition provides greater flexibility compared to inheritance.\n",
    "Components can be easily replaced or modified, and the structure of the composed object can be changed without affecting the class hierarchy.\n",
    "Encapsulation:\n",
    "\n",
    "Encapsulation is achieved through composition, as the internal details of each class are hidden from the outside.\n",
    "Each class focuses on a specific responsibility.\n",
    "Code Reusability:\n",
    "\n",
    "Composition promotes code reusability by allowing the reuse of components in different contexts.\n",
    "Components can be developed independently and combined to create new objects."
   ]
  },
  {
   "cell_type": "code",
   "execution_count": 4,
   "id": "5cc22549-be89-41a5-a676-5bfe915564d6",
   "metadata": {},
   "outputs": [],
   "source": [
    "class Engine:\n",
    "    def start(self):\n",
    "        print(\"Engine starting\")\n",
    "\n",
    "class Car:\n",
    "    def __init__(self):\n",
    "        self.engine = Engine()\n",
    "\n",
    "    def start(self):\n",
    "        print(\"Car starting\")\n",
    "        self.engine.start()\n"
   ]
  },
  {
   "cell_type": "markdown",
   "id": "d60f8e32-826e-46b9-b1e7-f0c0e5f0302c",
   "metadata": {},
   "source": [
    "Inheritance:\n",
    "Definition:\n",
    "\n",
    "Inheritance involves creating a new class (subclass or derived class) that inherits attributes and behaviors from an existing class (base class or parent class).\n",
    "Relationship:\n",
    "\n",
    "Inheritance establishes an \"Is-A\" relationship, indicating that a subclass is a specialized version of its superclass.\n",
    "The subclass inherits properties and methods from the superclass.\n",
    "Rigidity:\n",
    "\n",
    "Inheritance can lead to a rigid class hierarchy, making it challenging to modify or extend the system without affecting existing code.\n",
    "It may result in the \"fragile base class\" problem, where changes to the base class can have unintended consequences in subclasses.\n",
    "Code Reusability:\n",
    "\n",
    "Inheritance promotes code reusability by allowing the reuse of code from a base class in derived classes.\n",
    "However, it may lead to issues like code duplication and inflexibility"
   ]
  },
  {
   "cell_type": "code",
   "execution_count": 5,
   "id": "d03ee79c-5470-4d41-a63b-2953188c798e",
   "metadata": {},
   "outputs": [],
   "source": [
    "class Animal:\n",
    "    def speak(self):\n",
    "        pass\n",
    "\n",
    "class Dog(Animal):\n",
    "    def speak(self):\n",
    "        print(\"Woof!\")\n",
    "\n",
    "class Cat(Animal):\n",
    "    def speak(self):\n",
    "        print(\"Meow!\")\n"
   ]
  },
  {
   "cell_type": "markdown",
   "id": "5fbcc9e0-fac9-497b-8960-ac7c521d5b6c",
   "metadata": {},
   "source": [
    "Key Differences:\n",
    "Relationship Type:\n",
    "\n",
    "Composition: \"Has-A\" relationship.\n",
    "Inheritance: \"Is-A\" relationship.\n",
    "Flexibility:\n",
    "\n",
    "Composition is more flexible, allowing changes to the structure without impacting the class hierarchy.\n",
    "Inheritance can be rigid, making it challenging to modify or extend the system without affecting existing code.\n",
    "Encapsulation:\n",
    "\n",
    "Composition promotes encapsulation by hiding the internal details of each class.\n",
    "Inheritance exposes the internal details of the base class to the derived class.\n",
    "Code Reusability:\n",
    "\n",
    "Both composition and inheritance support code reusability, but composition often provides more modular and reusable components.\n",
    "Complexity:\n",
    "\n",
    "Composition is often favored for managing complexity, especially in large software systems.\n",
    "Inheritance can lead to complex class hierarchies, and deep hierarchies should be avoided.\n",
    "In practice, a combination of composition and inheritance is often used to achieve the desired balance between flexibility, maintainability, and code reuse. Each approach has its strengths and weaknesses, and the choice depends on the specific requirements of the software design."
   ]
  },
  {
   "cell_type": "markdown",
   "id": "356d5b3b-d066-43cb-9f92-0a5354b9e813",
   "metadata": {},
   "source": [
    "3. Create a Python class called `Author` with attributes for name and birthdate. Then, create a `Book` class\n",
    "that contains an instance of `Author` as a composition. Provide an example of creating a `Book` object."
   ]
  },
  {
   "cell_type": "code",
   "execution_count": 6,
   "id": "25089e85-8dcc-4e62-a772-a0f73446c272",
   "metadata": {},
   "outputs": [
    {
     "name": "stdout",
     "output_type": "stream",
     "text": [
      "Title: Harry Potter and the Sorcerer's Stone\n",
      "Genre: Fantasy\n",
      "Author: J.K. Rowling\n",
      "Birthdate: July 31, 1965\n",
      "Publication Year: 1997\n"
     ]
    }
   ],
   "source": [
    "class Author:\n",
    "    def __init__(self, name, birthdate):\n",
    "        self.name = name\n",
    "        self.birthdate = birthdate\n",
    "\n",
    "class Book:\n",
    "    def __init__(self, title, genre, author, publication_year):\n",
    "        self.title = title\n",
    "        self.genre = genre\n",
    "        self.author = author  # Composition: Book has an Author\n",
    "        self.publication_year = publication_year\n",
    "\n",
    "    def display_info(self):\n",
    "        print(f\"Title: {self.title}\")\n",
    "        print(f\"Genre: {self.genre}\")\n",
    "        print(f\"Author: {self.author.name}\")\n",
    "        print(f\"Birthdate: {self.author.birthdate}\")\n",
    "        print(f\"Publication Year: {self.publication_year}\")\n",
    "\n",
    "# Example of creating Author and Book objects\n",
    "author = Author(name=\"J.K. Rowling\", birthdate=\"July 31, 1965\")\n",
    "book = Book(title=\"Harry Potter and the Sorcerer's Stone\", genre=\"Fantasy\", author=author, publication_year=1997)\n",
    "\n",
    "# Display information about the book\n",
    "book.display_info()\n"
   ]
  },
  {
   "cell_type": "markdown",
   "id": "fc0916ed-e920-4bac-bf14-2a776ba48c8e",
   "metadata": {},
   "source": [
    "4. Discuss the benefits of using composition over inheritance in Python, especially in terms of code flexibility\n",
    "and reusability."
   ]
  },
  {
   "cell_type": "markdown",
   "id": "efcac4fb-1bf0-466d-8c64-ac707c471eed",
   "metadata": {},
   "source": [
    "Using composition over inheritance in Python has several advantages, especially in terms of code flexibility and reusability. Here are the key benefits:\n",
    "\n",
    "1. Flexibility:\n",
    "Avoids Rigidity: Composition allows for more flexible and modular code structures. It avoids the rigidity associated with deep class hierarchies, where changes to the base class can have widespread effects on subclasses."
   ]
  },
  {
   "cell_type": "code",
   "execution_count": 7,
   "id": "21a78853-e219-41b4-87e1-75267ca5ef55",
   "metadata": {},
   "outputs": [],
   "source": [
    "# Composition\n",
    "class Car:\n",
    "    def __init__(self, engine, wheels):\n",
    "        self.engine = engine\n",
    "        self.wheels = wheels\n",
    "\n",
    "# Inheritance\n",
    "class CarWithEngineAndWheels(Car):\n",
    "    pass\n"
   ]
  },
  {
   "cell_type": "markdown",
   "id": "9548eee8-1280-4e3b-b914-843337926933",
   "metadata": {},
   "source": [
    "Encapsulation:\n",
    "Better Encapsulation: Composition often results in better encapsulation. Each class can focus on a specific responsibility, and the internal details of a class are hidden from the outside."
   ]
  },
  {
   "cell_type": "code",
   "execution_count": 8,
   "id": "52f265fb-2b45-450d-93c2-ebac9b0767d0",
   "metadata": {},
   "outputs": [],
   "source": [
    "class Engine:\n",
    "    def start(self):\n",
    "        print(\"Engine starting\")\n",
    "\n",
    "class Car:\n",
    "    def __init__(self):\n",
    "        self.engine = Engine()\n",
    "\n",
    "    def start(self):\n",
    "        print(\"Car starting\")\n",
    "        self.engine.start()\n"
   ]
  },
  {
   "cell_type": "markdown",
   "id": "da44d004-1f20-4ba7-a83e-beca40ad916f",
   "metadata": {},
   "source": [
    " Code Reusability:\n",
    "Promotes Modular Components: Composition promotes code reusability by creating modular and independent components. Components can be developed and tested independently, fostering reusability in various contexts."
   ]
  },
  {
   "cell_type": "code",
   "execution_count": 9,
   "id": "cc92dd3f-0313-4976-bf90-7e2e05c9abeb",
   "metadata": {},
   "outputs": [],
   "source": [
    "class Engine:\n",
    "    def start(self):\n",
    "        print(\"Engine starting\")\n",
    "\n",
    "class ElectricEngine:\n",
    "    def start(self):\n",
    "        print(\"Electric engine starting\")\n",
    "\n",
    "class HybridCar:\n",
    "    def __init__(self):\n",
    "        self.engine = ElectricEngine()\n",
    "\n",
    "    def start(self):\n",
    "        print(\"Hybrid car starting\")\n",
    "        self.engine.start()\n"
   ]
  },
  {
   "cell_type": "markdown",
   "id": "e653b914-2e2a-4f11-ada9-85cd46df31c0",
   "metadata": {},
   "source": [
    "Avoidance of Fragile Base Class Problem:\n",
    "Mitigates Fragility: Composition helps mitigate the \"fragile base class\" problem, where changes to the base class can unintentionally affect subclasses. Changes are localized to specific components.\n",
    "5. Easier Maintenance:\n",
    "Simpler Maintenance: Composition often results in simpler and more maintainable code. Changes to a specific component do not ripple through the entire class hierarchy, making maintenance less error-prone.\n",
    "6. Clearer Relationships:\n",
    "Expressive Relationships: Composition models a \"Has-A\" relationship, making the relationships between classes more explicit. This can lead to a more intuitive and understandable design."
   ]
  },
  {
   "cell_type": "code",
   "execution_count": 10,
   "id": "b32da140-81b2-403e-ba85-a5e97f1117e4",
   "metadata": {},
   "outputs": [],
   "source": [
    "class Car:\n",
    "    def __init__(self, engine):\n",
    "        self.engine = engine\n",
    "\n",
    "class ElectricCar:\n",
    "    def __init__(self, battery):\n",
    "        self.battery = battery\n"
   ]
  },
  {
   "cell_type": "markdown",
   "id": "20152251-1066-4df9-8dd2-ed9a74267110",
   "metadata": {},
   "source": [
    "Enhanced Testability:\n",
    "Improved Testability: Components created through composition are often more testable. Testing individual components in isolation is easier, promoting unit testing.\n",
    "8. Scalability:\n",
    "Supports Scalability: Composition supports the creation of scalable systems. New components can be added or modified without affecting the existing structure.\n",
    "9. Avoidance of Diamond Problem:\n",
    "Mitigates Diamond Problem: Composition helps avoid the Diamond Problem associated with multiple inheritance. It prevents conflicts that can arise when a class inherits from multiple classes with common ancestors.\n",
    "In summary, composition in Python provides greater code flexibility and reusability compared to deep class hierarchies in inheritance. It allows for the creation of modular and independent components, leading to more maintainable and scalable codebases. While there are scenarios where inheritance is appropriate, composition is often preferred for its advantages in terms of flexibility, encapsulation, and code reusability."
   ]
  },
  {
   "cell_type": "markdown",
   "id": "eab6beb8-e195-4567-9746-9f08d74b4891",
   "metadata": {},
   "source": [
    "5. How can you implement composition in Python classes? Provide examples of using composition to create\n",
    "complex objects."
   ]
  },
  {
   "cell_type": "markdown",
   "id": "3b14969a-5569-4b38-b41c-b48cae3a5334",
   "metadata": {},
   "source": [
    "Composition in Python involves creating relationships between classes by including instances of other classes as attributes. It allows you to build complex objects by combining simpler ones. Here's how you can implement composition in Python classes, along with examples:\n",
    "\n",
    "1. Basic Composition:"
   ]
  },
  {
   "cell_type": "code",
   "execution_count": 11,
   "id": "8af58d03-d643-4195-9276-de6108eb5b72",
   "metadata": {},
   "outputs": [
    {
     "name": "stdout",
     "output_type": "stream",
     "text": [
      "Car starting\n",
      "Engine starting\n"
     ]
    }
   ],
   "source": [
    "class Engine:\n",
    "    def start(self):\n",
    "        print(\"Engine starting\")\n",
    "\n",
    "class Car:\n",
    "    def __init__(self):\n",
    "        self.engine = Engine()\n",
    "\n",
    "    def start(self):\n",
    "        print(\"Car starting\")\n",
    "        self.engine.start()\n",
    "\n",
    "# Example\n",
    "my_car = Car()\n",
    "my_car.start()\n"
   ]
  },
  {
   "cell_type": "markdown",
   "id": "2e740f23-4504-45fe-85a7-b6685272f624",
   "metadata": {},
   "source": [
    "2. Multiple Components:"
   ]
  },
  {
   "cell_type": "code",
   "execution_count": 12,
   "id": "e566287b-77eb-468f-be2d-02af4a5b86b6",
   "metadata": {},
   "outputs": [
    {
     "name": "stdout",
     "output_type": "stream",
     "text": [
      "Car starting\n",
      "Engine starting\n",
      "Wheels rotating\n"
     ]
    }
   ],
   "source": [
    "class Engine:\n",
    "    def start(self):\n",
    "        print(\"Engine starting\")\n",
    "\n",
    "class Wheels:\n",
    "    def rotate(self):\n",
    "        print(\"Wheels rotating\")\n",
    "\n",
    "class Car:\n",
    "    def __init__(self):\n",
    "        self.engine = Engine()\n",
    "        self.wheels = Wheels()\n",
    "\n",
    "    def start(self):\n",
    "        print(\"Car starting\")\n",
    "        self.engine.start()\n",
    "        self.wheels.rotate()\n",
    "\n",
    "# Example\n",
    "my_car = Car()\n",
    "my_car.start()\n"
   ]
  },
  {
   "cell_type": "markdown",
   "id": "5ae35367-c040-47ea-a55c-7ae9108eb2f4",
   "metadata": {},
   "source": [
    "3. Parameterized Composition:"
   ]
  },
  {
   "cell_type": "code",
   "execution_count": 13,
   "id": "dd447fb1-a1fb-481e-9d73-09b7c9324164",
   "metadata": {},
   "outputs": [
    {
     "name": "stdout",
     "output_type": "stream",
     "text": [
      "Car starting\n",
      "Engine starting. Fuel type: Gasoline\n"
     ]
    }
   ],
   "source": [
    "class Engine:\n",
    "    def __init__(self, fuel_type):\n",
    "        self.fuel_type = fuel_type\n",
    "\n",
    "    def start(self):\n",
    "        print(f\"Engine starting. Fuel type: {self.fuel_type}\")\n",
    "\n",
    "class Car:\n",
    "    def __init__(self, fuel_type):\n",
    "        self.engine = Engine(fuel_type)\n",
    "\n",
    "    def start(self):\n",
    "        print(\"Car starting\")\n",
    "        self.engine.start()\n",
    "\n",
    "# Example\n",
    "my_car = Car(fuel_type=\"Gasoline\")\n",
    "my_car.start()\n"
   ]
  },
  {
   "cell_type": "markdown",
   "id": "6bc64609-a7d2-4c22-b9ce-b52d8c8f1732",
   "metadata": {},
   "source": [
    "4. Composition with Behavior:"
   ]
  },
  {
   "cell_type": "code",
   "execution_count": 14,
   "id": "38c70a6b-7093-40ff-b043-cb1a813aae53",
   "metadata": {},
   "outputs": [
    {
     "name": "stdout",
     "output_type": "stream",
     "text": [
      "Car starting\n",
      "Engine starting\n"
     ]
    }
   ],
   "source": [
    "class Engine:\n",
    "    def start(self):\n",
    "        print(\"Engine starting\")\n",
    "\n",
    "class Car:\n",
    "    def __init__(self, engine):\n",
    "        self.engine = engine\n",
    "\n",
    "    def start(self):\n",
    "        print(\"Car starting\")\n",
    "        self.engine.start()\n",
    "\n",
    "# Example\n",
    "engine_instance = Engine()\n",
    "my_car = Car(engine=engine_instance)\n",
    "my_car.start()\n"
   ]
  },
  {
   "cell_type": "markdown",
   "id": "a3114471-8ada-4c17-b6cb-6a99fe6ab9ab",
   "metadata": {},
   "source": [
    "5. Nested Composition:"
   ]
  },
  {
   "cell_type": "code",
   "execution_count": 15,
   "id": "4ffe391c-bfd6-41ed-a26d-42fe0217caa5",
   "metadata": {},
   "outputs": [
    {
     "name": "stdout",
     "output_type": "stream",
     "text": [
      "Playing multimedia\n",
      "Playing sound\n",
      "Displaying content\n"
     ]
    }
   ],
   "source": [
    "class Speaker:\n",
    "    def play_sound(self):\n",
    "        print(\"Playing sound\")\n",
    "\n",
    "class Screen:\n",
    "    def display_content(self):\n",
    "        print(\"Displaying content\")\n",
    "\n",
    "class MultimediaSystem:\n",
    "    def __init__(self):\n",
    "        self.speaker = Speaker()\n",
    "        self.screen = Screen()\n",
    "\n",
    "    def play_media(self):\n",
    "        print(\"Playing multimedia\")\n",
    "        self.speaker.play_sound()\n",
    "        self.screen.display_content()\n",
    "\n",
    "# Example\n",
    "my_multimedia_system = MultimediaSystem()\n",
    "my_multimedia_system.play_media()\n"
   ]
  },
  {
   "cell_type": "markdown",
   "id": "0e528080-1e82-4b7b-b929-1339bc92b037",
   "metadata": {},
   "source": [
    "6. Create a Python class hierarchy for a music player system, using composition to represent playlists and\n",
    "songs."
   ]
  },
  {
   "cell_type": "code",
   "execution_count": 16,
   "id": "2f65a73e-6350-4e00-8a36-9b6c702e6588",
   "metadata": {},
   "outputs": [
    {
     "name": "stdout",
     "output_type": "stream",
     "text": [
      "Playing all playlists in the music player\n",
      "Playing playlist: Playlist 1\n",
      "Playing Song 1 by Artist 1\n",
      "Playing Song 2 by Artist 2\n",
      "Playing playlist: Playlist 2\n",
      "Playing Song 3 by Artist 3\n",
      "Playing Song 4 by Artist 4\n"
     ]
    }
   ],
   "source": [
    "class Song:\n",
    "    def __init__(self, title, artist, duration):\n",
    "        self.title = title\n",
    "        self.artist = artist\n",
    "        self.duration = duration\n",
    "\n",
    "    def play(self):\n",
    "        print(f\"Playing {self.title} by {self.artist}\")\n",
    "\n",
    "class Playlist:\n",
    "    def __init__(self, name):\n",
    "        self.name = name\n",
    "        self.songs = []\n",
    "\n",
    "    def add_song(self, song):\n",
    "        self.songs.append(song)\n",
    "\n",
    "    def play_playlist(self):\n",
    "        print(f\"Playing playlist: {self.name}\")\n",
    "        for song in self.songs:\n",
    "            song.play()\n",
    "\n",
    "class MusicPlayer:\n",
    "    def __init__(self):\n",
    "        self.playlists = []\n",
    "\n",
    "    def add_playlist(self, playlist):\n",
    "        self.playlists.append(playlist)\n",
    "\n",
    "    def play_all(self):\n",
    "        print(\"Playing all playlists in the music player\")\n",
    "        for playlist in self.playlists:\n",
    "            playlist.play_playlist()\n",
    "\n",
    "# Example usage\n",
    "song1 = Song(title=\"Song 1\", artist=\"Artist 1\", duration=\"3:45\")\n",
    "song2 = Song(title=\"Song 2\", artist=\"Artist 2\", duration=\"4:20\")\n",
    "\n",
    "playlist1 = Playlist(name=\"Playlist 1\")\n",
    "playlist1.add_song(song1)\n",
    "playlist1.add_song(song2)\n",
    "\n",
    "song3 = Song(title=\"Song 3\", artist=\"Artist 3\", duration=\"2:55\")\n",
    "song4 = Song(title=\"Song 4\", artist=\"Artist 4\", duration=\"3:30\")\n",
    "\n",
    "playlist2 = Playlist(name=\"Playlist 2\")\n",
    "playlist2.add_song(song3)\n",
    "playlist2.add_song(song4)\n",
    "\n",
    "music_player = MusicPlayer()\n",
    "music_player.add_playlist(playlist1)\n",
    "music_player.add_playlist(playlist2)\n",
    "\n",
    "music_player.play_all()\n"
   ]
  },
  {
   "cell_type": "markdown",
   "id": "8883335b-15b4-4000-92b8-c38c3c7e0685",
   "metadata": {},
   "source": [
    "7. Explain the concept of \"has-a\" relationships in composition and how it helps design software systems."
   ]
  },
  {
   "cell_type": "markdown",
   "id": "896dab6b-6e23-4746-be96-98477828d761",
   "metadata": {},
   "source": [
    "The concept of \"has-a\" relationships in composition refers to the idea that a class can contain an instance of another class as one of its components or attributes. In other words, a class \"has-a\" relationship with another class when it includes an object of that class as part of its internal structure. This is a fundamental aspect of the composition design principle in object-oriented programming.\n",
    "\n",
    "Key Points:\n",
    "Relationship Description:\n",
    "\n",
    "In a \"has-a\" relationship, a class is composed of another class, indicating that it possesses or contains an instance of that class.\n",
    "Composition Example:\n",
    "\n",
    "For example, a Car class may have a \"has-a\" relationship with an Engine class. The Car class contains an instance of the Engine class as one of its attributes."
   ]
  },
  {
   "cell_type": "code",
   "execution_count": 17,
   "id": "5be5da2d-c850-4a1a-bc3a-4acab7969c15",
   "metadata": {},
   "outputs": [],
   "source": [
    "class Engine:\n",
    "    def start(self):\n",
    "        print(\"Engine starting\")\n",
    "\n",
    "class Car:\n",
    "    def __init__(self):\n",
    "        self.engine = Engine()\n"
   ]
  },
  {
   "cell_type": "markdown",
   "id": "2c632b31-d3ce-4f2d-a85e-3d85a1edcb75",
   "metadata": {},
   "source": [
    "Design Flexibility:\n",
    "\n",
    "\"Has-a\" relationships provide flexibility in designing software systems. Instead of relying solely on class inheritance, you can build classes that are composed of other classes, promoting modular and reusable code.\n",
    "Encapsulation:\n",
    "\n",
    "Encapsulation is enhanced through \"has-a\" relationships. Each class can encapsulate its own functionality, and the internal details of a class are hidden from the outside.\n",
    "Modularity:\n",
    "\n",
    "Modularity is achieved as classes are designed to represent individual components with specific responsibilities. These components can be easily combined to create more complex systems.\n",
    "Code Reusability:\n",
    "\n",
    "\"Has-a\" relationships promote code reusability. Individual classes can be developed and tested independently, and they can be reused in various contexts by combining them in different ways."
   ]
  },
  {
   "cell_type": "code",
   "execution_count": 18,
   "id": "d5cba27c-f002-4174-9ac1-d0d4f8814889",
   "metadata": {},
   "outputs": [],
   "source": [
    "class Author:\n",
    "    def __init__(self, name, birthdate):\n",
    "        self.name = name\n",
    "        self.birthdate = birthdate\n",
    "\n",
    "class Book:\n",
    "    def __init__(self, title, author, publication_year):\n",
    "        self.title = title\n",
    "        self.author = author  # \"Has-a\" relationship with Author\n",
    "        self.publication_year = publication_year\n",
    "\n",
    "class Library:\n",
    "    def __init__(self):\n",
    "        self.books = []  # \"Has-a\" relationship with Book\n",
    "\n",
    "    def add_book(self, book):\n",
    "        self.books.append(book)\n"
   ]
  },
  {
   "cell_type": "markdown",
   "id": "5b71a3c3-d16a-4837-8938-aadabb40d125",
   "metadata": {},
   "source": [
    "Benefits:\n",
    "Flexibility: Designing classes with \"has-a\" relationships provides flexibility in combining and reusing components to create complex systems.\n",
    "\n",
    "Encapsulation: Each class encapsulates its own behavior, leading to more modular and maintainable code.\n",
    "\n",
    "Modularity: Components can be independently developed, tested, and reused, promoting modularity in the design.\n",
    "\n",
    "Code Reusability: Individual classes can be reused in various contexts, enhancing code reusability.\n",
    "\n",
    "Clear Relationships: The \"has-a\" relationship makes the relationships between classes more explicit and intuitive.\n",
    "\n",
    "In summary, the concept of \"has-a\" relationships in composition is a powerful design principle that enables the creation of flexible, modular, and reusable software systems. It provides a way to structure classes based on how they are composed of other classes, fostering a more intuitive and maintainable codebase"
   ]
  },
  {
   "cell_type": "markdown",
   "id": "a0c1b4be-be9f-4f1a-b94d-c43d6aa66ee0",
   "metadata": {},
   "source": [
    "8. Create a Python class for a computer system, using composition to represent components like CPU, RAM,\n",
    "and storage devices."
   ]
  },
  {
   "cell_type": "code",
   "execution_count": 19,
   "id": "58adf39b-fad7-4187-b8c9-e7994679f501",
   "metadata": {},
   "outputs": [
    {
     "name": "stdout",
     "output_type": "stream",
     "text": [
      "Computer system performing computations\n",
      "CPU processing data\n",
      "RAM reading data\n",
      "Storage storing data\n"
     ]
    }
   ],
   "source": [
    "class CPU:\n",
    "    def __init__(self, brand, model, cores):\n",
    "        self.brand = brand\n",
    "        self.model = model\n",
    "        self.cores = cores\n",
    "\n",
    "    def process_data(self):\n",
    "        print(\"CPU processing data\")\n",
    "\n",
    "class RAM:\n",
    "    def __init__(self, capacity_gb, speed_mhz):\n",
    "        self.capacity_gb = capacity_gb\n",
    "        self.speed_mhz = speed_mhz\n",
    "\n",
    "    def read_data(self):\n",
    "        print(\"RAM reading data\")\n",
    "\n",
    "class Storage:\n",
    "    def __init__(self, capacity_gb, type):\n",
    "        self.capacity_gb = capacity_gb\n",
    "        self.type = type\n",
    "\n",
    "    def store_data(self):\n",
    "        print(\"Storage storing data\")\n",
    "\n",
    "class ComputerSystem:\n",
    "    def __init__(self, cpu, ram, storage):\n",
    "        self.cpu = cpu\n",
    "        self.ram = ram\n",
    "        self.storage = storage\n",
    "\n",
    "    def perform_computations(self):\n",
    "        print(\"Computer system performing computations\")\n",
    "        self.cpu.process_data()\n",
    "        self.ram.read_data()\n",
    "        self.storage.store_data()\n",
    "\n",
    "# Example usage\n",
    "cpu = CPU(brand=\"Intel\", model=\"i7\", cores=4)\n",
    "ram = RAM(capacity_gb=8, speed_mhz=2400)\n",
    "storage = Storage(capacity_gb=256, type=\"SSD\")\n",
    "\n",
    "my_computer = ComputerSystem(cpu=cpu, ram=ram, storage=storage)\n",
    "my_computer.perform_computations()\n"
   ]
  },
  {
   "cell_type": "markdown",
   "id": "d206d558-e378-41cc-8053-2591ae52e039",
   "metadata": {},
   "source": [
    "9. Describe the concept of \"delegation\" in composition and how it simplifies the design of complex systems."
   ]
  },
  {
   "cell_type": "markdown",
   "id": "6efe7cc5-3405-4c4d-8940-27967cc4df9d",
   "metadata": {},
   "source": [
    "The concept of \"delegation\" in composition refers to the practice of allowing one object to use the functionality of another object by passing calls to that object. It simplifies the design of complex systems by promoting code reuse, encapsulation, and a modular structure. Delegation is a form of composition where an object relies on the services or behavior of another object without inheriting from it directly.\n",
    "\n",
    "Key Points:\n",
    "Passing Responsibility:\n",
    "\n",
    "Delegation involves passing the responsibility of a certain task or behavior from one object to another.\n",
    "Rather than inheriting behavior, an object delegates the responsibility to another object that is better suited to handle it.\n",
    "Code Reuse:\n",
    "\n",
    "Delegation promotes code reuse by allowing objects to leverage the functionality of other objects. It avoids the need for deep class hierarchies and encourages a more modular approach.\n",
    "Encapsulation:\n",
    "\n",
    "Encapsulation is maintained as the internal details of an object are hidden, and the delegation is focused on the public interface of the delegated object.\n",
    "Objects can encapsulate their own behavior and delegate specific tasks to other objects without exposing their internal details.\n",
    "Flexibility:\n",
    "\n",
    "Delegation provides flexibility in design. It allows for the creation of objects with specialized responsibilities, and these objects can be easily combined and swapped without affecting the overall system."
   ]
  },
  {
   "cell_type": "code",
   "execution_count": 20,
   "id": "12fa4721-77b0-4aba-9fbc-68bcc64ad180",
   "metadata": {},
   "outputs": [
    {
     "name": "stdout",
     "output_type": "stream",
     "text": [
      "Printing document: Hello, world!\n"
     ]
    }
   ],
   "source": [
    "class Printer:\n",
    "    def print_document(self, document):\n",
    "        print(f\"Printing document: {document.get_content()}\")\n",
    "\n",
    "class Document:\n",
    "    def __init__(self, content):\n",
    "        self.content = content\n",
    "        self.printer = Printer()\n",
    "\n",
    "    def get_content(self):\n",
    "        return self.content\n",
    "\n",
    "    def print_self(self):\n",
    "        self.printer.print_document(self)\n",
    "\n",
    "# Example usage\n",
    "document = Document(content=\"Hello, world!\")\n",
    "document.print_self()\n"
   ]
  },
  {
   "cell_type": "markdown",
   "id": "f800bd75-6a12-4c09-9510-a7c18153e196",
   "metadata": {},
   "source": [
    "Benefits of Delegation in Composition:\n",
    "Code Modularity:\n",
    "\n",
    "Delegation supports a modular code structure where individual objects have well-defined responsibilities.\n",
    "Each object encapsulates its behavior, making the codebase more maintainable.\n",
    "Improved Reusability:\n",
    "\n",
    "Objects can be reused in different contexts, as they are not bound by deep class hierarchies.\n",
    "Delegating specific tasks to specialized objects allows for greater flexibility and reusability.\n",
    "Simplified Maintenance:\n",
    "\n",
    "Changes to the behavior of one object do not necessarily affect other objects. This simplifies maintenance and reduces the risk of unintended consequences.\n",
    "Flexible Composition:\n",
    "\n",
    "Objects can be easily composed and recomposed to create different combinations of behavior.\n",
    "Delegation supports the creation of systems with clear and understandable relationships between objects.\n",
    "Encapsulation of Responsibilities:\n",
    "\n",
    "Delegation allows objects to encapsulate specific responsibilities without exposing their internal details.\n",
    "This encapsulation enhances information hiding and abstraction.\n",
    "In summary, delegation in composition is a powerful design concept that simplifies the creation of complex systems by allowing objects to delegate specific tasks to other objects. It promotes code reuse, modularity, and maintainability, making it easier to build flexible and scalable software architectures.\n",
    "\n",
    "\n",
    "\n",
    "\n",
    "\n"
   ]
  },
  {
   "cell_type": "markdown",
   "id": "4ecf60af-9b15-414d-9106-e6ae9d1ad50e",
   "metadata": {},
   "source": [
    "10. Create a Python class for a car, using composition to represent components like the engine, wheels, and\n",
    "transmission."
   ]
  },
  {
   "cell_type": "code",
   "execution_count": 21,
   "id": "1d3059c6-52b5-4dff-97ee-551e94a160f7",
   "metadata": {},
   "outputs": [
    {
     "name": "stdout",
     "output_type": "stream",
     "text": [
      "Car starting\n",
      "Engine starting\n",
      "Transmission shifting gear\n",
      "Wheels rotating\n",
      "Car stopping\n",
      "Engine stopping\n"
     ]
    }
   ],
   "source": [
    "class Engine:\n",
    "    def start(self):\n",
    "        print(\"Engine starting\")\n",
    "\n",
    "    def stop(self):\n",
    "        print(\"Engine stopping\")\n",
    "\n",
    "class Wheels:\n",
    "    def rotate(self):\n",
    "        print(\"Wheels rotating\")\n",
    "\n",
    "class Transmission:\n",
    "    def shift_gear(self):\n",
    "        print(\"Transmission shifting gear\")\n",
    "\n",
    "class Car:\n",
    "    def __init__(self):\n",
    "        self.engine = Engine()\n",
    "        self.wheels = Wheels()\n",
    "        self.transmission = Transmission()\n",
    "\n",
    "    def start(self):\n",
    "        print(\"Car starting\")\n",
    "        self.engine.start()\n",
    "        self.transmission.shift_gear()\n",
    "        self.wheels.rotate()\n",
    "\n",
    "    def stop(self):\n",
    "        print(\"Car stopping\")\n",
    "        self.engine.stop()\n",
    "\n",
    "# Example usage\n",
    "my_car = Car()\n",
    "\n",
    "# Start the car\n",
    "my_car.start()\n",
    "\n",
    "# Stop the car\n",
    "my_car.stop()\n"
   ]
  },
  {
   "cell_type": "markdown",
   "id": "6b8b9c04-a23e-4d28-9a2d-6ac6005ccb0e",
   "metadata": {},
   "source": [
    "11. How can you encapsulate and hide the details of composed objects in Python classes to maintain\n",
    "abstraction?"
   ]
  },
  {
   "cell_type": "markdown",
   "id": "d2fe1e27-7b8d-43eb-b45f-ef1f4e18a7e5",
   "metadata": {},
   "source": [
    "Encapsulation is a fundamental principle in object-oriented programming that involves bundling the data (attributes) and the methods (functions) that operate on the data into a single unit, known as a class. When using composition in Python classes, encapsulation helps hide the details of composed objects, maintaining abstraction and providing a clear interface to the outside world.\n",
    "\n",
    "Here are some ways to encapsulate and hide the details of composed objects in Python classes:\n",
    "\n",
    "1. Private Attributes and Methods:\n",
    "Use private attributes and methods by prefixing them with a double underscore __. This convention makes attributes and methods less accessible from outside the class."
   ]
  },
  {
   "cell_type": "code",
   "execution_count": 22,
   "id": "97abfe0a-fbff-4375-bcf0-3c40ad43f811",
   "metadata": {},
   "outputs": [],
   "source": [
    "class Car:\n",
    "    def __init__(self):\n",
    "        self.__engine = Engine()  # Private attribute\n",
    "\n",
    "    def __start_engine(self):  # Private method\n",
    "        self.__engine.start()\n",
    "\n",
    "    def start(self):\n",
    "        print(\"Car starting\")\n",
    "        self.__start_engine()\n"
   ]
  },
  {
   "cell_type": "markdown",
   "id": "68305061-64ff-47bf-9438-aac5b0ffff62",
   "metadata": {},
   "source": [
    "2. Properties:\n",
    "Use properties to control access to attributes and provide getter and setter methods with additional logic"
   ]
  },
  {
   "cell_type": "code",
   "execution_count": 23,
   "id": "65415a4d-81dc-4016-b172-3060d78b3984",
   "metadata": {},
   "outputs": [],
   "source": [
    "class Car:\n",
    "    def __init__(self):\n",
    "        self._engine = Engine()  # Protected attribute\n",
    "\n",
    "    @property\n",
    "    def engine(self):\n",
    "        return self._engine\n",
    "\n",
    "    @engine.setter\n",
    "    def engine(self, new_engine):\n",
    "        # Additional logic if needed\n",
    "        self._engine = new_engine\n",
    "\n",
    "    def start(self):\n",
    "        print(\"Car starting\")\n",
    "        self._engine.start()\n"
   ]
  },
  {
   "cell_type": "markdown",
   "id": "97e3ec87-cd06-427d-b936-30d5bb918e3e",
   "metadata": {},
   "source": [
    "3. Interface Methods:\n",
    "Define a public interface for your class, and only expose methods that are part of that interface. Keep the internal details hidden."
   ]
  },
  {
   "cell_type": "code",
   "execution_count": 24,
   "id": "b881057f-006f-4be5-a785-b1fec2df1b0f",
   "metadata": {},
   "outputs": [],
   "source": [
    "class Car:\n",
    "    def __init__(self):\n",
    "        self.__engine = Engine()\n",
    "\n",
    "    def start(self):\n",
    "        print(\"Car starting\")\n",
    "        self.__engine.start()\n"
   ]
  },
  {
   "cell_type": "markdown",
   "id": "d7ace64b-f30d-456d-9622-4cd9150ecc68",
   "metadata": {},
   "source": [
    "4. Using slots:\n",
    "Use __slots__ to explicitly declare allowed attributes for a class, restricting the creation of new attributes at runtime."
   ]
  },
  {
   "cell_type": "code",
   "execution_count": 25,
   "id": "1bda5431-6e88-419d-acca-ebe8d1191c03",
   "metadata": {},
   "outputs": [],
   "source": [
    "class Car:\n",
    "    __slots__ = ['__engine']\n",
    "\n",
    "    def __init__(self):\n",
    "        self.__engine = Engine()\n"
   ]
  },
  {
   "cell_type": "markdown",
   "id": "c5a84d7c-91eb-4186-9e6c-0d00f778116e",
   "metadata": {},
   "source": [
    "5. Inner Classes:\n",
    "Use inner classes for composed objects, limiting their visibility to the outer class."
   ]
  },
  {
   "cell_type": "code",
   "execution_count": 26,
   "id": "de27ca63-f348-414d-9715-b6bf30e247de",
   "metadata": {},
   "outputs": [],
   "source": [
    "class Car:\n",
    "    class Engine:\n",
    "        def start(self):\n",
    "            print(\"Engine starting\")\n",
    "\n",
    "    def __init__(self):\n",
    "        self.__engine = self.Engine()\n",
    "\n",
    "    def start(self):\n",
    "        print(\"Car starting\")\n",
    "        self.__engine.start()\n"
   ]
  },
  {
   "cell_type": "code",
   "execution_count": 27,
   "id": "7aa6dfe0-d48a-4e6a-9ea0-4e1366227503",
   "metadata": {},
   "outputs": [
    {
     "name": "stdout",
     "output_type": "stream",
     "text": [
      "Car starting\n",
      "Engine starting\n"
     ]
    }
   ],
   "source": [
    "class Engine:\n",
    "    def start(self):\n",
    "        print(\"Engine starting\")\n",
    "\n",
    "class Car:\n",
    "    def __init__(self):\n",
    "        self.__engine = Engine()\n",
    "\n",
    "    def start(self):\n",
    "        print(\"Car starting\")\n",
    "        self.__engine.start()\n",
    "\n",
    "# Example usage\n",
    "my_car = Car()\n",
    "my_car.start()\n"
   ]
  },
  {
   "cell_type": "markdown",
   "id": "8cfe9953-ca07-43d9-ab2b-eff248fa5dd7",
   "metadata": {},
   "source": [
    "12. Create a Python class for a university course, using composition to represent students, instructors, and\n",
    "course materials."
   ]
  },
  {
   "cell_type": "code",
   "execution_count": 28,
   "id": "8e9b9783-664d-43b3-a597-5c9c189520b5",
   "metadata": {},
   "outputs": [
    {
     "name": "stdout",
     "output_type": "stream",
     "text": [
      "Class for Python Programming is in session\n",
      "Dr. Smith is teaching\n",
      "Alice is studying\n",
      "Bob is studying\n"
     ]
    }
   ],
   "source": [
    "class Student:\n",
    "    def __init__(self, student_id, name):\n",
    "        self.student_id = student_id\n",
    "        self.name = name\n",
    "\n",
    "    def study(self):\n",
    "        print(f\"{self.name} is studying\")\n",
    "\n",
    "class Instructor:\n",
    "    def __init__(self, instructor_id, name):\n",
    "        self.instructor_id = instructor_id\n",
    "        self.name = name\n",
    "\n",
    "    def teach(self):\n",
    "        print(f\"{self.name} is teaching\")\n",
    "\n",
    "class CourseMaterials:\n",
    "    def __init__(self, textbooks, syllabus):\n",
    "        self.textbooks = textbooks\n",
    "        self.syllabus = syllabus\n",
    "\n",
    "class UniversityCourse:\n",
    "    def __init__(self, course_name, instructor, students, course_materials):\n",
    "        self.course_name = course_name\n",
    "        self.instructor = instructor\n",
    "        self.students = students\n",
    "        self.course_materials = course_materials\n",
    "\n",
    "    def conduct_class(self):\n",
    "        print(f\"Class for {self.course_name} is in session\")\n",
    "        self.instructor.teach()\n",
    "\n",
    "        for student in self.students:\n",
    "            student.study()\n",
    "\n",
    "# Example usage\n",
    "student1 = Student(student_id=1, name=\"Alice\")\n",
    "student2 = Student(student_id=2, name=\"Bob\")\n",
    "\n",
    "instructor = Instructor(instructor_id=101, name=\"Dr. Smith\")\n",
    "\n",
    "textbooks = [\"Introduction to Python\", \"Data Structures and Algorithms\"]\n",
    "syllabus = \"Week 1: Introduction, Week 2: Python Basics, ...\"\n",
    "\n",
    "course_materials = CourseMaterials(textbooks=textbooks, syllabus=syllabus)\n",
    "\n",
    "python_course = UniversityCourse(\n",
    "    course_name=\"Python Programming\",\n",
    "    instructor=instructor,\n",
    "    students=[student1, student2],\n",
    "    course_materials=course_materials\n",
    ")\n",
    "\n",
    "python_course.conduct_class()\n"
   ]
  },
  {
   "cell_type": "markdown",
   "id": "1dc7364a-fd05-49c0-a7a2-aa21df7c34a1",
   "metadata": {},
   "source": [
    "13. Discuss the challenges and drawbacks of composition, such as increased complexity and potential for\n",
    "tight coupling between objects."
   ]
  },
  {
   "cell_type": "markdown",
   "id": "b5f40944-0859-42b5-8f1f-be5f578e6227",
   "metadata": {},
   "source": [
    "While composition is a powerful design principle in object-oriented programming, it comes with certain challenges and drawbacks that developers should be aware of. Here are some of the common challenges associated with composition:\n",
    "\n",
    "1. Increased Complexity:\n",
    "Challenge: As the number of composed objects and their relationships increases, the overall complexity of the system can grow.\n",
    "Drawback: Managing and understanding the interactions between multiple objects can become more challenging, especially in large systems.\n",
    "2. Potential for Tight Coupling:\n",
    "Challenge: Composition can lead to tight coupling between objects, where one object is highly dependent on the implementation details of another.\n",
    "Drawback: Tight coupling reduces the flexibility of the system, making it harder to modify or replace individual components without affecting others.\n",
    "3. Difficulties in Maintenance:\n",
    "Challenge: When changes are made to one component, there is a risk of unintentionally affecting other components that rely on it.\n",
    "Drawback: This can lead to difficulties in maintenance and increased likelihood of introducing bugs when modifications are made.\n",
    "4. Potential for Code Duplication:\n",
    "Challenge: In some cases, developers may inadvertently replicate code across multiple composed objects.\n",
    "Drawback: This can result in code duplication, making maintenance more difficult and increasing the chances of inconsistencies.\n",
    "5. Management of Lifetimes:\n",
    "Challenge: Coordinating the creation and destruction of composed objects can be challenging.\n",
    "Drawback: If the lifetime management is not handled properly, it can lead to memory leaks or premature destruction, causing unexpected behavior.\n",
    "6. Performance Overhead:\n",
    "Challenge: Composition may introduce some performance overhead, especially in cases where objects need to interact frequently.\n",
    "Drawback: The overhead may be negligible in many scenarios, but in performance-critical applications, it's essential to consider the impact.\n",
    "7. Initialization Order Dependency:\n",
    "Challenge: The order in which components are initialized can be critical in some cases.\n",
    "Drawback: If there are dependencies between components, the initialization order becomes important and can lead to subtle bugs if not managed properly.\n",
    "8. Interface Proliferation:\n",
    "Challenge: As more components are added, the interfaces between objects may proliferate.\n",
    "Drawback: Managing a large number of interfaces can make the system harder to understand, and changes to interfaces may have a widespread impact.\n",
    "9. Difficulty in Debugging:\n",
    "Challenge: Debugging a system with numerous composed objects can be more challenging than debugging simpler systems.\n",
    "Drawback: Identifying the source of issues and understanding the flow of control can be more complex, leading to longer debugging times.\n",
    "10. Inconsistencies Across Components:\n",
    "Challenge:\n",
    "Ensuring consistency across multiple composed components can be challenging.\n",
    "\n",
    "Drawback: Inconsistencies in behavior or data representation between components may lead to unexpected outcomes and difficulties in maintaining a coherent system.\n",
    "Mitigating Challenges:\n",
    "Clear Design and Documentation:\n",
    "\n",
    "Clearly define the responsibilities of each class and document the interactions between composed objects.\n",
    "Use Interfaces:\n",
    "\n",
    "Define clear interfaces between composed objects to reduce coupling and provide a contract for expected behavior.\n",
    "Dependency Injection:\n",
    "\n",
    "Use dependency injection to pass dependencies into objects rather than creating them internally, allowing for better control and testing.\n",
    "Design Patterns:\n",
    "\n",
    "Leverage design patterns such as the Observer pattern, Factory pattern, or Dependency Injection pattern to address specific challenges.\n",
    "Unit Testing:\n",
    "\n",
    "Implement comprehensive unit testing to ensure that individual components behave as expected and catch regressions early.\n",
    "Encapsulation:\n",
    "\n",
    "Maintain encapsulation to hide the internal details of composed objects, reducing the likelihood of unintended dependencies.\n",
    "Consistent Naming Conventions:\n",
    "\n",
    "Adopt consistent naming conventions for interfaces and methods to improve code readability and maintainability.\n",
    "Lifecycle Management:\n",
    "\n",
    "Carefully manage the lifetimes of composed objects to prevent memory leaks or premature destruction. Consider using smart pointers or reference counting where applicable.\n",
    "Refactoring:\n",
    "\n",
    "Regularly review and refactor the codebase to eliminate duplication, improve clarity, and address emerging challenges.\n",
    "Code Reviews:\n",
    "\n",
    "Conduct code reviews to ensure that multiple developers are aligned with the design principles and to catch potential issues early.\n",
    "While composition introduces challenges, many of these challenges can be mitigated through thoughtful design, proper encapsulation, and adherence to best practices. Additionally, the benefits of composition, such as code modularity, reusability, and flexibility, often outweigh these challenges, making it a valuable design approach in many situations.\n",
    "\n",
    "\n",
    "\n",
    "\n",
    "\n"
   ]
  },
  {
   "cell_type": "markdown",
   "id": "fae2d9eb-bac6-4975-8549-bb7590781a56",
   "metadata": {},
   "source": [
    "14. Create a Python class hierarchy for a restaurant system, using composition to represent menus, dishes,\n",
    "and ingredients."
   ]
  },
  {
   "cell_type": "code",
   "execution_count": 30,
   "id": "6db90cdb-3f7f-4a1b-821d-65869059dc8b",
   "metadata": {},
   "outputs": [
    {
     "name": "stdout",
     "output_type": "stream",
     "text": [
      "Menu: Special Menu\n",
      "Dishes:\n",
      "Chicken Stir-Fry: A delicious stir-fry with chicken and broccoli\n",
      "Ingredients:\n",
      "  - 200 grams of Chicken\n",
      "  - 150 grams of Broccoli\n",
      "  - 2 tablespoons of Soy Sauce\n",
      "\n",
      "------------------------------\n",
      "\n",
      "Grilled Salmon: Freshly grilled salmon with asparagus\n",
      "Ingredients:\n",
      "  - 180 grams of Salmon\n",
      "  - 200 grams of Asparagus\n",
      "  - 1 piece of Lemon\n",
      "\n",
      "------------------------------\n",
      "\n"
     ]
    }
   ],
   "source": [
    "class Ingredient:\n",
    "    def __init__(self, name, quantity, unit):\n",
    "        self.name = name\n",
    "        self.quantity = quantity\n",
    "        self.unit = unit\n",
    "\n",
    "    def __str__(self):\n",
    "        return f\"{self.quantity} {self.unit} of {self.name}\"\n",
    "\n",
    "class Dish:\n",
    "    def __init__(self, name, description, ingredients):\n",
    "        self.name = name\n",
    "        self.description = description\n",
    "        self.ingredients = ingredients\n",
    "\n",
    "    def display(self):\n",
    "        print(f\"{self.name}: {self.description}\")\n",
    "        print(\"Ingredients:\")\n",
    "        for ingredient in self.ingredients:\n",
    "            print(f\"  - {ingredient}\")\n",
    "\n",
    "class Menu:\n",
    "    def __init__(self, name, dishes):\n",
    "        self.name = name\n",
    "        self.dishes = dishes\n",
    "\n",
    "    def display(self):\n",
    "        print(f\"Menu: {self.name}\")\n",
    "        print(\"Dishes:\")\n",
    "        for dish in self.dishes:\n",
    "            dish.display()\n",
    "            print(\"\\n\" + \"-\" * 30 + \"\\n\")\n",
    "\n",
    "# Example usage\n",
    "ingredient1 = Ingredient(name=\"Chicken\", quantity=200, unit=\"grams\")\n",
    "ingredient2 = Ingredient(name=\"Broccoli\", quantity=150, unit=\"grams\")\n",
    "ingredient3 = Ingredient(name=\"Soy Sauce\", quantity=2, unit=\"tablespoons\")\n",
    "\n",
    "dish1 = Dish(name=\"Chicken Stir-Fry\", description=\"A delicious stir-fry with chicken and broccoli\", ingredients=[ingredient1, ingredient2, ingredient3])\n",
    "\n",
    "ingredient4 = Ingredient(name=\"Salmon\", quantity=180, unit=\"grams\")\n",
    "ingredient5 = Ingredient(name=\"Asparagus\", quantity=200, unit=\"grams\")\n",
    "ingredient6 = Ingredient(name=\"Lemon\", quantity=1, unit=\"piece\")\n",
    "\n",
    "dish2 = Dish(name=\"Grilled Salmon\", description=\"Freshly grilled salmon with asparagus\", ingredients=[ingredient4, ingredient5, ingredient6])\n",
    "\n",
    "menu = Menu(name=\"Special Menu\", dishes=[dish1, dish2])\n",
    "menu.display()\n"
   ]
  },
  {
   "cell_type": "markdown",
   "id": "3ced654d-6233-4753-bba2-b2bb2561d344",
   "metadata": {},
   "source": [
    "15. Explain how composition enhances code maintainability and modularity in Python programs."
   ]
  },
  {
   "cell_type": "markdown",
   "id": "e25c8671-9b67-47a1-bf65-3476f685e152",
   "metadata": {},
   "source": [
    "Composition enhances code maintainability and modularity in Python programs by promoting a design approach where complex systems are built from simpler, more manageable components. Here are some key ways in which composition contributes to code maintainability and modularity:\n",
    "\n",
    "1. Separation of Concerns:\n",
    "Composition allows you to break down a system into smaller, self-contained components, each responsible for a specific aspect of functionality. This separation of concerns makes the codebase more understandable and maintainable.\n",
    "2. Code Reusability:\n",
    "Composed objects can be reused in different contexts, reducing the need for redundant code. This reusability is essential for maintaining consistency and avoiding code duplication.\n",
    "3. Encapsulation:\n",
    "Each component in a composition can encapsulate its own behavior and internal details. This encapsulation hides the complexity of the implementation, providing a clear and well-defined interface for interaction.\n",
    "4. Flexibility and Adaptability:\n",
    "Composing objects allows you to build flexible systems that can adapt to changing requirements. If a component needs to be modified or replaced, it can be done without affecting the entire system.\n",
    "5. Scalability:\n",
    "As the size and complexity of a system grow, composition facilitates scalability. New components can be added without disrupting existing functionality, making it easier to extend the system.\n",
    "6. Ease of Testing:\n",
    "Composed objects can be individually tested in isolation, promoting effective unit testing. This isolation simplifies the identification and resolution of issues during the testing phase.\n",
    "7. Clear Interfaces:\n",
    "Composition encourages the definition of clear interfaces between components. Well-defined interfaces make it easier for developers to understand how to interact with each component, promoting consistency and reducing the likelihood of errors.\n",
    "8. Modular Design:\n",
    "Composition naturally leads to a modular design, where each module represents a cohesive set of functionalities. These modules can be developed, tested, and maintained independently, making the codebase more modular and easier to manage.\n",
    "9. Simplification of Complex Systems:\n",
    "Complex systems can be decomposed into simpler, more manageable parts through composition. This simplification makes it easier to reason about and understand the overall system.\n",
    "10. Reduced Dependency Chains:"
   ]
  },
  {
   "cell_type": "code",
   "execution_count": 31,
   "id": "a8552ffe-94e0-46de-a47a-cd57828aee5b",
   "metadata": {},
   "outputs": [
    {
     "name": "stdout",
     "output_type": "stream",
     "text": [
      "Car starting\n",
      "Engine starting\n",
      "Transmission shifting gear\n",
      "Wheels rotating\n"
     ]
    }
   ],
   "source": [
    "class Engine:\n",
    "    def start(self):\n",
    "        print(\"Engine starting\")\n",
    "\n",
    "class Transmission:\n",
    "    def shift_gear(self):\n",
    "        print(\"Transmission shifting gear\")\n",
    "\n",
    "class Wheels:\n",
    "    def rotate(self):\n",
    "        print(\"Wheels rotating\")\n",
    "\n",
    "class Car:\n",
    "    def __init__(self, engine, transmission, wheels):\n",
    "        self.engine = engine\n",
    "        self.transmission = transmission\n",
    "        self.wheels = wheels\n",
    "\n",
    "    def start(self):\n",
    "        print(\"Car starting\")\n",
    "        self.engine.start()\n",
    "        self.transmission.shift_gear()\n",
    "        self.wheels.rotate()\n",
    "\n",
    "# Example usage\n",
    "engine = Engine()\n",
    "transmission = Transmission()\n",
    "wheels = Wheels()\n",
    "\n",
    "my_car = Car(engine, transmission, wheels)\n",
    "my_car.start()\n"
   ]
  },
  {
   "cell_type": "markdown",
   "id": "4c929071-1637-4633-ac80-2767bb637d2f",
   "metadata": {},
   "source": [
    "16. Create a Python class for a computer game character, using composition to represent attributes like\n",
    "weapons, armor, and inventory."
   ]
  },
  {
   "cell_type": "code",
   "execution_count": 32,
   "id": "90481bef-fa0b-4aff-94bb-f94fb6368ebd",
   "metadata": {},
   "outputs": [
    {
     "name": "stdout",
     "output_type": "stream",
     "text": [
      "Hero attacks Enemy!\n",
      "Attacking with Sword, dealing 20 damage\n",
      "Enemy defends!\n",
      "Wearing Helmet for 5 defense\n",
      "Added Health Potion to the inventory\n"
     ]
    }
   ],
   "source": [
    "class Weapon:\n",
    "    def __init__(self, name, damage):\n",
    "        self.name = name\n",
    "        self.damage = damage\n",
    "\n",
    "    def attack(self):\n",
    "        print(f\"Attacking with {self.name}, dealing {self.damage} damage\")\n",
    "\n",
    "class Armor:\n",
    "    def __init__(self, name, defense):\n",
    "        self.name = name\n",
    "        self.defense = defense\n",
    "\n",
    "    def defend(self):\n",
    "        print(f\"Wearing {self.name} for {self.defense} defense\")\n",
    "\n",
    "class Inventory:\n",
    "    def __init__(self):\n",
    "        self.items = []\n",
    "\n",
    "    def add_item(self, item):\n",
    "        self.items.append(item)\n",
    "        print(f\"Added {item} to the inventory\")\n",
    "\n",
    "class GameCharacter:\n",
    "    def __init__(self, name, health, weapon, armor):\n",
    "        self.name = name\n",
    "        self.health = health\n",
    "        self.weapon = weapon\n",
    "        self.armor = armor\n",
    "        self.inventory = Inventory()\n",
    "\n",
    "    def attack(self, target):\n",
    "        print(f\"{self.name} attacks {target.name}!\")\n",
    "        self.weapon.attack()\n",
    "\n",
    "    def defend(self):\n",
    "        print(f\"{self.name} defends!\")\n",
    "        self.armor.defend()\n",
    "\n",
    "# Example usage\n",
    "sword = Weapon(name=\"Sword\", damage=20)\n",
    "shield = Armor(name=\"Shield\", defense=10)\n",
    "\n",
    "hero = GameCharacter(name=\"Hero\", health=100, weapon=sword, armor=shield)\n",
    "enemy = GameCharacter(name=\"Enemy\", health=80, weapon=Weapon(name=\"Axe\", damage=15), armor=Armor(name=\"Helmet\", defense=5))\n",
    "\n",
    "hero.attack(enemy)\n",
    "enemy.defend()\n",
    "\n",
    "hero.inventory.add_item(\"Health Potion\")\n"
   ]
  },
  {
   "cell_type": "markdown",
   "id": "1c7c9ace-e3bc-43c2-896f-f4b0f76f6cd9",
   "metadata": {},
   "source": [
    "17. Describe the concept of \"aggregation\" in composition and how it differs from simple composition."
   ]
  },
  {
   "cell_type": "markdown",
   "id": "6fb95b64-12f1-449d-a92a-ab6baf85dbf1",
   "metadata": {},
   "source": [
    "In object-oriented programming, \"aggregation\" is a form of composition where one class contains another class as a part, but the contained class can exist independently of the container. Aggregation represents a \"has-a\" relationship between the container and the contained object. It differs from simple composition in terms of the relationship's strength and the lifespan of the objects involved.\n",
    "\n",
    "Here are key characteristics of aggregation:\n",
    "\n",
    "Independent Lifespan:\n",
    "\n",
    "In aggregation, the contained object has an independent existence and can exist outside the scope of the container. The contained object can be created and used independently of the container.\n",
    "Loose Coupling:\n",
    "\n",
    "Aggregation involves a relatively loose coupling between the container and the contained object. Changes to the container do not necessarily impact the contained object, and vice versa.\n",
    "Multiplicity:\n",
    "\n",
    "Aggregation can involve a \"one-to-many\" relationship, meaning that a single container can have multiple instances of the contained object. The multiplicity allows for flexibility and the creation of more complex structures.\n",
    "Bi-Directional Relationship:\n",
    "\n",
    "The relationship between the container and the contained object is often bidirectional. While the container holds a reference to the contained object, the contained object may also have a reference back to the container."
   ]
  },
  {
   "cell_type": "code",
   "execution_count": 33,
   "id": "745af718-1db3-4434-9ff1-c7e5e50ff58c",
   "metadata": {},
   "outputs": [],
   "source": [
    "class Employee:\n",
    "    def __init__(self, employee_id, name):\n",
    "        self.employee_id = employee_id\n",
    "        self.name = name\n",
    "\n",
    "class Department:\n",
    "    def __init__(self, department_id, name):\n",
    "        self.department_id = department_id\n",
    "        self.name = name\n",
    "        self.employees = []  # Aggregation: Department has a list of Employee objects\n",
    "\n",
    "    def add_employee(self, employee):\n",
    "        self.employees.append(employee)\n",
    "\n",
    "# Example usage\n",
    "employee1 = Employee(employee_id=1, name=\"Alice\")\n",
    "employee2 = Employee(employee_id=2, name=\"Bob\")\n",
    "\n",
    "department = Department(department_id=101, name=\"Engineering\")\n",
    "department.add_employee(employee1)\n",
    "department.add_employee(employee2)\n"
   ]
  },
  {
   "cell_type": "markdown",
   "id": "77f0b2cd-1466-4a3f-9b75-bca3ac6a684b",
   "metadata": {},
   "source": [
    "Difference from Simple Composition:\n",
    "In simple composition, the contained object is usually created within the container's constructor, and the contained object is tightly bound to the container. In aggregation, the contained object can exist independently and may be added or removed from the container during its lifespan.\n",
    "\n",
    "Here's a brief comparison:\n",
    "\n",
    "Composition:\n",
    "\n",
    "The contained object is usually created within the container's constructor.\n",
    "The contained object is owned by the container and typically cannot exist independently.\n",
    "The relationship is often considered stronger, and changes to the container may directly impact the contained object.\n",
    "Aggregation:\n",
    "\n",
    "The contained object can exist independently and may have a lifespan beyond that of the container.\n",
    "The relationship is looser, and changes to the container do not necessarily affect the contained object.\n",
    "Multiplicity is common, allowing one container to have multiple instances of the contained object.\n",
    "In summary, aggregation is a form of composition that emphasizes a more flexible and independent relationship between the container and the contained object. It allows for the creation of complex structures and supports scenarios where objects can exist independently while being part of a larger whole.\n",
    "\n",
    "\n",
    "\n",
    "\n",
    "\n"
   ]
  },
  {
   "cell_type": "markdown",
   "id": "635de908-c9a6-43e2-9fef-2196c0e08e58",
   "metadata": {},
   "source": [
    "18. Create a Python class for a house, using composition to represent rooms, furniture, and appliances."
   ]
  },
  {
   "cell_type": "code",
   "execution_count": 34,
   "id": "4739ab93-0725-457b-af86-cbbf1b21a7ce",
   "metadata": {},
   "outputs": [
    {
     "name": "stdout",
     "output_type": "stream",
     "text": [
      "Added Sofa to the Living Room\n",
      "Added Coffee Table to the Living Room\n",
      "Added TV to the Living Room\n",
      "Added Refrigerator to the Kitchen\n",
      "Added Oven to the Kitchen\n",
      "Added Living Room to the My House\n",
      "Added Kitchen to the My House\n",
      "My House details:\n",
      "\n",
      "Living Room details:\n",
      "Furniture:\n",
      "  - Sofa\n",
      "  - Coffee Table\n",
      "Appliances:\n",
      "  - TV\n",
      "\n",
      "Kitchen details:\n",
      "Furniture:\n",
      "Appliances:\n",
      "  - Refrigerator\n",
      "  - Oven\n"
     ]
    }
   ],
   "source": [
    "class Furniture:\n",
    "    def __init__(self, name):\n",
    "        self.name = name\n",
    "\n",
    "    def __str__(self):\n",
    "        return f\"{self.name}\"\n",
    "\n",
    "class Appliance:\n",
    "    def __init__(self, name):\n",
    "        self.name = name\n",
    "\n",
    "    def __str__(self):\n",
    "        return f\"{self.name}\"\n",
    "\n",
    "class Room:\n",
    "    def __init__(self, name):\n",
    "        self.name = name\n",
    "        self.furniture = []\n",
    "        self.appliances = []\n",
    "\n",
    "    def add_furniture(self, furniture):\n",
    "        self.furniture.append(furniture)\n",
    "        print(f\"Added {furniture} to the {self.name}\")\n",
    "\n",
    "    def add_appliance(self, appliance):\n",
    "        self.appliances.append(appliance)\n",
    "        print(f\"Added {appliance} to the {self.name}\")\n",
    "\n",
    "    def describe(self):\n",
    "        print(f\"\\n{self.name} details:\")\n",
    "        print(\"Furniture:\")\n",
    "        for item in self.furniture:\n",
    "            print(f\"  - {item}\")\n",
    "        print(\"Appliances:\")\n",
    "        for item in self.appliances:\n",
    "            print(f\"  - {item}\")\n",
    "\n",
    "class House:\n",
    "    def __init__(self, name):\n",
    "        self.name = name\n",
    "        self.rooms = []\n",
    "\n",
    "    def add_room(self, room):\n",
    "        self.rooms.append(room)\n",
    "        print(f\"Added {room.name} to the {self.name}\")\n",
    "\n",
    "    def describe(self):\n",
    "        print(f\"{self.name} details:\")\n",
    "        for room in self.rooms:\n",
    "            room.describe()\n",
    "\n",
    "# Example usage\n",
    "living_room = Room(name=\"Living Room\")\n",
    "living_room.add_furniture(Furniture(\"Sofa\"))\n",
    "living_room.add_furniture(Furniture(\"Coffee Table\"))\n",
    "living_room.add_appliance(Appliance(\"TV\"))\n",
    "\n",
    "kitchen = Room(name=\"Kitchen\")\n",
    "kitchen.add_appliance(Appliance(\"Refrigerator\"))\n",
    "kitchen.add_appliance(Appliance(\"Oven\"))\n",
    "\n",
    "my_house = House(name=\"My House\")\n",
    "my_house.add_room(living_room)\n",
    "my_house.add_room(kitchen)\n",
    "\n",
    "my_house.describe()\n"
   ]
  },
  {
   "cell_type": "markdown",
   "id": "970f384d-ffc1-4d7c-a7c1-0ada108f53c5",
   "metadata": {},
   "source": [
    "19. How can you achieve flexibility in composed objects by allowing them to be replaced or modified\n",
    "dynamically at runtime?"
   ]
  },
  {
   "cell_type": "markdown",
   "id": "72ee1eb4-62ac-4d19-a7cd-538e9d502ab1",
   "metadata": {},
   "source": [
    "Achieving flexibility in composed objects, allowing them to be replaced or modified dynamically at runtime, can be accomplished through design patterns and programming techniques. Here are some approaches to achieve such flexibility:\n",
    "\n",
    "1. Using Interfaces or Abstract Classes:\n",
    "Define interfaces or abstract classes for the components within the composed objects. This allows you to replace or modify components with objects that adhere to the same interface."
   ]
  },
  {
   "cell_type": "code",
   "execution_count": 35,
   "id": "664ca297-7912-4886-8508-65ef3bf61631",
   "metadata": {},
   "outputs": [],
   "source": [
    "class Component:\n",
    "    def operation(self):\n",
    "        pass\n",
    "\n",
    "class ConcreteComponentA(Component):\n",
    "    def operation(self):\n",
    "        return \"Concrete Component A\"\n",
    "\n",
    "class ConcreteComponentB(Component):\n",
    "    def operation(self):\n",
    "        return \"Concrete Component B\"\n"
   ]
  },
  {
   "cell_type": "markdown",
   "id": "94cadcfc-1392-483a-a2ac-4cfb3b63e299",
   "metadata": {},
   "source": [
    "2. Dependency Injection:\n",
    "Use dependency injection to inject components into the composed objects. This allows you to replace or modify components dynamically by providing different implementations at runtime."
   ]
  },
  {
   "cell_type": "code",
   "execution_count": 36,
   "id": "66de22c3-fc87-417c-b97d-01c53bbbb01f",
   "metadata": {},
   "outputs": [],
   "source": [
    "class ComposedObject:\n",
    "    def __init__(self, component):\n",
    "        self.component = component\n",
    "\n",
    "    def operation(self):\n",
    "        return self.component.operation()\n"
   ]
  },
  {
   "cell_type": "markdown",
   "id": "d7c383ce-76b1-40c8-b653-13563fd97b30",
   "metadata": {},
   "source": [
    "3. Factory Method Pattern:\n",
    "Implement the Factory Method pattern to create instances of components dynamically. This allows you to switch between different implementations of components."
   ]
  },
  {
   "cell_type": "code",
   "execution_count": 37,
   "id": "2823f544-5c03-4943-9d9b-6acd29638d1e",
   "metadata": {},
   "outputs": [],
   "source": [
    "class ComponentFactory:\n",
    "    def create_component(self):\n",
    "        pass\n",
    "\n",
    "class ConcreteComponentAFactory(ComponentFactory):\n",
    "    def create_component(self):\n",
    "        return ConcreteComponentA()\n",
    "\n",
    "class ConcreteComponentBFactory(ComponentFactory):\n",
    "    def create_component(self):\n",
    "        return ConcreteComponentB()\n"
   ]
  },
  {
   "cell_type": "markdown",
   "id": "54d537d6-a11e-4780-80ae-089a84b47ec0",
   "metadata": {},
   "source": [
    "4. Strategy Pattern:\n",
    "Apply the Strategy Pattern to define a family of algorithms, encapsulate each algorithm, and make them interchangeable. This allows you to dynamically switch between different strategies."
   ]
  },
  {
   "cell_type": "code",
   "execution_count": 38,
   "id": "4e4a1b33-e6f8-4c4e-8a67-709f371cda72",
   "metadata": {},
   "outputs": [],
   "source": [
    "class Strategy:\n",
    "    def algorithm(self):\n",
    "        pass\n",
    "\n",
    "class ConcreteStrategyA(Strategy):\n",
    "    def algorithm(self):\n",
    "        return \"Concrete Strategy A\"\n",
    "\n",
    "class ConcreteStrategyB(Strategy):\n",
    "    def algorithm(self):\n",
    "        return \"Concrete Strategy B\"\n",
    "\n",
    "class Context:\n",
    "    def __init__(self, strategy):\n",
    "        self.strategy = strategy\n",
    "\n",
    "    def execute_strategy(self):\n",
    "        return self.strategy.algorithm()\n"
   ]
  },
  {
   "cell_type": "markdown",
   "id": "30298c6a-9979-47d9-8c4e-9aad211e8327",
   "metadata": {},
   "source": [
    "5. Decorator Pattern:\n",
    "Utilize the Decorator Pattern to dynamically add or modify the behavior of objects. This allows you to wrap objects with additional functionality."
   ]
  },
  {
   "cell_type": "code",
   "execution_count": 39,
   "id": "8d171263-ef01-4f22-a107-055be6ae87a2",
   "metadata": {},
   "outputs": [],
   "source": [
    "class Component:\n",
    "    def operation(self):\n",
    "        pass\n",
    "\n",
    "class ConcreteComponent(Component):\n",
    "    def operation(self):\n",
    "        return \"Concrete Component\"\n",
    "\n",
    "class Decorator(Component):\n",
    "    def __init__(self, component):\n",
    "        self.component = component\n",
    "\n",
    "    def operation(self):\n",
    "        return f\"Decorator({self.component.operation()})\"\n"
   ]
  },
  {
   "cell_type": "markdown",
   "id": "66a2220e-9712-4744-8a6b-e1e1f029f875",
   "metadata": {},
   "source": [
    "Example Using Dependency Injection:"
   ]
  },
  {
   "cell_type": "code",
   "execution_count": 40,
   "id": "26fbc54b-71b7-493b-b435-29c76758f01a",
   "metadata": {},
   "outputs": [
    {
     "name": "stdout",
     "output_type": "stream",
     "text": [
      "Component A\n",
      "Component B\n"
     ]
    }
   ],
   "source": [
    "class ComposedObject:\n",
    "    def __init__(self, component):\n",
    "        self.component = component\n",
    "\n",
    "    def operation(self):\n",
    "        return self.component.operation()\n",
    "\n",
    "class ComponentA:\n",
    "    def operation(self):\n",
    "        return \"Component A\"\n",
    "\n",
    "class ComponentB:\n",
    "    def operation(self):\n",
    "        return \"Component B\"\n",
    "\n",
    "# Example usage\n",
    "obj_with_component_a = ComposedObject(ComponentA())\n",
    "print(obj_with_component_a.operation())\n",
    "\n",
    "obj_with_component_b = ComposedObject(ComponentB())\n",
    "print(obj_with_component_b.operation())\n"
   ]
  },
  {
   "cell_type": "markdown",
   "id": "513630d7-ab30-484f-bbbd-bae958db7679",
   "metadata": {},
   "source": [
    "20. Create a Python class for a social media application, using composition to represent users, posts, and\n",
    "comments."
   ]
  },
  {
   "cell_type": "code",
   "execution_count": 41,
   "id": "ba2f66db-208e-4e34-aa36-0f78debc6121",
   "metadata": {},
   "outputs": [
    {
     "name": "stdout",
     "output_type": "stream",
     "text": [
      "Alice's Posts:\n",
      " - Hello, everyone! This is my first post.\n",
      "Alice's Comments:\n",
      " - Thanks, Bob! on Post: Hello, everyone! This is my first post.\n"
     ]
    }
   ],
   "source": [
    "class User:\n",
    "    def __init__(self, user_id, username):\n",
    "        self.user_id = user_id\n",
    "        self.username = username\n",
    "        self.posts = []\n",
    "        self.comments = []\n",
    "\n",
    "    def create_post(self, content):\n",
    "        post = Post(author=self, content=content)\n",
    "        self.posts.append(post)\n",
    "        return post\n",
    "\n",
    "    def add_comment(self, post, content):\n",
    "        comment = Comment(author=self, post=post, content=content)\n",
    "        post.add_comment(comment)\n",
    "        self.comments.append(comment)\n",
    "        return comment\n",
    "\n",
    "    def display_posts(self):\n",
    "        print(f\"{self.username}'s Posts:\")\n",
    "        for post in self.posts:\n",
    "            print(f\" - {post.content}\")\n",
    "\n",
    "    def display_comments(self):\n",
    "        print(f\"{self.username}'s Comments:\")\n",
    "        for comment in self.comments:\n",
    "            print(f\" - {comment.content} on Post: {comment.post.content}\")\n",
    "\n",
    "class Post:\n",
    "    def __init__(self, author, content):\n",
    "        self.author = author\n",
    "        self.content = content\n",
    "        self.comments = []\n",
    "\n",
    "    def add_comment(self, comment):\n",
    "        self.comments.append(comment)\n",
    "\n",
    "class Comment:\n",
    "    def __init__(self, author, post, content):\n",
    "        self.author = author\n",
    "        self.post = post\n",
    "        self.content = content\n",
    "\n",
    "# Example usage\n",
    "user1 = User(user_id=1, username=\"Alice\")\n",
    "user2 = User(user_id=2, username=\"Bob\")\n",
    "\n",
    "post1 = user1.create_post(\"Hello, everyone! This is my first post.\")\n",
    "comment1 = user2.add_comment(post1, \"Nice post, Alice!\")\n",
    "comment2 = user1.add_comment(post1, \"Thanks, Bob!\")\n",
    "\n",
    "user1.display_posts()\n",
    "user1.display_comments()\n"
   ]
  },
  {
   "cell_type": "markdown",
   "id": "811784ea-bffc-47da-8753-f42c0145bad8",
   "metadata": {},
   "source": [
    "OOPS ASSIHNMENT FINISH "
   ]
  },
  {
   "cell_type": "code",
   "execution_count": null,
   "id": "ebcabcfd-8c92-4525-b271-1f7e0fbfbd02",
   "metadata": {},
   "outputs": [],
   "source": []
  }
 ],
 "metadata": {
  "kernelspec": {
   "display_name": "Python 3 (ipykernel)",
   "language": "python",
   "name": "python3"
  },
  "language_info": {
   "codemirror_mode": {
    "name": "ipython",
    "version": 3
   },
   "file_extension": ".py",
   "mimetype": "text/x-python",
   "name": "python",
   "nbconvert_exporter": "python",
   "pygments_lexer": "ipython3",
   "version": "3.10.8"
  }
 },
 "nbformat": 4,
 "nbformat_minor": 5
}
